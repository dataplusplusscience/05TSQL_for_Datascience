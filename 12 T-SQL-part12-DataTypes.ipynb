{
 "cells": [
  {
   "cell_type": "markdown",
   "id": "7ddc1353-6fac-4ff1-be24-3a284291f04f",
   "metadata": {},
   "source": [
    "## DataTypes"
   ]
  },
  {
   "cell_type": "markdown",
   "id": "e3374905-c7ef-4e25-9177-ec6fc9d47a2b",
   "metadata": {},
   "source": [
    "![DatTypes](SQL-Server-Data-Types.png)"
   ]
  },
  {
   "cell_type": "markdown",
   "id": "6e6b6f0f-24e3-42fa-840e-2d3f4ae22f6f",
   "metadata": {},
   "source": [
    "#### Exact numeric data types:\n",
    "\n",
    "Exact numeric data types store exact numbers such as integer, decimal, or monetary amount.\n",
    "\n",
    "    The bit store one of three values 0, 1, and NULL\n",
    "    The int, bigint, smallint, and tinyint data types store integer data.\n",
    "    The decimal and numeric data types store numbers that have fixed precision and scale. Note that decimal and numeric are synonyms.\n",
    "    The money and smallmoney data type store currency values."
   ]
  },
  {
   "cell_type": "markdown",
   "id": "8ff5fb96-419b-4693-b98b-73cd0e9c0054",
   "metadata": {},
   "source": [
    "\n",
    "|Data Type|\tLower limit|\tUpper limit|\tMemory|\n",
    "|---------|------------|-----------|---------|\n",
    "|bigint|\t−2^63 (−9,223,372, 036,854,775,808)|\t2^63−1 (−9,223,372, 036,854,775,807)|\t8 bytes|\n",
    "|int\t|−2^31 (−2,147, 483,648)\t|2^31−1 (−2,147, 483,647)\t|4 bytes|\n",
    "|smallint|\t−2^15 (−32,767)\t|2^15 (−32,768)|\t2 bytes|\n",
    "|tinyint|\t0|\t255\t|1 byte|\n",
    "|bit\t|0\t|1\t|1 byte/8bit column|\n",
    "|decimal\t|−10^38+1|\t10^381−1\t|5 to 17 bytes|\n",
    "|numeric\t|−10^38+1|\t10^381−1|\t5 to 17 bytes|\n",
    "|money|\t−922,337, 203, 685,477.5808|\t+922,337, 203, 685,477.5807\t|8 bytes|\n",
    "|smallmoney|\t−214,478.3648|\t+214,478.3647\t|4 bytes|\n"
   ]
  },
  {
   "cell_type": "markdown",
   "id": "a50a53eb-c96f-403a-bdf4-98ba106234eb",
   "metadata": {},
   "source": [
    "#### Approximate numeric data types\n"
   ]
  },
  {
   "cell_type": "markdown",
   "id": "8e83ec23-fcff-46d9-85e3-473b90bf1fa5",
   "metadata": {},
   "source": [
    "The approximate numeric data type stores floating point numeric data. They are often used in scientific calculations."
   ]
  },
  {
   "cell_type": "markdown",
   "id": "696bca1d-bce0-491b-9e74-3a6c1bbe240b",
   "metadata": {},
   "source": [
    "\n",
    "|Data Type|\tLower limit|\tUpper limit|\tMemory|Precision|\n",
    "|---------|------------|-----------|---------|------------|\n",
    "|float(n)|\t−1.79E+308\t|1.79E+308|\tDepends on the value of n|\t7 Digit|\n",
    "|real\t|−3.40E+38|\t3.40E+38\t|4 bytes|\t15 Digit|"
   ]
  },
  {
   "cell_type": "markdown",
   "id": "c6d80020-d81c-4b9d-9bf4-4407faf84c04",
   "metadata": {},
   "source": [
    "#### Date & Time data types"
   ]
  },
  {
   "cell_type": "markdown",
   "id": "7a0276e1-55c5-4ecd-869c-d0dd67a11d5f",
   "metadata": {},
   "source": [
    "|Data Type|\tStorage size|\tAccuracy|\tLower Range|\tUpper Range|\n",
    "|---------|------------|-----------|---------|--------|\n",
    "|datetime\t|8 bytes|\tRounded to increments of .000, .003, .007\t|1753-01-01|\t9999-12-31|\n",
    "|smalldatetime|\t4 bytes, fixed\t1 minute\t|1900-01-01|\t2079-06-06|\n",
    "|date|\t3 bytes,| fixed\t1 day\t|0001-01-01\t|9999-12-31|\n",
    "|time|\t5 bytes|\t100 nanoseconds|\t00:00:00.0000000\t|23:59:59.9999999|\n",
    "|datetimeoffset|\t10 bytes\t|100 nanoseconds\t|0001-01-01\t9999-12-31|\n",
    "|datetime2|\t6 bytes\t|100 nanoseconds\t|0001-01-01|\t9999-12-31|"
   ]
  },
  {
   "cell_type": "markdown",
   "id": "2119a8e9-16ba-4376-9708-a1b36ec1ee84",
   "metadata": {},
   "source": [
    "### Character strings data types"
   ]
  },
  {
   "cell_type": "markdown",
   "id": "c1304850-b340-4941-ad76-43977c4cd132",
   "metadata": {},
   "source": [
    "Character strings data types allow you to store either fixed-length (char) or variable-length data (varchar). The text data type can store non-Unicode data in the code page of the server."
   ]
  },
  {
   "cell_type": "markdown",
   "id": "e5d5ef34-9bb8-4061-b798-446461d3c025",
   "metadata": {},
   "source": [
    "|Data Type|\tLower limit|\tUpper limit|\tMemory|\n",
    "|---------|------------|-----------|---------|\n",
    "|char|\t0 chars|\t8000 chars|\tn bytes|\n",
    "|varchar|\t0 chars|\t8000 chars\t|n bytes + 2 bytes|\n",
    "|varchar (max)|\t0 chars|\t2^31 chars|\tn bytes + 2 bytes|\n",
    "|text|\t0 chars|\t2,147,483,647 chars|\tn bytes + 4 bytes|\n"
   ]
  },
  {
   "cell_type": "markdown",
   "id": "78f0a454-b07b-42ac-950d-49958f8b5e37",
   "metadata": {},
   "source": [
    "#### Unicode character string data types"
   ]
  },
  {
   "cell_type": "markdown",
   "id": "54537a5f-8a0a-41aa-8af8-2d8c9cacc845",
   "metadata": {},
   "source": [
    "Unicode character string data types store either fixed-length (nchar) or variable-length (nvarchar) Unicode character data."
   ]
  },
  {
   "cell_type": "markdown",
   "id": "21eda862-c9ae-429e-8132-84191a037eaa",
   "metadata": {},
   "source": [
    "|Data Type|\tLower limit|\tUpper limit|\tMemory|\n",
    "|---------|------------|-----------|---------|\n",
    "|nchar\t|0 chars|\t4000 chars\t|2 times n bytes|\n",
    "|nvarchar\t|0 chars|\t4000 chars\t|2 times n bytes + 2 bytes|\n",
    "|ntext\t|0 chars|\t1,073,741,823 char|\t2 times the string length|\n"
   ]
  },
  {
   "cell_type": "markdown",
   "id": "cab89647-7db8-4970-bfa1-84811a541dbb",
   "metadata": {},
   "source": [
    "#### Binary string data types\n",
    "The binary data types stores fixed and variable length binary data."
   ]
  },
  {
   "cell_type": "markdown",
   "id": "ca890405-8383-4760-a99c-4d8ad18ccf46",
   "metadata": {},
   "source": [
    "|Data Type|\tLower limit|\tUpper limit|\tMemory|\n",
    "|---------|-----------|-------------|----------|\n",
    "|binary|\t0 bytes\t|8000 bytes|\tn bytes|\n",
    "|varbinary\t|0 bytes\t|8000 bytes\t|The actual length of data entered + 2 bytes|\n",
    "|image|\t0 bytes|\t2,147,483,647 bytes\t|"
   ]
  },
  {
   "cell_type": "markdown",
   "id": "8ad2cbbc-fa25-4b2a-8a2c-7ae0e79a15c3",
   "metadata": {},
   "source": [
    "### Other data types"
   ]
  },
  {
   "cell_type": "markdown",
   "id": "6aa84e2e-2138-48c3-9071-6b93916f069b",
   "metadata": {},
   "source": [
    "|Data Type\t|Description|\n",
    "|----------|-----------|\n",
    "|cursor|\tfor variables or stored procedure OUTPUT parameter that contains a reference to a cursor|\n",
    "|rowversion|\texpose automatically generated, unique binary numbers within a database.|\n",
    "|hierarchyid\t|represent a tree position in a tree hierarchy|\n",
    "|uniqueidentifier\t|16-byte GUID|\n",
    "|sql_variant\t|store values of other data types|\n",
    "|XML\t|store XML data in a column, or a variable of XML type|\n",
    "|Spatial Geometry type|\trepresent data in a flat coordinate system.|\n",
    "|Spatial Geography type|\tstore ellipsoidal (round-earth) data, such as GPS latitude and longitude coordinates.|\n",
    "|table\t|store a result set temporarily for processing at a later time|"
   ]
  },
  {
   "cell_type": "markdown",
   "id": "e49d0c56-6fa4-4067-9d36-cb6749a53e2b",
   "metadata": {},
   "source": [
    "### BIT"
   ]
  },
  {
   "cell_type": "code",
   "execution_count": 1,
   "id": "7f58ead2-6f5d-41ca-b02f-1d104fa56f03",
   "metadata": {},
   "outputs": [],
   "source": [
    "import pyodbc\n",
    "import os\n",
    "import pandas as pd\n",
    "\n",
    "#Check if drivers are installed\n",
    "#[x for x in pyodbc.drivers() if x.startswith(\"Microsoft Access Driver\")]\n",
    "\n",
    "# Define the connection string\n",
    "conn_str = (\n",
    "    r'DRIVER={ODBC Driver 17 for SQL Server};'\n",
    "    r'SERVER=localhost;'\n",
    "    r'DATABASE=BikeStores;'\n",
    "    r'Trusted_Connection=yes;'\n",
    ")\n",
    "\n",
    "# Establish the connection\n",
    "conn = pyodbc.connect(conn_str)\n",
    "\n",
    "# Create a cursor\n",
    "cursor = conn.cursor()"
   ]
  },
  {
   "cell_type": "code",
   "execution_count": 2,
   "id": "73922c91-5e07-4d17-99b0-c52c54fc1b19",
   "metadata": {},
   "outputs": [
    {
     "data": {
      "text/plain": [
       "<pyodbc.Cursor at 0x2622a732130>"
      ]
     },
     "execution_count": 2,
     "metadata": {},
     "output_type": "execute_result"
    }
   ],
   "source": [
    "cursor.execute('''\n",
    "CREATE TABLE sql_server_bit (\n",
    "bit_col BIT\n",
    ");\n",
    "''')"
   ]
  },
  {
   "cell_type": "code",
   "execution_count": 3,
   "id": "1916679d-8bf2-4cf8-9395-5cb26b16e4cf",
   "metadata": {},
   "outputs": [
    {
     "data": {
      "text/html": [
       "<div>\n",
       "<style scoped>\n",
       "    .dataframe tbody tr th:only-of-type {\n",
       "        vertical-align: middle;\n",
       "    }\n",
       "\n",
       "    .dataframe tbody tr th {\n",
       "        vertical-align: top;\n",
       "    }\n",
       "\n",
       "    .dataframe thead th {\n",
       "        text-align: right;\n",
       "    }\n",
       "</style>\n",
       "<table border=\"1\" class=\"dataframe\">\n",
       "  <thead>\n",
       "    <tr style=\"text-align: right;\">\n",
       "      <th></th>\n",
       "      <th>bit_col</th>\n",
       "    </tr>\n",
       "  </thead>\n",
       "  <tbody>\n",
       "    <tr>\n",
       "      <th>0</th>\n",
       "      <td>True</td>\n",
       "    </tr>\n",
       "  </tbody>\n",
       "</table>\n",
       "</div>"
      ],
      "text/plain": [
       "   bit_col\n",
       "0     True"
      ]
     },
     "execution_count": 3,
     "metadata": {},
     "output_type": "execute_result"
    }
   ],
   "source": [
    "cursor.execute('''\n",
    "INSERT INTO sql_server_bit (bit_col)\n",
    "OUTPUT inserted.bit_col\n",
    "VALUES(1);\n",
    "''')\n",
    "\n",
    "# Fetch all rows from the executed query\n",
    "rows = cursor.fetchall()\n",
    "\n",
    "# Get the column names\n",
    "columns = [column[0] for column in cursor.description]\n",
    "\n",
    "# Convert the rows into a list of dictionaries\n",
    "data = [dict(zip(columns, row)) for row in rows]\n",
    "\n",
    "# Create a DataFrame from the list of dictionaries\n",
    "df = pd.DataFrame(data)\n",
    "df.head(10)"
   ]
  },
  {
   "cell_type": "code",
   "execution_count": 4,
   "id": "b54d9ff2-3465-4e42-b9b5-753e6353d908",
   "metadata": {},
   "outputs": [
    {
     "data": {
      "text/html": [
       "<div>\n",
       "<style scoped>\n",
       "    .dataframe tbody tr th:only-of-type {\n",
       "        vertical-align: middle;\n",
       "    }\n",
       "\n",
       "    .dataframe tbody tr th {\n",
       "        vertical-align: top;\n",
       "    }\n",
       "\n",
       "    .dataframe thead th {\n",
       "        text-align: right;\n",
       "    }\n",
       "</style>\n",
       "<table border=\"1\" class=\"dataframe\">\n",
       "  <thead>\n",
       "    <tr style=\"text-align: right;\">\n",
       "      <th></th>\n",
       "      <th>bit_col</th>\n",
       "    </tr>\n",
       "  </thead>\n",
       "  <tbody>\n",
       "    <tr>\n",
       "      <th>0</th>\n",
       "      <td>False</td>\n",
       "    </tr>\n",
       "  </tbody>\n",
       "</table>\n",
       "</div>"
      ],
      "text/plain": [
       "   bit_col\n",
       "0    False"
      ]
     },
     "execution_count": 4,
     "metadata": {},
     "output_type": "execute_result"
    }
   ],
   "source": [
    "cursor.execute('''\n",
    "INSERT INTO sql_server_bit (bit_col)\n",
    "OUTPUT inserted.bit_col\n",
    "VALUES(0);\n",
    "''')\n",
    "\n",
    "# Fetch all rows from the executed query\n",
    "rows = cursor.fetchall()\n",
    "\n",
    "# Get the column names\n",
    "columns = [column[0] for column in cursor.description]\n",
    "\n",
    "# Convert the rows into a list of dictionaries\n",
    "data = [dict(zip(columns, row)) for row in rows]\n",
    "\n",
    "# Create a DataFrame from the list of dictionaries\n",
    "df = pd.DataFrame(data)\n",
    "df.head(10)"
   ]
  },
  {
   "cell_type": "code",
   "execution_count": 5,
   "id": "0e98ebbc-34f1-4b31-8f5e-b152a09c3d57",
   "metadata": {},
   "outputs": [
    {
     "data": {
      "text/html": [
       "<div>\n",
       "<style scoped>\n",
       "    .dataframe tbody tr th:only-of-type {\n",
       "        vertical-align: middle;\n",
       "    }\n",
       "\n",
       "    .dataframe tbody tr th {\n",
       "        vertical-align: top;\n",
       "    }\n",
       "\n",
       "    .dataframe thead th {\n",
       "        text-align: right;\n",
       "    }\n",
       "</style>\n",
       "<table border=\"1\" class=\"dataframe\">\n",
       "  <thead>\n",
       "    <tr style=\"text-align: right;\">\n",
       "      <th></th>\n",
       "      <th>bit_col</th>\n",
       "    </tr>\n",
       "  </thead>\n",
       "  <tbody>\n",
       "    <tr>\n",
       "      <th>0</th>\n",
       "      <td>True</td>\n",
       "    </tr>\n",
       "  </tbody>\n",
       "</table>\n",
       "</div>"
      ],
      "text/plain": [
       "   bit_col\n",
       "0     True"
      ]
     },
     "execution_count": 5,
     "metadata": {},
     "output_type": "execute_result"
    }
   ],
   "source": [
    "cursor.execute('''\n",
    "INSERT INTO sql_server_bit (bit_col)\n",
    "OUTPUT inserted.bit_col\n",
    "VALUES\n",
    "    ('True');\n",
    "''')\n",
    "\n",
    "# Fetch all rows from the executed query\n",
    "rows = cursor.fetchall()\n",
    "\n",
    "# Get the column names\n",
    "columns = [column[0] for column in cursor.description]\n",
    "\n",
    "# Convert the rows into a list of dictionaries\n",
    "data = [dict(zip(columns, row)) for row in rows]\n",
    "\n",
    "# Create a DataFrame from the list of dictionaries\n",
    "df = pd.DataFrame(data)\n",
    "df.head(10)"
   ]
  },
  {
   "cell_type": "code",
   "execution_count": 6,
   "id": "47db3eaf-fd34-4f07-9bd0-01cecd6916fd",
   "metadata": {},
   "outputs": [
    {
     "data": {
      "text/html": [
       "<div>\n",
       "<style scoped>\n",
       "    .dataframe tbody tr th:only-of-type {\n",
       "        vertical-align: middle;\n",
       "    }\n",
       "\n",
       "    .dataframe tbody tr th {\n",
       "        vertical-align: top;\n",
       "    }\n",
       "\n",
       "    .dataframe thead th {\n",
       "        text-align: right;\n",
       "    }\n",
       "</style>\n",
       "<table border=\"1\" class=\"dataframe\">\n",
       "  <thead>\n",
       "    <tr style=\"text-align: right;\">\n",
       "      <th></th>\n",
       "      <th>bit_col</th>\n",
       "    </tr>\n",
       "  </thead>\n",
       "  <tbody>\n",
       "    <tr>\n",
       "      <th>0</th>\n",
       "      <td>False</td>\n",
       "    </tr>\n",
       "  </tbody>\n",
       "</table>\n",
       "</div>"
      ],
      "text/plain": [
       "   bit_col\n",
       "0    False"
      ]
     },
     "execution_count": 6,
     "metadata": {},
     "output_type": "execute_result"
    }
   ],
   "source": [
    "cursor.execute('''\n",
    "INSERT INTO sql_server_bit (bit_col)\n",
    "OUTPUT inserted.bit_col\n",
    "VALUES\n",
    "    ('False');\n",
    "''')\n",
    "\n",
    "# Fetch all rows from the executed query\n",
    "rows = cursor.fetchall()\n",
    "\n",
    "# Get the column names\n",
    "columns = [column[0] for column in cursor.description]\n",
    "\n",
    "# Convert the rows into a list of dictionaries\n",
    "data = [dict(zip(columns, row)) for row in rows]\n",
    "\n",
    "# Create a DataFrame from the list of dictionaries\n",
    "df = pd.DataFrame(data)\n",
    "df.head(10)"
   ]
  },
  {
   "cell_type": "code",
   "execution_count": 7,
   "id": "6eff6e0d-8675-4ff6-b111-0e8977ba2b37",
   "metadata": {},
   "outputs": [
    {
     "data": {
      "text/html": [
       "<div>\n",
       "<style scoped>\n",
       "    .dataframe tbody tr th:only-of-type {\n",
       "        vertical-align: middle;\n",
       "    }\n",
       "\n",
       "    .dataframe tbody tr th {\n",
       "        vertical-align: top;\n",
       "    }\n",
       "\n",
       "    .dataframe thead th {\n",
       "        text-align: right;\n",
       "    }\n",
       "</style>\n",
       "<table border=\"1\" class=\"dataframe\">\n",
       "  <thead>\n",
       "    <tr style=\"text-align: right;\">\n",
       "      <th></th>\n",
       "      <th>bit_col</th>\n",
       "    </tr>\n",
       "  </thead>\n",
       "  <tbody>\n",
       "    <tr>\n",
       "      <th>0</th>\n",
       "      <td>True</td>\n",
       "    </tr>\n",
       "  </tbody>\n",
       "</table>\n",
       "</div>"
      ],
      "text/plain": [
       "   bit_col\n",
       "0     True"
      ]
     },
     "execution_count": 7,
     "metadata": {},
     "output_type": "execute_result"
    }
   ],
   "source": [
    "cursor.execute('''\n",
    "INSERT INTO sql_server_bit (bit_col)\n",
    "OUTPUT inserted.bit_col\n",
    "VALUES\n",
    "    (0.5);\n",
    "''')\n",
    "\n",
    "# Fetch all rows from the executed query\n",
    "rows = cursor.fetchall()\n",
    "\n",
    "# Get the column names\n",
    "columns = [column[0] for column in cursor.description]\n",
    "\n",
    "# Convert the rows into a list of dictionaries\n",
    "data = [dict(zip(columns, row)) for row in rows]\n",
    "\n",
    "# Create a DataFrame from the list of dictionaries\n",
    "df = pd.DataFrame(data)\n",
    "df.head(10)"
   ]
  },
  {
   "cell_type": "code",
   "execution_count": 8,
   "id": "766ced02-45f8-4863-8bed-15eb99ab7651",
   "metadata": {},
   "outputs": [
    {
     "data": {
      "text/html": [
       "<div>\n",
       "<style scoped>\n",
       "    .dataframe tbody tr th:only-of-type {\n",
       "        vertical-align: middle;\n",
       "    }\n",
       "\n",
       "    .dataframe tbody tr th {\n",
       "        vertical-align: top;\n",
       "    }\n",
       "\n",
       "    .dataframe thead th {\n",
       "        text-align: right;\n",
       "    }\n",
       "</style>\n",
       "<table border=\"1\" class=\"dataframe\">\n",
       "  <thead>\n",
       "    <tr style=\"text-align: right;\">\n",
       "      <th></th>\n",
       "      <th>bit_col</th>\n",
       "    </tr>\n",
       "  </thead>\n",
       "  <tbody>\n",
       "    <tr>\n",
       "      <th>0</th>\n",
       "      <td>False</td>\n",
       "    </tr>\n",
       "  </tbody>\n",
       "</table>\n",
       "</div>"
      ],
      "text/plain": [
       "   bit_col\n",
       "0    False"
      ]
     },
     "execution_count": 8,
     "metadata": {},
     "output_type": "execute_result"
    }
   ],
   "source": [
    "cursor.execute('''\n",
    "INSERT INTO sql_server_bit (bit_col)\n",
    "OUTPUT inserted.bit_col\n",
    "VALUES\n",
    "    ('');\n",
    "''')\n",
    "\n",
    "# Fetch all rows from the executed query\n",
    "rows = cursor.fetchall()\n",
    "\n",
    "# Get the column names\n",
    "columns = [column[0] for column in cursor.description]\n",
    "\n",
    "# Convert the rows into a list of dictionaries\n",
    "data = [dict(zip(columns, row)) for row in rows]\n",
    "\n",
    "# Create a DataFrame from the list of dictionaries\n",
    "df = pd.DataFrame(data)\n",
    "df.head(10)"
   ]
  },
  {
   "cell_type": "code",
   "execution_count": 9,
   "id": "b348e459-d994-49fe-8bd4-40f50c0a0209",
   "metadata": {},
   "outputs": [
    {
     "data": {
      "text/html": [
       "<div>\n",
       "<style scoped>\n",
       "    .dataframe tbody tr th:only-of-type {\n",
       "        vertical-align: middle;\n",
       "    }\n",
       "\n",
       "    .dataframe tbody tr th {\n",
       "        vertical-align: top;\n",
       "    }\n",
       "\n",
       "    .dataframe thead th {\n",
       "        text-align: right;\n",
       "    }\n",
       "</style>\n",
       "<table border=\"1\" class=\"dataframe\">\n",
       "  <thead>\n",
       "    <tr style=\"text-align: right;\">\n",
       "      <th></th>\n",
       "      <th>bit_col</th>\n",
       "    </tr>\n",
       "  </thead>\n",
       "  <tbody>\n",
       "    <tr>\n",
       "      <th>0</th>\n",
       "      <td>True</td>\n",
       "    </tr>\n",
       "  </tbody>\n",
       "</table>\n",
       "</div>"
      ],
      "text/plain": [
       "   bit_col\n",
       "0     True"
      ]
     },
     "execution_count": 9,
     "metadata": {},
     "output_type": "execute_result"
    }
   ],
   "source": [
    "cursor.execute('''\n",
    "INSERT INTO sql_server_bit (bit_col)\n",
    "OUTPUT inserted.bit_col\n",
    "VALUES\n",
    "    (-5);\n",
    "''')\n",
    "\n",
    "# Fetch all rows from the executed query\n",
    "rows = cursor.fetchall()\n",
    "\n",
    "# Get the column names\n",
    "columns = [column[0] for column in cursor.description]\n",
    "\n",
    "# Convert the rows into a list of dictionaries\n",
    "data = [dict(zip(columns, row)) for row in rows]\n",
    "\n",
    "# Create a DataFrame from the list of dictionaries\n",
    "df = pd.DataFrame(data)\n",
    "df.head(10)"
   ]
  },
  {
   "cell_type": "markdown",
   "id": "e001afb6-4452-4f80-8091-bd1a711899b3",
   "metadata": {},
   "source": [
    "Basically, In SQL, \n",
    "\n",
    "All values other than empty strings and zero are True values"
   ]
  },
  {
   "cell_type": "markdown",
   "id": "5b52e486-3c20-41d0-a53a-c8008d3f9f0d",
   "metadata": {},
   "source": [
    "### INT"
   ]
  },
  {
   "cell_type": "code",
   "execution_count": 10,
   "id": "d5a8447d-95f3-4d9f-890c-6f3f33bb24a3",
   "metadata": {},
   "outputs": [
    {
     "data": {
      "text/plain": [
       "<pyodbc.Cursor at 0x2622a732130>"
      ]
     },
     "execution_count": 10,
     "metadata": {},
     "output_type": "execute_result"
    }
   ],
   "source": [
    "cursor.execute('''\n",
    "CREATE TABLE sales.sql_server_integers (\n",
    "\tbigint_col bigint,\n",
    "\tint_col INT,\n",
    "\tsmallint_col SMALLINT,\n",
    "\ttinyint_col tinyint\n",
    ");\n",
    "''')"
   ]
  },
  {
   "cell_type": "code",
   "execution_count": 11,
   "id": "b049ff5a-328f-4614-9930-25eba2aced85",
   "metadata": {},
   "outputs": [
    {
     "data": {
      "text/plain": [
       "<pyodbc.Cursor at 0x2622a732130>"
      ]
     },
     "execution_count": 11,
     "metadata": {},
     "output_type": "execute_result"
    }
   ],
   "source": [
    "cursor.execute('''\n",
    "INSERT INTO sales.sql_server_integers (\n",
    "\tbigint_col,\n",
    "\tint_col,\n",
    "\tsmallint_col,\n",
    "\ttinyint_col\n",
    ")\n",
    "VALUES\n",
    "\t(\n",
    "\t\t9223372036854775807,\n",
    "\t\t2147483647,\n",
    "\t\t32767,\n",
    "\t\t255\n",
    "\t);\n",
    "''')"
   ]
  },
  {
   "cell_type": "code",
   "execution_count": 12,
   "id": "1ed4814a-f496-4d52-a063-f4c3a3f2d836",
   "metadata": {},
   "outputs": [
    {
     "data": {
      "text/html": [
       "<div>\n",
       "<style scoped>\n",
       "    .dataframe tbody tr th:only-of-type {\n",
       "        vertical-align: middle;\n",
       "    }\n",
       "\n",
       "    .dataframe tbody tr th {\n",
       "        vertical-align: top;\n",
       "    }\n",
       "\n",
       "    .dataframe thead th {\n",
       "        text-align: right;\n",
       "    }\n",
       "</style>\n",
       "<table border=\"1\" class=\"dataframe\">\n",
       "  <thead>\n",
       "    <tr style=\"text-align: right;\">\n",
       "      <th></th>\n",
       "      <th>bigint_col</th>\n",
       "      <th>int_col</th>\n",
       "      <th>smallint_col</th>\n",
       "      <th>tinyint_col</th>\n",
       "    </tr>\n",
       "  </thead>\n",
       "  <tbody>\n",
       "    <tr>\n",
       "      <th>0</th>\n",
       "      <td>9223372036854775807</td>\n",
       "      <td>2147483647</td>\n",
       "      <td>32767</td>\n",
       "      <td>255</td>\n",
       "    </tr>\n",
       "  </tbody>\n",
       "</table>\n",
       "</div>"
      ],
      "text/plain": [
       "            bigint_col     int_col  smallint_col  tinyint_col\n",
       "0  9223372036854775807  2147483647         32767          255"
      ]
     },
     "execution_count": 12,
     "metadata": {},
     "output_type": "execute_result"
    }
   ],
   "source": [
    "cursor.execute('''\n",
    "SELECT\n",
    "\tbigint_col,\n",
    "\tint_col,\n",
    "\tsmallint_col,\n",
    "\ttinyint_col\n",
    "FROM\n",
    "\tsales.sql_server_integers;\n",
    "''')\n",
    "\n",
    "\n",
    "# Fetch all rows from the executed query\n",
    "rows = cursor.fetchall()\n",
    "\n",
    "# Get the column names\n",
    "columns = [column[0] for column in cursor.description]\n",
    "\n",
    "# Convert the rows into a list of dictionaries\n",
    "data = [dict(zip(columns, row)) for row in rows]\n",
    "\n",
    "# Create a DataFrame from the list of dictionaries\n",
    "df = pd.DataFrame(data)\n",
    "df.head(10)"
   ]
  },
  {
   "cell_type": "code",
   "execution_count": 13,
   "id": "ab37b192-1178-46e1-97c3-0869e4312434",
   "metadata": {},
   "outputs": [
    {
     "ename": "DataError",
     "evalue": "('22003', '[22003] [Microsoft][ODBC Driver 17 for SQL Server][SQL Server]Arithmetic overflow error for data type tinyint, value = 298. (220) (SQLExecDirectW); [22003] [Microsoft][ODBC Driver 17 for SQL Server][SQL Server]The statement has been terminated. (3621)')",
     "output_type": "error",
     "traceback": [
      "\u001b[1;31m---------------------------------------------------------------------------\u001b[0m",
      "\u001b[1;31mDataError\u001b[0m                                 Traceback (most recent call last)",
      "Cell \u001b[1;32mIn[13], line 1\u001b[0m\n\u001b[1;32m----> 1\u001b[0m cursor\u001b[38;5;241m.\u001b[39mexecute(\u001b[38;5;124m'''\u001b[39m\n\u001b[0;32m      2\u001b[0m \u001b[38;5;124mINSERT INTO sales.sql_server_integers (\u001b[39m\n\u001b[0;32m      3\u001b[0m \u001b[38;5;124m\tbigint_col,\u001b[39m\n\u001b[0;32m      4\u001b[0m \u001b[38;5;124m\tint_col,\u001b[39m\n\u001b[0;32m      5\u001b[0m \u001b[38;5;124m\tsmallint_col,\u001b[39m\n\u001b[0;32m      6\u001b[0m \u001b[38;5;124m\ttinyint_col\u001b[39m\n\u001b[0;32m      7\u001b[0m \u001b[38;5;124m)\u001b[39m\n\u001b[0;32m      8\u001b[0m \u001b[38;5;124mVALUES\u001b[39m\n\u001b[0;32m      9\u001b[0m \u001b[38;5;124m\t(\u001b[39m\n\u001b[0;32m     10\u001b[0m \u001b[38;5;124m\t\t9223372036854775807,\u001b[39m\n\u001b[0;32m     11\u001b[0m \u001b[38;5;124m\t\t2147483647,\u001b[39m\n\u001b[0;32m     12\u001b[0m \u001b[38;5;124m\t\t32767,\u001b[39m\n\u001b[0;32m     13\u001b[0m \u001b[38;5;124m\t\t298\u001b[39m\n\u001b[0;32m     14\u001b[0m \u001b[38;5;124m\t);\u001b[39m\n\u001b[0;32m     15\u001b[0m \u001b[38;5;124m'''\u001b[39m)\n",
      "\u001b[1;31mDataError\u001b[0m: ('22003', '[22003] [Microsoft][ODBC Driver 17 for SQL Server][SQL Server]Arithmetic overflow error for data type tinyint, value = 298. (220) (SQLExecDirectW); [22003] [Microsoft][ODBC Driver 17 for SQL Server][SQL Server]The statement has been terminated. (3621)')"
     ]
    }
   ],
   "source": [
    "cursor.execute('''\n",
    "INSERT INTO sales.sql_server_integers (\n",
    "\tbigint_col,\n",
    "\tint_col,\n",
    "\tsmallint_col,\n",
    "\ttinyint_col\n",
    ")\n",
    "VALUES\n",
    "\t(\n",
    "\t\t9223372036854775807,\n",
    "\t\t2147483647,\n",
    "\t\t32767,\n",
    "\t\t298\n",
    "\t);\n",
    "''')"
   ]
  },
  {
   "cell_type": "markdown",
   "id": "85320f97-30db-425c-926e-93a61db84ec2",
   "metadata": {},
   "source": [
    "### DECIMAL"
   ]
  },
  {
   "cell_type": "markdown",
   "id": "2896c9e6-49e9-4874-8c79-b6550b0bf128",
   "metadata": {},
   "source": [
    "To store numbers that have fixed precision and scale, you use the DECIMAL data type.\n",
    "\n",
    "The following shows the syntax of the DECIMAL data type:\n",
    "\n",
    "DECIMAL(p,s)\n",
    "\n",
    "In this syntax:\n",
    "\n",
    "p is the precision which is the maximum total number of decimal digits that will be stored, both to the left and to the right of the decimal point. \n",
    "The precision has a range from 1 to 38. The default precision is 38.\n",
    "\n",
    "s is the scale which is the number of decimal digits that will be stored to the right of the decimal point. The scale has a range from 0 to p (precision). The scale can be specified only if the precision is specified. By default, the scale is zero."
   ]
  },
  {
   "cell_type": "markdown",
   "id": "8647c5ce-012c-43f6-98e4-38d98b38437d",
   "metadata": {},
   "source": [
    "|Precision|\tStorage bytes|\n",
    "|----------|------------|\n",
    "|1 – 9\t|5 |\n",
    "|10-19\t|9 |\n",
    "|20-28\t|13 |\n",
    "|29-38\t|17 |\n"
   ]
  },
  {
   "cell_type": "markdown",
   "id": "99babfd6-fe0f-42de-ba9b-f25e91daacaa",
   "metadata": {},
   "source": [
    "The NUMERIC and DECIMAL are synonyms, therefore, you can use them interchangeably.\n",
    "\n",
    "The following declarations are equivalent:\n",
    "\n",
    "DECIMAL(10,2)\n",
    "\n",
    "NUMERIC(10,2)"
   ]
  },
  {
   "cell_type": "markdown",
   "id": "46bcb2f3-e5ea-4f3b-bd26-3333d95de138",
   "metadata": {},
   "source": [
    "Because the ISO synonyms for DECIMAL are DEC and DEC(p,s), you can use either DECIMAL or DEC:\n",
    "\n",
    "DECIMAL(10,2)\n",
    "\n",
    "DEC(10,2)"
   ]
  },
  {
   "cell_type": "code",
   "execution_count": 15,
   "id": "e9f74386-56c4-42a9-b59b-1812749438b3",
   "metadata": {},
   "outputs": [
    {
     "data": {
      "text/html": [
       "<div>\n",
       "<style scoped>\n",
       "    .dataframe tbody tr th:only-of-type {\n",
       "        vertical-align: middle;\n",
       "    }\n",
       "\n",
       "    .dataframe tbody tr th {\n",
       "        vertical-align: top;\n",
       "    }\n",
       "\n",
       "    .dataframe thead th {\n",
       "        text-align: right;\n",
       "    }\n",
       "</style>\n",
       "<table border=\"1\" class=\"dataframe\">\n",
       "  <thead>\n",
       "    <tr style=\"text-align: right;\">\n",
       "      <th></th>\n",
       "      <th>dec_col</th>\n",
       "      <th>num_col</th>\n",
       "    </tr>\n",
       "  </thead>\n",
       "  <tbody>\n",
       "    <tr>\n",
       "      <th>0</th>\n",
       "      <td>10.05</td>\n",
       "      <td>20.05</td>\n",
       "    </tr>\n",
       "  </tbody>\n",
       "</table>\n",
       "</div>"
      ],
      "text/plain": [
       "  dec_col num_col\n",
       "0   10.05   20.05"
      ]
     },
     "execution_count": 15,
     "metadata": {},
     "output_type": "execute_result"
    }
   ],
   "source": [
    "cursor.execute('''\n",
    "CREATE TABLE sales.sql_server_decimal (\n",
    "    dec_col DECIMAL (4, 2),\n",
    "    num_col NUMERIC (4, 2)\n",
    ");\n",
    "''')\n",
    "\n",
    "cursor.execute(''' \n",
    "INSERT INTO sales.sql_server_decimal (dec_col, num_col)\n",
    "VALUES\n",
    "    (10.05, 20.05);\n",
    "''')\n",
    "\n",
    "cursor.execute('''SELECT dec_col, num_col FROM sales.sql_server_decimal ''')\n",
    "\n",
    "\n",
    "# Fetch all rows from the executed query\n",
    "rows = cursor.fetchall()\n",
    "\n",
    "# Get the column names\n",
    "columns = [column[0] for column in cursor.description]\n",
    "\n",
    "# Convert the rows into a list of dictionaries\n",
    "data = [dict(zip(columns, row)) for row in rows]\n",
    "\n",
    "# Create a DataFrame from the list of dictionaries\n",
    "df = pd.DataFrame(data)\n",
    "df.head(10)"
   ]
  },
  {
   "cell_type": "markdown",
   "id": "7692165b-80b9-4db5-86c9-9fdb29b5b571",
   "metadata": {},
   "source": [
    "the following example attempts to insert a new row into the table with values that exceed the precision and scale specified in the column definition, we get the following error: \n",
    "\n",
    "    Arithmetic overflow error converting numeric to data type numeric.\n",
    "    The statement has been terminated"
   ]
  },
  {
   "cell_type": "code",
   "execution_count": 16,
   "id": "c6c5d62f-6795-42d9-b990-fb9c8db42279",
   "metadata": {},
   "outputs": [
    {
     "ename": "DataError",
     "evalue": "('22003', '[22003] [Microsoft][ODBC Driver 17 for SQL Server][SQL Server]Arithmetic overflow error converting numeric to data type numeric. (8115) (SQLExecDirectW); [22003] [Microsoft][ODBC Driver 17 for SQL Server][SQL Server]The statement has been terminated. (3621)')",
     "output_type": "error",
     "traceback": [
      "\u001b[1;31m---------------------------------------------------------------------------\u001b[0m",
      "\u001b[1;31mDataError\u001b[0m                                 Traceback (most recent call last)",
      "Cell \u001b[1;32mIn[16], line 1\u001b[0m\n\u001b[1;32m----> 1\u001b[0m cursor\u001b[38;5;241m.\u001b[39mexecute(\u001b[38;5;124m'''\u001b[39m\u001b[38;5;124mINSERT INTO  sql_server_decimal (dec_col, num_col)\u001b[39m\n\u001b[0;32m      2\u001b[0m \u001b[38;5;124mVALUES (999.99, 200.50) \u001b[39m\u001b[38;5;124m'''\u001b[39m)\n\u001b[0;32m      5\u001b[0m \u001b[38;5;66;03m# Fetch all rows from the executed query\u001b[39;00m\n\u001b[0;32m      6\u001b[0m rows \u001b[38;5;241m=\u001b[39m cursor\u001b[38;5;241m.\u001b[39mfetchall()\n",
      "\u001b[1;31mDataError\u001b[0m: ('22003', '[22003] [Microsoft][ODBC Driver 17 for SQL Server][SQL Server]Arithmetic overflow error converting numeric to data type numeric. (8115) (SQLExecDirectW); [22003] [Microsoft][ODBC Driver 17 for SQL Server][SQL Server]The statement has been terminated. (3621)')"
     ]
    }
   ],
   "source": [
    "\n",
    "cursor.execute('''INSERT INTO  sql_server_decimal (dec_col, num_col)\n",
    "VALUES (999.99, 200.50) ''')\n",
    "\n",
    "\n",
    "# Fetch all rows from the executed query\n",
    "rows = cursor.fetchall()\n",
    "\n",
    "# Get the column names\n",
    "columns = [column[0] for column in cursor.description]\n",
    "\n",
    "# Convert the rows into a list of dictionaries\n",
    "data = [dict(zip(columns, row)) for row in rows]\n",
    "\n",
    "# Create a DataFrame from the list of dictionaries\n",
    "df = pd.DataFrame(data)\n",
    "df.head(10)"
   ]
  },
  {
   "cell_type": "markdown",
   "id": "49c3fca8-7333-496b-b6a1-1906705d0f99",
   "metadata": {},
   "source": [
    "### CHAR, NCHAR, VARCHAR, NVARCHAR"
   ]
  },
  {
   "cell_type": "markdown",
   "id": "87b67be3-4f6d-4aa6-acdc-05c7df6f26f0",
   "metadata": {},
   "source": [
    "CHAR -> To store fixed-length, non-Unicode character string data in the database\n",
    "\n",
    "NCHAR -> To store fixed-length, Unicode character string data in the database"
   ]
  },
  {
   "cell_type": "markdown",
   "id": "d0d9d5a4-16ec-4ce2-8983-4760b19a2619",
   "metadata": {},
   "source": [
    "|CHAR |NCHAR|\n",
    "|:--------|:---------|\n",
    "|Store only non-Unicode characters.\t|Store Unicode characters in the form of UNICODE UCS-2 characters.|\n",
    "|Need 1 byte to store a character\t|Need 2 bytes to store a character.|\n",
    "|The storage size equals the size specified in the column definition or variable declaration.\t|The storage size equals double the size specified in the column definition or variable declaration.|\n",
    "|Store up to 8000 characters.\t|Store up to 4000 characters.|"
   ]
  },
  {
   "cell_type": "code",
   "execution_count": 20,
   "id": "5764159c-df7b-430a-88d8-d44404f99bfa",
   "metadata": {},
   "outputs": [
    {
     "data": {
      "text/plain": [
       "<pyodbc.Cursor at 0x2622a732130>"
      ]
     },
     "execution_count": 20,
     "metadata": {},
     "output_type": "execute_result"
    }
   ],
   "source": [
    "cursor.execute('''\n",
    "CREATE TABLE sales.sql_server_nchar(\n",
    "nval NCHAR(1) NOT NULL, \n",
    "val CHAR(1) NOT NULL \n",
    ")\n",
    "''')"
   ]
  },
  {
   "cell_type": "code",
   "execution_count": 21,
   "id": "94d7bd4d-0fc1-446e-9ac7-182647c19bd3",
   "metadata": {},
   "outputs": [
    {
     "data": {
      "text/plain": [
       "<pyodbc.Cursor at 0x2622a732130>"
      ]
     },
     "execution_count": 21,
     "metadata": {},
     "output_type": "execute_result"
    }
   ],
   "source": [
    "cursor.execute('''\n",
    "INSERT INTO  sql_server_nchar (nval, val)\n",
    "VALUES (N'あ', 'あ')\n",
    "''')"
   ]
  },
  {
   "cell_type": "code",
   "execution_count": 28,
   "id": "503cc07d-afa3-45ec-82cc-06379b44edb7",
   "metadata": {},
   "outputs": [
    {
     "ename": "ProgrammingError",
     "evalue": "('42000', \"[42000] [Microsoft][ODBC Driver 17 for SQL Server][SQL Server]String or binary data would be truncated in table 'BikeStores.dbo.sql_server_nchar', column 'nval'. Truncated value: 'い'. (2628) (SQLExecDirectW); [42000] [Microsoft][ODBC Driver 17 for SQL Server][SQL Server]The statement has been terminated. (3621)\")",
     "output_type": "error",
     "traceback": [
      "\u001b[1;31m---------------------------------------------------------------------------\u001b[0m",
      "\u001b[1;31mProgrammingError\u001b[0m                          Traceback (most recent call last)",
      "Cell \u001b[1;32mIn[28], line 1\u001b[0m\n\u001b[1;32m----> 1\u001b[0m cursor\u001b[38;5;241m.\u001b[39mexecute(\u001b[38;5;124m'''\u001b[39m\n\u001b[0;32m      2\u001b[0m \u001b[38;5;124mINSERT INTO sql_server_nchar (nval, val)\u001b[39m\n\u001b[0;32m      3\u001b[0m \u001b[38;5;124mVALUES\u001b[39m\n\u001b[0;32m      4\u001b[0m \u001b[38;5;124m    (N\u001b[39m\u001b[38;5;124m'\u001b[39m\u001b[38;5;124mいえ\u001b[39m\u001b[38;5;124m'\u001b[39m\u001b[38;5;124m, N\u001b[39m\u001b[38;5;124m'\u001b[39m\u001b[38;5;124mbaraha\u001b[39m\u001b[38;5;124m'\u001b[39m\u001b[38;5;124m); \u001b[39m\n\u001b[0;32m      5\u001b[0m \u001b[38;5;124m'''\u001b[39m)\n",
      "\u001b[1;31mProgrammingError\u001b[0m: ('42000', \"[42000] [Microsoft][ODBC Driver 17 for SQL Server][SQL Server]String or binary data would be truncated in table 'BikeStores.dbo.sql_server_nchar', column 'nval'. Truncated value: 'い'. (2628) (SQLExecDirectW); [42000] [Microsoft][ODBC Driver 17 for SQL Server][SQL Server]The statement has been terminated. (3621)\")"
     ]
    }
   ],
   "source": [
    "cursor.execute('''\n",
    "INSERT INTO sql_server_nchar (nval, val)\n",
    "VALUES\n",
    "    (N'いえ', N'baraha'); \n",
    "''')"
   ]
  },
  {
   "cell_type": "markdown",
   "id": "6f63299b-aecb-4f12-bc92-e81a11dacd80",
   "metadata": {},
   "source": [
    "SQL Server issued the following error message:\n",
    "\n",
    "    String or binary data would be truncated.\n",
    "\n",
    "    The statement has been terminated. \n",
    "\n",
    "    Code language: SQL (Structured Query Language) (sql)\n",
    "\n",
    "To find the number of characters and the number of bytes of the values the val column, you use the LEN and DATALENGTH functions as follows:"
   ]
  },
  {
   "cell_type": "code",
   "execution_count": 31,
   "id": "77bf0098-79f6-4fd4-b765-87a336424a31",
   "metadata": {},
   "outputs": [
    {
     "data": {
      "text/html": [
       "<div>\n",
       "<style scoped>\n",
       "    .dataframe tbody tr th:only-of-type {\n",
       "        vertical-align: middle;\n",
       "    }\n",
       "\n",
       "    .dataframe tbody tr th {\n",
       "        vertical-align: top;\n",
       "    }\n",
       "\n",
       "    .dataframe thead th {\n",
       "        text-align: right;\n",
       "    }\n",
       "</style>\n",
       "<table border=\"1\" class=\"dataframe\">\n",
       "  <thead>\n",
       "    <tr style=\"text-align: right;\">\n",
       "      <th></th>\n",
       "      <th>val</th>\n",
       "      <th>length</th>\n",
       "      <th>data_length</th>\n",
       "    </tr>\n",
       "  </thead>\n",
       "  <tbody>\n",
       "    <tr>\n",
       "      <th>0</th>\n",
       "      <td>!</td>\n",
       "      <td>1</td>\n",
       "      <td>1</td>\n",
       "    </tr>\n",
       "    <tr>\n",
       "      <th>1</th>\n",
       "      <td>¤</td>\n",
       "      <td>1</td>\n",
       "      <td>1</td>\n",
       "    </tr>\n",
       "    <tr>\n",
       "      <th>2</th>\n",
       "      <td>¤</td>\n",
       "      <td>1</td>\n",
       "      <td>1</td>\n",
       "    </tr>\n",
       "    <tr>\n",
       "      <th>3</th>\n",
       "      <td>?</td>\n",
       "      <td>1</td>\n",
       "      <td>1</td>\n",
       "    </tr>\n",
       "    <tr>\n",
       "      <th>4</th>\n",
       "      <td>?</td>\n",
       "      <td>1</td>\n",
       "      <td>1</td>\n",
       "    </tr>\n",
       "    <tr>\n",
       "      <th>5</th>\n",
       "      <td>?</td>\n",
       "      <td>1</td>\n",
       "      <td>1</td>\n",
       "    </tr>\n",
       "  </tbody>\n",
       "</table>\n",
       "</div>"
      ],
      "text/plain": [
       "  val  length  data_length\n",
       "0   !       1            1\n",
       "1   ¤       1            1\n",
       "2   ¤       1            1\n",
       "3   ?       1            1\n",
       "4   ?       1            1\n",
       "5   ?       1            1"
      ]
     },
     "execution_count": 31,
     "metadata": {},
     "output_type": "execute_result"
    }
   ],
   "source": [
    "cursor.execute(''' \n",
    "SELECT\n",
    "    val,\n",
    "    len(val) length,\n",
    "    DATALENGTH(val) data_length\n",
    "FROM\n",
    "    sql_server_nchar;\n",
    "''')\n",
    "\n",
    "\n",
    "# Fetch all rows from the executed query\n",
    "rows = cursor.fetchall()\n",
    "\n",
    "# Get the column names\n",
    "columns = [column[0] for column in cursor.description]\n",
    "\n",
    "# Convert the rows into a list of dictionaries\n",
    "data = [dict(zip(columns, row)) for row in rows]\n",
    "\n",
    "# Create a DataFrame from the list of dictionaries\n",
    "df = pd.DataFrame(data)\n",
    "df.head(10)"
   ]
  },
  {
   "cell_type": "code",
   "execution_count": 29,
   "id": "6422a6aa-81e6-4323-9ebc-f37e47c8bc36",
   "metadata": {},
   "outputs": [
    {
     "data": {
      "text/html": [
       "<div>\n",
       "<style scoped>\n",
       "    .dataframe tbody tr th:only-of-type {\n",
       "        vertical-align: middle;\n",
       "    }\n",
       "\n",
       "    .dataframe tbody tr th {\n",
       "        vertical-align: top;\n",
       "    }\n",
       "\n",
       "    .dataframe thead th {\n",
       "        text-align: right;\n",
       "    }\n",
       "</style>\n",
       "<table border=\"1\" class=\"dataframe\">\n",
       "  <thead>\n",
       "    <tr style=\"text-align: right;\">\n",
       "      <th></th>\n",
       "      <th>nval</th>\n",
       "      <th>val</th>\n",
       "    </tr>\n",
       "  </thead>\n",
       "  <tbody>\n",
       "    <tr>\n",
       "      <th>0</th>\n",
       "      <td>A</td>\n",
       "      <td>!</td>\n",
       "    </tr>\n",
       "    <tr>\n",
       "      <th>1</th>\n",
       "      <td>A</td>\n",
       "      <td>¤</td>\n",
       "    </tr>\n",
       "    <tr>\n",
       "      <th>2</th>\n",
       "      <td>?</td>\n",
       "      <td>¤</td>\n",
       "    </tr>\n",
       "    <tr>\n",
       "      <th>3</th>\n",
       "      <td>?</td>\n",
       "      <td>?</td>\n",
       "    </tr>\n",
       "    <tr>\n",
       "      <th>4</th>\n",
       "      <td>?</td>\n",
       "      <td>?</td>\n",
       "    </tr>\n",
       "    <tr>\n",
       "      <th>5</th>\n",
       "      <td>あ</td>\n",
       "      <td>?</td>\n",
       "    </tr>\n",
       "  </tbody>\n",
       "</table>\n",
       "</div>"
      ],
      "text/plain": [
       "  nval val\n",
       "0    A   !\n",
       "1    A   ¤\n",
       "2    ?   ¤\n",
       "3    ?   ?\n",
       "4    ?   ?\n",
       "5    あ   ?"
      ]
     },
     "execution_count": 29,
     "metadata": {},
     "output_type": "execute_result"
    }
   ],
   "source": [
    "cursor.execute(''' \n",
    "SELECT\n",
    "    val,\n",
    "    len(val) length,\n",
    "    DATALENGTH(val) data_length\n",
    "FROM\n",
    "    test.sql_server_nchar;\n",
    "''')\n",
    "\n",
    "cursor.execute('''/\n",
    "SELECT * FROM sql_server_nchar\n",
    "''')\n",
    "\n",
    "# Fetch all rows from the executed query\n",
    "rows = cursor.fetchall()\n",
    "\n",
    "# Get the column names\n",
    "columns = [column[0] for column in cursor.description]\n",
    "\n",
    "# Convert the rows into a list of dictionaries\n",
    "data = [dict(zip(columns, row)) for row in rows]\n",
    "\n",
    "# Create a DataFrame from the list of dictionaries\n",
    "df = pd.DataFrame(data)\n",
    "df.head(10)"
   ]
  },
  {
   "cell_type": "markdown",
   "id": "54fe4c21-3f09-46f4-b7e7-ed846e732bfb",
   "metadata": {},
   "source": [
    "VARCHAR -> VARCHAR data type is used to store variable-length, non-Unicode string data. \n",
    "\n",
    "NVARCHAR -> VARCHAR data type is used to store variable-length, Unicode string data."
   ]
  },
  {
   "cell_type": "markdown",
   "id": "e20acc8c-613f-457d-9b71-1fe478423345",
   "metadata": {},
   "source": [
    "||VARCHAR | NVARCHAR |\n",
    "|----------|-----------|--------------|\n",
    "|Character Data Type|\tVariable-length, non-Unicode characters\tVariable-length, both Unicode and non-Unicode characters such as Japanese, Korean, and Chinese.|Maximum Length\tUp to 8,000 characters\tUp to 4,000 characters|\n",
    "|Character Size\t|Takes up 1 byte per character\t|Takes up 2 bytes per Unicode/Non-Unicode character|\n",
    "|Storage Size\t|Actual Length (in bytes)\t|2 times Actual Length (in bytes)|\n",
    "|Usage\t|Used when data length is variable or variable length columns and if actual data is always way less than capacity\t|Due to storage only, used only if you need Unicode support such as the Japanese Kanji or Korean Hangul characters.|"
   ]
  },
  {
   "cell_type": "code",
   "execution_count": 35,
   "id": "e472816d-ad8d-4991-a847-4b88cd5339e5",
   "metadata": {},
   "outputs": [
    {
     "ename": "ProgrammingError",
     "evalue": "('42000', \"[42000] [Microsoft][ODBC Driver 17 for SQL Server][SQL Server]String or binary data would be truncated in table 'BikeStores.sales.sql_server_varchar_withoutlength', column 'val'. Truncated value: 'h'. (2628) (SQLExecDirectW); [42000] [Microsoft][ODBC Driver 17 for SQL Server][SQL Server]The statement has been terminated. (3621)\")",
     "output_type": "error",
     "traceback": [
      "\u001b[1;31m---------------------------------------------------------------------------\u001b[0m",
      "\u001b[1;31mProgrammingError\u001b[0m                          Traceback (most recent call last)",
      "Cell \u001b[1;32mIn[35], line 9\u001b[0m\n\u001b[0;32m      1\u001b[0m \u001b[38;5;66;03m#Lets define varchar with fixed length\u001b[39;00m\n\u001b[0;32m      3\u001b[0m cursor\u001b[38;5;241m.\u001b[39mexecute(\u001b[38;5;124m'''\u001b[39m\n\u001b[0;32m      4\u001b[0m \u001b[38;5;124mCREATE TABLE sales.sql_server_varchar_withoutlength(\u001b[39m\n\u001b[0;32m      5\u001b[0m \u001b[38;5;124mval VARCHAR NOT NULL\u001b[39m\n\u001b[0;32m      6\u001b[0m \u001b[38;5;124m); \u001b[39m\n\u001b[0;32m      7\u001b[0m \u001b[38;5;124m'''\u001b[39m)\n\u001b[1;32m----> 9\u001b[0m cursor\u001b[38;5;241m.\u001b[39mexecute(\u001b[38;5;124m'''\u001b[39m\n\u001b[0;32m     10\u001b[0m \u001b[38;5;124mINSERT INTO  sales.sql_server_varchar_withoutlength (val)\u001b[39m\n\u001b[0;32m     11\u001b[0m \u001b[38;5;124mVALUES (\u001b[39m\u001b[38;5;124m'\u001b[39m\u001b[38;5;124mhello how are you!\u001b[39m\u001b[38;5;124m'\u001b[39m\u001b[38;5;124m) \u001b[39m\n\u001b[0;32m     12\u001b[0m \u001b[38;5;124m'''\u001b[39m)\n\u001b[0;32m     14\u001b[0m cursor\u001b[38;5;241m.\u001b[39mexecute(\u001b[38;5;124m'''\u001b[39m\u001b[38;5;124m SELECT * FROM sales.sql_server_varchar_withoutlength\u001b[39m\u001b[38;5;124m'''\u001b[39m)\n\u001b[0;32m     17\u001b[0m \u001b[38;5;66;03m# Fetch all rows from the executed query\u001b[39;00m\n",
      "\u001b[1;31mProgrammingError\u001b[0m: ('42000', \"[42000] [Microsoft][ODBC Driver 17 for SQL Server][SQL Server]String or binary data would be truncated in table 'BikeStores.sales.sql_server_varchar_withoutlength', column 'val'. Truncated value: 'h'. (2628) (SQLExecDirectW); [42000] [Microsoft][ODBC Driver 17 for SQL Server][SQL Server]The statement has been terminated. (3621)\")"
     ]
    }
   ],
   "source": [
    "#Lets define varchar with fixed length\n",
    "\n",
    "cursor.execute('''\n",
    "CREATE TABLE sales.sql_server_varchar_withoutlength(\n",
    "val VARCHAR NOT NULL\n",
    "); \n",
    "''')\n",
    "\n",
    "cursor.execute('''\n",
    "INSERT INTO  sales.sql_server_varchar_withoutlength (val)\n",
    "VALUES ('hello how are you!') \n",
    "''')\n",
    "\n",
    "cursor.execute(''' SELECT * FROM sales.sql_server_varchar_withoutlength''')\n",
    "\n",
    "\n",
    "# Fetch all rows from the executed query\n",
    "rows = cursor.fetchall()\n",
    "\n",
    "# Get the column names\n",
    "columns = [column[0] for column in cursor.description]\n",
    "\n",
    "# Convert the rows into a list of dictionaries\n",
    "data = [dict(zip(columns, row)) for row in rows]\n",
    "\n",
    "# Create a DataFrame from the list of dictionaries\n",
    "df = pd.DataFrame(data)\n",
    "df.head(10)"
   ]
  },
  {
   "cell_type": "markdown",
   "id": "fa7eb0e2-1319-4573-a187-de731c4a0fed",
   "metadata": {},
   "source": [
    "Notice the error, the error is due to the fact that we have not provided size after datatype - VARCHAR(SIZE)"
   ]
  },
  {
   "cell_type": "code",
   "execution_count": 33,
   "id": "f428f072-e0aa-45b4-8e1d-9802ae19b301",
   "metadata": {},
   "outputs": [
    {
     "data": {
      "text/plain": [
       "<pyodbc.Cursor at 0x2622a732130>"
      ]
     },
     "execution_count": 33,
     "metadata": {},
     "output_type": "execute_result"
    }
   ],
   "source": [
    "#Defining fixed size of 200 length \n",
    "cursor.execute('''\n",
    "CREATE TABLE sales.sql_server_varchar_length(\n",
    "val VARCHAR(200) NOT NULL\n",
    "); \n",
    "''')\n",
    "\n",
    "cursor.execute('''\n",
    "INSERT INTO  sales.sql_server_varchar_length (val)\n",
    "VALUES ('hello how are you!') \n",
    "''')\n"
   ]
  },
  {
   "cell_type": "code",
   "execution_count": 34,
   "id": "9230adc3-5975-4a6d-9dd2-8147383e92a0",
   "metadata": {},
   "outputs": [
    {
     "data": {
      "text/html": [
       "<div>\n",
       "<style scoped>\n",
       "    .dataframe tbody tr th:only-of-type {\n",
       "        vertical-align: middle;\n",
       "    }\n",
       "\n",
       "    .dataframe tbody tr th {\n",
       "        vertical-align: top;\n",
       "    }\n",
       "\n",
       "    .dataframe thead th {\n",
       "        text-align: right;\n",
       "    }\n",
       "</style>\n",
       "<table border=\"1\" class=\"dataframe\">\n",
       "  <thead>\n",
       "    <tr style=\"text-align: right;\">\n",
       "      <th></th>\n",
       "      <th>val</th>\n",
       "    </tr>\n",
       "  </thead>\n",
       "  <tbody>\n",
       "    <tr>\n",
       "      <th>0</th>\n",
       "      <td>hello how are you!</td>\n",
       "    </tr>\n",
       "  </tbody>\n",
       "</table>\n",
       "</div>"
      ],
      "text/plain": [
       "                  val\n",
       "0  hello how are you!"
      ]
     },
     "execution_count": 34,
     "metadata": {},
     "output_type": "execute_result"
    }
   ],
   "source": [
    "cursor.execute(''' SELECT * FROM sales.sql_server_varchar_length''')\n",
    "\n",
    "\n",
    "# Fetch all rows from the executed query\n",
    "rows = cursor.fetchall()\n",
    "\n",
    "# Get the column names\n",
    "columns = [column[0] for column in cursor.description]\n",
    "\n",
    "# Convert the rows into a list of dictionaries\n",
    "data = [dict(zip(columns, row)) for row in rows]\n",
    "\n",
    "# Create a DataFrame from the list of dictionaries\n",
    "df = pd.DataFrame(data)\n",
    "df.head(10)"
   ]
  },
  {
   "cell_type": "code",
   "execution_count": 36,
   "id": "cc15e9ca-5fad-4ae7-a7ad-d8266635cc9a",
   "metadata": {},
   "outputs": [
    {
     "data": {
      "text/plain": [
       "<pyodbc.Cursor at 0x2622a732130>"
      ]
     },
     "execution_count": 36,
     "metadata": {},
     "output_type": "execute_result"
    }
   ],
   "source": [
    "cursor.execute('''\n",
    "CREATE TABLE sales.sql_server_nvarchar_length(\n",
    "val NVARCHAR(200) NOT NULL\n",
    "); \n",
    "''')\n",
    "\n",
    "cursor.execute('''\n",
    "INSERT INTO  sales.sql_server_nvarchar_length (val)\n",
    "VALUES (N' 你好 abcdefghijklmnopqrstuvwxyz1234567890abcdefghijklmnopqrstuvwxyz1234567890abcdefghijklmnopqrstuvwxyz1234567890abcdefghijklmnopqrstuvwxyz1234567890')\n",
    "''')"
   ]
  },
  {
   "cell_type": "code",
   "execution_count": 38,
   "id": "80966296-4747-45f4-80a1-30915539c0c2",
   "metadata": {},
   "outputs": [
    {
     "data": {
      "text/html": [
       "<div>\n",
       "<style scoped>\n",
       "    .dataframe tbody tr th:only-of-type {\n",
       "        vertical-align: middle;\n",
       "    }\n",
       "\n",
       "    .dataframe tbody tr th {\n",
       "        vertical-align: top;\n",
       "    }\n",
       "\n",
       "    .dataframe thead th {\n",
       "        text-align: right;\n",
       "    }\n",
       "</style>\n",
       "<table border=\"1\" class=\"dataframe\">\n",
       "  <thead>\n",
       "    <tr style=\"text-align: right;\">\n",
       "      <th></th>\n",
       "      <th>val</th>\n",
       "    </tr>\n",
       "  </thead>\n",
       "  <tbody>\n",
       "    <tr>\n",
       "      <th>0</th>\n",
       "      <td>你好 abcdefghijklmnopqrstuvwxyz1234567890abcdef...</td>\n",
       "    </tr>\n",
       "  </tbody>\n",
       "</table>\n",
       "</div>"
      ],
      "text/plain": [
       "                                                 val\n",
       "0   你好 abcdefghijklmnopqrstuvwxyz1234567890abcdef..."
      ]
     },
     "execution_count": 38,
     "metadata": {},
     "output_type": "execute_result"
    }
   ],
   "source": [
    "cursor.execute(''' SELECT * FROM sales.sql_server_nvarchar_length''')\n",
    "\n",
    "\n",
    "# Fetch all rows from the executed query\n",
    "rows = cursor.fetchall()\n",
    "\n",
    "# Get the column names\n",
    "columns = [column[0] for column in cursor.description]\n",
    "\n",
    "# Convert the rows into a list of dictionaries\n",
    "data = [dict(zip(columns, row)) for row in rows]\n",
    "\n",
    "# Create a DataFrame from the list of dictionaries\n",
    "df = pd.DataFrame(data)\n",
    "df.head(10)"
   ]
  },
  {
   "cell_type": "code",
   "execution_count": 40,
   "id": "147174af-a53e-4e60-be68-f0ca226a94c3",
   "metadata": {},
   "outputs": [
    {
     "data": {
      "text/html": [
       "<div>\n",
       "<style scoped>\n",
       "    .dataframe tbody tr th:only-of-type {\n",
       "        vertical-align: middle;\n",
       "    }\n",
       "\n",
       "    .dataframe tbody tr th {\n",
       "        vertical-align: top;\n",
       "    }\n",
       "\n",
       "    .dataframe thead th {\n",
       "        text-align: right;\n",
       "    }\n",
       "</style>\n",
       "<table border=\"1\" class=\"dataframe\">\n",
       "  <thead>\n",
       "    <tr style=\"text-align: right;\">\n",
       "      <th></th>\n",
       "      <th>val</th>\n",
       "      <th>len</th>\n",
       "      <th>data_length</th>\n",
       "    </tr>\n",
       "  </thead>\n",
       "  <tbody>\n",
       "    <tr>\n",
       "      <th>0</th>\n",
       "      <td>你好 abcdefghijklmnopqrstuvwxyz1234567890abcdef...</td>\n",
       "      <td>148</td>\n",
       "      <td>296</td>\n",
       "    </tr>\n",
       "  </tbody>\n",
       "</table>\n",
       "</div>"
      ],
      "text/plain": [
       "                                                 val  len  data_length\n",
       "0   你好 abcdefghijklmnopqrstuvwxyz1234567890abcdef...  148          296"
      ]
     },
     "execution_count": 40,
     "metadata": {},
     "output_type": "execute_result"
    }
   ],
   "source": [
    "cursor.execute('''\n",
    "SELECT\n",
    "    val,\n",
    "    LEN(val) len,\n",
    "    DATALENGTH(val) data_length\n",
    "FROM\n",
    "    sales.sql_server_nvarchar_length;\n",
    "''')\n",
    "\n",
    "\n",
    "# Fetch all rows from the executed query\n",
    "rows = cursor.fetchall()\n",
    "\n",
    "# Get the column names\n",
    "columns = [column[0] for column in cursor.description]\n",
    "\n",
    "# Convert the rows into a list of dictionaries\n",
    "data = [dict(zip(columns, row)) for row in rows]\n",
    "\n",
    "# Create a DataFrame from the list of dictionaries\n",
    "df = pd.DataFrame(data)\n",
    "df.head(10)"
   ]
  },
  {
   "cell_type": "markdown",
   "id": "1eadb3b6-b0f1-416d-9125-e910f792d26c",
   "metadata": {},
   "source": [
    "### DATE, TIME, DATETIME2, DATETIMEOFFSET"
   ]
  },
  {
   "cell_type": "markdown",
   "id": "83106a80-5c10-49d7-84a4-1a85962b2e88",
   "metadata": {},
   "source": [
    "#### Date"
   ]
  },
  {
   "cell_type": "markdown",
   "id": "1bf092c0-4509-444b-83b0-708e8955b113",
   "metadata": {},
   "source": [
    "It takes 3 bytes to store a DATE value. The default literal string format of a DATE value is as follows:\n",
    "\n",
    "    YYYY-MM-DD\n",
    "\n",
    "In this format:\n",
    "\n",
    "    YYYY is four digits that represent a year, which ranges from 0001 to 9999.\n",
    "    MM is two digits that represent a month of a year, which ranges from 01 to 12.\n",
    "    DD is two digits that represent a day of the specified month, which ranges from 01 to 31, depending on the month."
   ]
  },
  {
   "cell_type": "code",
   "execution_count": 42,
   "id": "5bc0b32f-c399-4ba0-9cec-e61106b8b7db",
   "metadata": {},
   "outputs": [
    {
     "data": {
      "text/html": [
       "<div>\n",
       "<style scoped>\n",
       "    .dataframe tbody tr th:only-of-type {\n",
       "        vertical-align: middle;\n",
       "    }\n",
       "\n",
       "    .dataframe tbody tr th {\n",
       "        vertical-align: top;\n",
       "    }\n",
       "\n",
       "    .dataframe thead th {\n",
       "        text-align: right;\n",
       "    }\n",
       "</style>\n",
       "<table border=\"1\" class=\"dataframe\">\n",
       "  <thead>\n",
       "    <tr style=\"text-align: right;\">\n",
       "      <th></th>\n",
       "      <th>order_id</th>\n",
       "      <th>customer_id</th>\n",
       "      <th>order_status</th>\n",
       "      <th>order_date</th>\n",
       "    </tr>\n",
       "  </thead>\n",
       "  <tbody>\n",
       "    <tr>\n",
       "      <th>0</th>\n",
       "      <td>6</td>\n",
       "      <td>94</td>\n",
       "      <td>4</td>\n",
       "      <td>2016-01-04</td>\n",
       "    </tr>\n",
       "    <tr>\n",
       "      <th>1</th>\n",
       "      <td>7</td>\n",
       "      <td>324</td>\n",
       "      <td>4</td>\n",
       "      <td>2016-01-04</td>\n",
       "    </tr>\n",
       "    <tr>\n",
       "      <th>2</th>\n",
       "      <td>8</td>\n",
       "      <td>1204</td>\n",
       "      <td>4</td>\n",
       "      <td>2016-01-04</td>\n",
       "    </tr>\n",
       "    <tr>\n",
       "      <th>3</th>\n",
       "      <td>4</td>\n",
       "      <td>175</td>\n",
       "      <td>4</td>\n",
       "      <td>2016-01-03</td>\n",
       "    </tr>\n",
       "    <tr>\n",
       "      <th>4</th>\n",
       "      <td>5</td>\n",
       "      <td>1324</td>\n",
       "      <td>4</td>\n",
       "      <td>2016-01-03</td>\n",
       "    </tr>\n",
       "    <tr>\n",
       "      <th>5</th>\n",
       "      <td>3</td>\n",
       "      <td>523</td>\n",
       "      <td>4</td>\n",
       "      <td>2016-01-02</td>\n",
       "    </tr>\n",
       "    <tr>\n",
       "      <th>6</th>\n",
       "      <td>1</td>\n",
       "      <td>259</td>\n",
       "      <td>4</td>\n",
       "      <td>2016-01-01</td>\n",
       "    </tr>\n",
       "    <tr>\n",
       "      <th>7</th>\n",
       "      <td>2</td>\n",
       "      <td>1212</td>\n",
       "      <td>4</td>\n",
       "      <td>2016-01-01</td>\n",
       "    </tr>\n",
       "  </tbody>\n",
       "</table>\n",
       "</div>"
      ],
      "text/plain": [
       "   order_id  customer_id  order_status  order_date\n",
       "0         6           94             4  2016-01-04\n",
       "1         7          324             4  2016-01-04\n",
       "2         8         1204             4  2016-01-04\n",
       "3         4          175             4  2016-01-03\n",
       "4         5         1324             4  2016-01-03\n",
       "5         3          523             4  2016-01-02\n",
       "6         1          259             4  2016-01-01\n",
       "7         2         1212             4  2016-01-01"
      ]
     },
     "execution_count": 42,
     "metadata": {},
     "output_type": "execute_result"
    }
   ],
   "source": [
    "cursor.execute('''\n",
    "SELECT    \n",
    "\torder_id, \n",
    "\tcustomer_id, \n",
    "\torder_status, \n",
    "\torder_date\n",
    "FROM    \n",
    "\tsales.orders\n",
    "WHERE order_date < '2016-01-05'\n",
    "ORDER BY \n",
    "\torder_date DESC;\n",
    "''')\n",
    "\n",
    "# Fetch all rows from the executed query\n",
    "rows = cursor.fetchall()\n",
    "\n",
    "# Get the column names\n",
    "columns = [column[0] for column in cursor.description]\n",
    "\n",
    "# Convert the rows into a list of dictionaries\n",
    "data = [dict(zip(columns, row)) for row in rows]\n",
    "\n",
    "# Create a DataFrame from the list of dictionaries\n",
    "df = pd.DataFrame(data)\n",
    "df.head(10)"
   ]
  },
  {
   "cell_type": "code",
   "execution_count": null,
   "id": "a4755997-b9df-430a-8f2c-80d85cd08021",
   "metadata": {},
   "outputs": [],
   "source": [
    "Cursor.execute('''\n",
    "CREATE TABLE sales.list_prices (\n",
    "    product_id INT NOT NULL,\n",
    "    valid_from DATE NOT NULL,\n",
    "    valid_to DATE NOT NULL,\n",
    "    amount DEC (10, 2) NOT NULL,\n",
    "    PRIMARY KEY (\n",
    "        product_id,\n",
    "        valid_from,\n",
    "        valid_to\n",
    "    ),\n",
    "    FOREIGN KEY (product_id) \n",
    "      REFERENCES production.products (product_id)\n",
    ");\n",
    "\n",
    "''')\n",
    "\n",
    "cursor.execute('''\n",
    "INSERT INTO sales.list_prices (\n",
    "    product_id,\n",
    "    valid_from,\n",
    "    valid_to,\n",
    "    amount\n",
    ")\n",
    "VALUES\n",
    "    (\n",
    "        1,\n",
    "        '2019-01-01',\n",
    "        '2019-12-31',\n",
    "        400\n",
    "    );\n",
    "''')"
   ]
  },
  {
   "cell_type": "code",
   "execution_count": 43,
   "id": "fe4d73e6-a9de-46f7-ab44-f2feb4a1ad9d",
   "metadata": {},
   "outputs": [
    {
     "data": {
      "text/html": [
       "<div>\n",
       "<style scoped>\n",
       "    .dataframe tbody tr th:only-of-type {\n",
       "        vertical-align: middle;\n",
       "    }\n",
       "\n",
       "    .dataframe tbody tr th {\n",
       "        vertical-align: top;\n",
       "    }\n",
       "\n",
       "    .dataframe thead th {\n",
       "        text-align: right;\n",
       "    }\n",
       "</style>\n",
       "<table border=\"1\" class=\"dataframe\">\n",
       "  <thead>\n",
       "    <tr style=\"text-align: right;\">\n",
       "      <th></th>\n",
       "      <th>product_id</th>\n",
       "      <th>valid_from</th>\n",
       "      <th>valid_to</th>\n",
       "      <th>amount</th>\n",
       "    </tr>\n",
       "  </thead>\n",
       "  <tbody>\n",
       "    <tr>\n",
       "      <th>0</th>\n",
       "      <td>20</td>\n",
       "      <td>2024-10-02</td>\n",
       "      <td>2024-11-23</td>\n",
       "      <td>100.00</td>\n",
       "    </tr>\n",
       "    <tr>\n",
       "      <th>1</th>\n",
       "      <td>22</td>\n",
       "      <td>2010-10-02</td>\n",
       "      <td>2024-11-23</td>\n",
       "      <td>100.00</td>\n",
       "    </tr>\n",
       "  </tbody>\n",
       "</table>\n",
       "</div>"
      ],
      "text/plain": [
       "   product_id  valid_from    valid_to  amount\n",
       "0          20  2024-10-02  2024-11-23  100.00\n",
       "1          22  2010-10-02  2024-11-23  100.00"
      ]
     },
     "execution_count": 43,
     "metadata": {},
     "output_type": "execute_result"
    }
   ],
   "source": [
    "cursor.execute('''\n",
    "SELECT * FROM sales.list_prices\n",
    "''')\n",
    "\n",
    "# Fetch all rows from the executed query\n",
    "rows = cursor.fetchall()\n",
    "\n",
    "# Get the column names\n",
    "columns = [column[0] for column in cursor.description]\n",
    "\n",
    "# Convert the rows into a list of dictionaries\n",
    "data = [dict(zip(columns, row)) for row in rows]\n",
    "\n",
    "# Create a DataFrame from the list of dictionaries\n",
    "df = pd.DataFrame(data)\n",
    "df.head(10)"
   ]
  },
  {
   "cell_type": "markdown",
   "id": "1c7110ea-0e1c-4e82-8739-b49c84dca8fd",
   "metadata": {},
   "source": [
    "#### Time"
   ]
  },
  {
   "cell_type": "markdown",
   "id": "66dd257e-9e7c-44a6-9586-9dc72f7c7bb5",
   "metadata": {},
   "source": [
    "The SQL Server TIME data type defines a time of a day based on 24-hour clock. The syntax of the TIME data type is as follows:\n",
    "\n",
    "    TIME[ (fractional second scale) ]"
   ]
  },
  {
   "cell_type": "markdown",
   "id": "18d26ef8-eb0c-4aaa-9d31-90d7c4855b5b",
   "metadata": {},
   "source": [
    "The fractional second scale specifies the number of digits for the fractional part of the seconds. The fractional second scale ranges from 0 to 7. By default, the fractional second scale is 7 if you don’t explicitly specify it."
   ]
  },
  {
   "cell_type": "markdown",
   "id": "f8c503d5-654a-458c-a9c1-c6e2735309d9",
   "metadata": {},
   "source": [
    "hh:mm:ss[.nnnnnnn]"
   ]
  },
  {
   "cell_type": "raw",
   "id": "e1f66b13-0310-48f8-8694-a03e9284fad1",
   "metadata": {},
   "source": [
    "In this format:\n",
    "\n",
    "hh is two digits that represent the hour with a range from 0 to 23.\n",
    "mm is two digits that represent the minute with a range from 0 to 59.\n",
    "ss is two digits that represent the second with the range from 0 to 59.\n",
    "The fractional seconds part can be zero to seven digits that has a range from 0 to 9999999."
   ]
  },
  {
   "cell_type": "code",
   "execution_count": 45,
   "id": "79cc95e1-f830-452f-8821-c4aed36bf742",
   "metadata": {},
   "outputs": [
    {
     "data": {
      "text/plain": [
       "<pyodbc.Cursor at 0x2622a732130>"
      ]
     },
     "execution_count": 45,
     "metadata": {},
     "output_type": "execute_result"
    }
   ],
   "source": [
    "cursor.execute('''\n",
    "CREATE TABLE sales.visitation (\n",
    "    visit_id INT PRIMARY KEY IDENTITY,\n",
    "    customer_name VARCHAR (50) NOT NULL,\n",
    "    phone VARCHAR (25),\n",
    "    store_id INT NOT NULL,\n",
    "    visit_on DATE NOT NULL,\n",
    "    start_at TIME (0) NOT NULL,\n",
    "    end_at TIME (0) NOT NULL,\n",
    "    FOREIGN KEY (store_id) REFERENCES sales.stores (store_id)\n",
    ");\n",
    "''')\n",
    "\n",
    "cursor.execute('''\n",
    "INSERT INTO sales.visitation (\n",
    "    customer_name,\n",
    "    phone,\n",
    "    store_id,\n",
    "    visit_on,\n",
    "    start_at,\n",
    "    end_at\n",
    ")\n",
    "VALUES\n",
    "    (\n",
    "        'John Doe',\n",
    "        '(408)-993-3853',\n",
    "        1,\n",
    "        '2018-06-23',\n",
    "        '09:10:00',\n",
    "        '09:30:00'\n",
    "    );\n",
    "\n",
    "''')"
   ]
  },
  {
   "cell_type": "code",
   "execution_count": 46,
   "id": "236e5dd3-5c00-4307-858f-a0a0b6f61d27",
   "metadata": {},
   "outputs": [
    {
     "data": {
      "text/html": [
       "<div>\n",
       "<style scoped>\n",
       "    .dataframe tbody tr th:only-of-type {\n",
       "        vertical-align: middle;\n",
       "    }\n",
       "\n",
       "    .dataframe tbody tr th {\n",
       "        vertical-align: top;\n",
       "    }\n",
       "\n",
       "    .dataframe thead th {\n",
       "        text-align: right;\n",
       "    }\n",
       "</style>\n",
       "<table border=\"1\" class=\"dataframe\">\n",
       "  <thead>\n",
       "    <tr style=\"text-align: right;\">\n",
       "      <th></th>\n",
       "      <th>visit_id</th>\n",
       "      <th>customer_name</th>\n",
       "      <th>phone</th>\n",
       "      <th>store_id</th>\n",
       "      <th>visit_on</th>\n",
       "      <th>start_at</th>\n",
       "      <th>end_at</th>\n",
       "    </tr>\n",
       "  </thead>\n",
       "  <tbody>\n",
       "    <tr>\n",
       "      <th>0</th>\n",
       "      <td>1</td>\n",
       "      <td>John Doe</td>\n",
       "      <td>(408)-993-3853</td>\n",
       "      <td>1</td>\n",
       "      <td>2018-06-23</td>\n",
       "      <td>09:10:00</td>\n",
       "      <td>09:30:00</td>\n",
       "    </tr>\n",
       "  </tbody>\n",
       "</table>\n",
       "</div>"
      ],
      "text/plain": [
       "   visit_id customer_name           phone  store_id    visit_on  start_at  \\\n",
       "0         1      John Doe  (408)-993-3853         1  2018-06-23  09:10:00   \n",
       "\n",
       "     end_at  \n",
       "0  09:30:00  "
      ]
     },
     "execution_count": 46,
     "metadata": {},
     "output_type": "execute_result"
    }
   ],
   "source": [
    "cursor.execute('''\n",
    "SELECT * FROM sales.visitation\n",
    "''')\n",
    "\n",
    "\n",
    "# Fetch all rows from the executed query\n",
    "rows = cursor.fetchall()\n",
    "\n",
    "# Get the column names\n",
    "columns = [column[0] for column in cursor.description]\n",
    "\n",
    "# Convert the rows into a list of dictionaries\n",
    "data = [dict(zip(columns, row)) for row in rows]\n",
    "\n",
    "# Create a DataFrame from the list of dictionaries\n",
    "df = pd.DataFrame(data)\n",
    "df.head(10)"
   ]
  },
  {
   "cell_type": "markdown",
   "id": "1c23b4bd-06f8-49cb-9d1d-1cebda54c73b",
   "metadata": {},
   "source": [
    "#### DATETIME2"
   ]
  },
  {
   "cell_type": "markdown",
   "id": "4289df0f-5438-4fed-b5d6-4c37461b4097",
   "metadata": {},
   "source": [
    "DATETIME2(fractional seconds precision)"
   ]
  },
  {
   "cell_type": "markdown",
   "id": "8c3b804f-b95f-405e-835b-04615666f6df",
   "metadata": {},
   "source": [
    "The DATETIME2 has two components: date and time.\n",
    "\n",
    "    The date has a range from January 01, 01 (0001-01-01) to December 31, 9999 (9999-12-31)\n",
    "    The time has a range from 00:00:00 to 23:59:59.9999999.\n",
    "    The storage size of a DATETIME2 value depends on the fractional seconds precision. It requires 6 bytes for the precision that is less than 3, 7 bytes for the precision that is between 3 and 4, and 8 bytes for all other precisions.\n",
    "\n",
    "The default string literal format of the DATETIME2 is as follows:\n",
    "\n",
    "    YYYY-MM-DD hh:mm:ss[.fractional seconds]\n",
    "                                                                                                                                                                                                            \n",
    "Code language: SQL (Structured Query Language) (sql)\n",
    "In this format:\n",
    "\n",
    "    YYYY is a four-digit number that represents a year e.g., 2018. It ranges from 0001 through 9999.\n",
    "    MM is a two-digit number that represents a month in a year e.g., 12. It ranges from 01 to 12.\n",
    "    DD is a two-digit number that represents a day of a specified month e.g., 23. It ranges from 01 to 31.\n",
    "    hh is a two-digit number that represents the hour. It ranges from 00 to 23.\n",
    "    mm is a two-digit number that represents the minute. It ranges from 00 to 59.\n",
    "    ss is a two-digit number that represents the second. It ranges from 00 to 59.\n",
    "    The fractional seconds is zero to a seven-digit number that ranges from 0 to 9999999."
   ]
  },
  {
   "cell_type": "code",
   "execution_count": 48,
   "id": "1833232b-ec50-4481-97de-84fec8944071",
   "metadata": {},
   "outputs": [
    {
     "data": {
      "text/html": [
       "<div>\n",
       "<style scoped>\n",
       "    .dataframe tbody tr th:only-of-type {\n",
       "        vertical-align: middle;\n",
       "    }\n",
       "\n",
       "    .dataframe tbody tr th {\n",
       "        vertical-align: top;\n",
       "    }\n",
       "\n",
       "    .dataframe thead th {\n",
       "        text-align: right;\n",
       "    }\n",
       "</style>\n",
       "<table border=\"1\" class=\"dataframe\">\n",
       "  <thead>\n",
       "    <tr style=\"text-align: right;\">\n",
       "      <th></th>\n",
       "      <th>color_id</th>\n",
       "      <th>color_name</th>\n",
       "      <th>created_at</th>\n",
       "    </tr>\n",
       "  </thead>\n",
       "  <tbody>\n",
       "    <tr>\n",
       "      <th>0</th>\n",
       "      <td>1</td>\n",
       "      <td>Red</td>\n",
       "      <td>2024-11-25 18:48:52.343333</td>\n",
       "    </tr>\n",
       "    <tr>\n",
       "      <th>1</th>\n",
       "      <td>2</td>\n",
       "      <td>Green</td>\n",
       "      <td>2018-06-23 07:30:20.000000</td>\n",
       "    </tr>\n",
       "  </tbody>\n",
       "</table>\n",
       "</div>"
      ],
      "text/plain": [
       "   color_id color_name                 created_at\n",
       "0         1        Red 2024-11-25 18:48:52.343333\n",
       "1         2      Green 2018-06-23 07:30:20.000000"
      ]
     },
     "execution_count": 48,
     "metadata": {},
     "output_type": "execute_result"
    }
   ],
   "source": [
    "cursor.execute('''\n",
    "CREATE TABLE sales.product_colors (\n",
    "    color_id INT PRIMARY KEY IDENTITY,\n",
    "    color_name VARCHAR (50) NOT NULL,\n",
    "    created_at DATETIME2\n",
    ");\n",
    "\n",
    "''')\n",
    "\n",
    "cursor.execute('''\n",
    "INSERT INTO sales.product_colors (color_name, created_at)\n",
    "VALUES\n",
    "    ('Red', GETDATE()); \n",
    "''')\n",
    "\n",
    "\n",
    "cursor.execute('''\n",
    "INSERT INTO sales.product_colors (color_name, created_at)\n",
    "VALUES\n",
    "    ('Green', '2018-06-23 07:30:20');\n",
    "''')\n",
    "\n",
    "cursor.execute('''\n",
    "SELECT * FROM  sales.product_colors\n",
    "''')\n",
    "\n",
    "\n",
    "# Fetch all rows from the executed query\n",
    "rows = cursor.fetchall()\n",
    "\n",
    "# Get the column names\n",
    "columns = [column[0] for column in cursor.description]\n",
    "\n",
    "# Convert the rows into a list of dictionaries\n",
    "data = [dict(zip(columns, row)) for row in rows]\n",
    "\n",
    "# Create a DataFrame from the list of dictionaries\n",
    "df = pd.DataFrame(data)\n",
    "df.head(10)"
   ]
  },
  {
   "cell_type": "markdown",
   "id": "797a5715-ff71-4bab-96cf-ec494a583e49",
   "metadata": {},
   "source": [
    "#### DATETIMEOFFSET"
   ]
  },
  {
   "cell_type": "markdown",
   "id": "ade1cd13-5429-4548-8361-f496f67d4845",
   "metadata": {},
   "source": [
    "\n",
    "For a datetime or time value, a time zone offset specifies the zone offset from UTC. A time zone offset is represented as [+|-] hh:mm:\n",
    "\n",
    "    hh is two digits that range from 00 to 14, which represents the number of hour in the time zone offset.\n",
    "    mm is two digits that range from 00 to 59, which represents the number of additional minutes in the time zone offset.\n",
    "    +(plus) or -(minus) specifies whether the time zone offset is added or subtracted from the UTC time to return the local time.\n",
    "    The valid range of a time zone offset is -14:00 to +14:00"
   ]
  },
  {
   "cell_type": "code",
   "execution_count": 49,
   "id": "0ed5f7b8-5781-48d3-8832-fcbd2c1c7f48",
   "metadata": {},
   "outputs": [
    {
     "data": {
      "text/plain": [
       "<pyodbc.Cursor at 0x2622a732130>"
      ]
     },
     "execution_count": 49,
     "metadata": {},
     "output_type": "execute_result"
    }
   ],
   "source": [
    "cursor.execute('''\n",
    "CREATE TABLE messages(\n",
    "    id         INT PRIMARY KEY IDENTITY, \n",
    "    message    VARCHAR(255) NOT NULL, \n",
    "    created_at DATETIMEOFFSET NOT NULL\n",
    ");\n",
    "''')"
   ]
  },
  {
   "cell_type": "code",
   "execution_count": 52,
   "id": "d17bb2b9-f1ea-4a9c-b38b-c2b4c1c89881",
   "metadata": {},
   "outputs": [
    {
     "data": {
      "text/plain": [
       "<pyodbc.Cursor at 0x2622a732130>"
      ]
     },
     "execution_count": 52,
     "metadata": {},
     "output_type": "execute_result"
    }
   ],
   "source": [
    "cursor.execute('''\n",
    "INSERT INTO  sales.visit_offset (visit_id, start_at)\n",
    "VALUES (10, CAST ('2010-10-02 10:08:36.567878 -08:00' AS DATETIMEOFFSET) )\n",
    "''')"
   ]
  },
  {
   "cell_type": "code",
   "execution_count": 53,
   "id": "112362c7-c41e-4004-bf5e-caa99c9e38ec",
   "metadata": {},
   "outputs": [
    {
     "ename": "ProgrammingError",
     "evalue": "('ODBC SQL type -155 is not yet supported.  column-index=1  type=-155', 'HY106')",
     "output_type": "error",
     "traceback": [
      "\u001b[1;31m---------------------------------------------------------------------------\u001b[0m",
      "\u001b[1;31mProgrammingError\u001b[0m                          Traceback (most recent call last)",
      "Cell \u001b[1;32mIn[53], line 7\u001b[0m\n\u001b[0;32m      1\u001b[0m cursor\u001b[38;5;241m.\u001b[39mexecute(\u001b[38;5;124m'''\u001b[39m\n\u001b[0;32m      2\u001b[0m \u001b[38;5;124mSELECT * FROM sales.visit_offset\u001b[39m\n\u001b[0;32m      3\u001b[0m \u001b[38;5;124m'''\u001b[39m)\n\u001b[0;32m      6\u001b[0m \u001b[38;5;66;03m# Fetch all rows from the executed query\u001b[39;00m\n\u001b[1;32m----> 7\u001b[0m rows \u001b[38;5;241m=\u001b[39m cursor\u001b[38;5;241m.\u001b[39mfetchall()\n\u001b[0;32m      9\u001b[0m \u001b[38;5;66;03m# Get the column names\u001b[39;00m\n\u001b[0;32m     10\u001b[0m columns \u001b[38;5;241m=\u001b[39m [column[\u001b[38;5;241m0\u001b[39m] \u001b[38;5;28;01mfor\u001b[39;00m column \u001b[38;5;129;01min\u001b[39;00m cursor\u001b[38;5;241m.\u001b[39mdescription]\n",
      "\u001b[1;31mProgrammingError\u001b[0m: ('ODBC SQL type -155 is not yet supported.  column-index=1  type=-155', 'HY106')"
     ]
    }
   ],
   "source": [
    "cursor.execute('''\n",
    "SELECT * FROM sales.visit_offset\n",
    "''')\n",
    "\n",
    "# Fetch all rows from the executed query\n",
    "rows = cursor.fetchall()\n",
    "\n",
    "# Get the column names\n",
    "columns = [column[0] for column in cursor.description]\n",
    "\n",
    "# Convert the rows into a list of dictionaries\n",
    "data = [dict(zip(columns, row)) for row in rows]\n",
    "\n",
    "# Create a DataFrame from the list of dictionaries\n",
    "df = pd.DataFrame(data)\n",
    "df.head(10)"
   ]
  },
  {
   "cell_type": "code",
   "execution_count": null,
   "id": "d12732d9-1a90-4eee-ab1a-1122dec6d2b8",
   "metadata": {},
   "outputs": [],
   "source": []
  },
  {
   "cell_type": "code",
   "execution_count": null,
   "id": "fa53d068-8cc2-4bd6-941e-2d5b3f1a65ff",
   "metadata": {},
   "outputs": [],
   "source": []
  }
 ],
 "metadata": {
  "kernelspec": {
   "display_name": "Python 3 (ipykernel)",
   "language": "python",
   "name": "python3"
  },
  "language_info": {
   "codemirror_mode": {
    "name": "ipython",
    "version": 3
   },
   "file_extension": ".py",
   "mimetype": "text/x-python",
   "name": "python",
   "nbconvert_exporter": "python",
   "pygments_lexer": "ipython3",
   "version": "3.12.7"
  }
 },
 "nbformat": 4,
 "nbformat_minor": 5
}
