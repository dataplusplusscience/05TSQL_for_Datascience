{
 "cells": [
  {
   "cell_type": "markdown",
   "id": "ca844fe3-1360-4490-8ab2-a8f996e97320",
   "metadata": {},
   "source": [
    "#### Topics:\n",
    "    Indexes"
   ]
  },
  {
   "cell_type": "markdown",
   "id": "1ad650dd-cd06-4027-be79-1e5d114e6612",
   "metadata": {},
   "source": [
    "Indexes are special data structures associated with tables or views that help speed up the query. \n",
    "\n",
    "SQL Server provides two types of indexes: \n",
    "\n",
    "    clustered index and \n",
    "    non-clustered index."
   ]
  },
  {
   "cell_type": "markdown",
   "id": "1fd830df-0ff3-4891-a96a-7dc007ee6d96",
   "metadata": {},
   "source": [
    "Ref: https://quadexcel.com/wp/how-do-sql-indexes-work/"
   ]
  },
  {
   "cell_type": "markdown",
   "id": "25fdfba2-5c0b-40bc-9867-7a7f43a53add",
   "metadata": {},
   "source": [
    "![Indexes](TSQL-Indexes.jpg)"
   ]
  },
  {
   "cell_type": "code",
   "execution_count": 1,
   "id": "1b7a3435-87f5-46a8-acfd-4e3842c37ba5",
   "metadata": {},
   "outputs": [],
   "source": [
    "import pyodbc\n",
    "import os\n",
    "import pandas as pd\n",
    "\n",
    "#Check if drivers are installed\n",
    "#[x for x in pyodbc.drivers() if x.startswith(\"Microsoft Access Driver\")]\n",
    "\n",
    "# Define the connection string\n",
    "conn_str = (\n",
    "    r'DRIVER={ODBC Driver 17 for SQL Server};'\n",
    "    r'SERVER=localhost;'\n",
    "    r'DATABASE=BikeStores;'\n",
    "    r'Trusted_Connection=yes;'\n",
    ")\n",
    "\n",
    "# Establish the connection\n",
    "conn = pyodbc.connect(conn_str, autocommit=True)\n",
    "\n",
    "# Create a cursor\n",
    "cursor = conn.cursor()"
   ]
  },
  {
   "cell_type": "markdown",
   "id": "f0f9a28d-bced-4814-af9f-f6ff11743697",
   "metadata": {},
   "source": [
    "##### Clustered Indexes"
   ]
  },
  {
   "cell_type": "code",
   "execution_count": 2,
   "id": "89289607-9179-4139-8e47-d8ab9f1fdf65",
   "metadata": {},
   "outputs": [
    {
     "data": {
      "text/plain": [
       "<pyodbc.Cursor at 0x1755fe020b0>"
      ]
     },
     "execution_count": 2,
     "metadata": {},
     "output_type": "execute_result"
    }
   ],
   "source": [
    "cursor.execute('''\n",
    "CREATE TABLE production.parts(\n",
    "    part_id   INT NOT NULL, \n",
    "    part_name VARCHAR(100)\n",
    ");\n",
    "\n",
    "''')\n",
    "\n",
    "cursor.execute('''\n",
    "INSERT INTO \n",
    "    production.parts(part_id, part_name)\n",
    "VALUES\n",
    "    (1,'Frame'),\n",
    "    (2,'Head Tube'),\n",
    "    (3,'Handlebar Grip'),\n",
    "    (4,'Shock Absorber'),\n",
    "    (5,'Fork');\n",
    "\n",
    "''')\n",
    "\n"
   ]
  },
  {
   "cell_type": "markdown",
   "id": "51c2220b-76c8-4bf2-ae6b-9bacb1217ec5",
   "metadata": {},
   "source": [
    "The production.parts table does not have a primary key. Therefore SQL Server stores its rows in an unordered structure called a heap.\n",
    "\n",
    "When you query data from the production.parts table, the query optimizer needs to scan the whole table to search."
   ]
  },
  {
   "cell_type": "code",
   "execution_count": 3,
   "id": "f09278d8-3865-4d27-a661-59b2227225c0",
   "metadata": {},
   "outputs": [
    {
     "data": {
      "text/html": [
       "<div>\n",
       "<style scoped>\n",
       "    .dataframe tbody tr th:only-of-type {\n",
       "        vertical-align: middle;\n",
       "    }\n",
       "\n",
       "    .dataframe tbody tr th {\n",
       "        vertical-align: top;\n",
       "    }\n",
       "\n",
       "    .dataframe thead th {\n",
       "        text-align: right;\n",
       "    }\n",
       "</style>\n",
       "<table border=\"1\" class=\"dataframe\">\n",
       "  <thead>\n",
       "    <tr style=\"text-align: right;\">\n",
       "      <th></th>\n",
       "      <th>part_id</th>\n",
       "      <th>part_name</th>\n",
       "    </tr>\n",
       "  </thead>\n",
       "  <tbody>\n",
       "    <tr>\n",
       "      <th>0</th>\n",
       "      <td>5</td>\n",
       "      <td>Fork</td>\n",
       "    </tr>\n",
       "  </tbody>\n",
       "</table>\n",
       "</div>"
      ],
      "text/plain": [
       "   part_id part_name\n",
       "0        5      Fork"
      ]
     },
     "execution_count": 3,
     "metadata": {},
     "output_type": "execute_result"
    }
   ],
   "source": [
    "cursor.execute('''\n",
    "SELECT \n",
    "    part_id, \n",
    "    part_name\n",
    "FROM \n",
    "    production.parts\n",
    "WHERE \n",
    "    part_id = 5;\n",
    "\n",
    "''')\n",
    "\n",
    "\n",
    "# Fetch all rows from the executed query\n",
    "rows = cursor.fetchall()\n",
    "\n",
    "# Get the column names\n",
    "columns = [column[0] for column in cursor.description]\n",
    "\n",
    "# Convert the rows into a list of dictionaries\n",
    "data = [dict(zip(columns, row)) for row in rows]\n",
    "\n",
    "# Create a DataFrame from the list of dictionaries\n",
    "df = pd.DataFrame(data)\n",
    "df.head(10)"
   ]
  },
  {
   "cell_type": "markdown",
   "id": "8a6f6dae-c0d8-4733-8d0a-1b03b21b7ce4",
   "metadata": {},
   "source": [
    "Because the production.parts table has only five rows, the query executes very fast. However, if the table contains a large number of rows, it’ll take a lot of time and resources to search for data.\n",
    "\n",
    "To resolve this issue, SQL Server provides a dedicated structure to speed up the retrieval of rows from a table called index.\n",
    "\n",
    "SQL Server has two types of indexes: clustered index and non-clustered index. We will focus on the clustered index in this tutorial."
   ]
  },
  {
   "cell_type": "markdown",
   "id": "54b2d358-7ab0-4fac-9f88-25176dc8e757",
   "metadata": {},
   "source": [
    "**A clustered index stores data rows in a sorted structure based on its key values. Each table has only one clustered index because data rows can be only sorted in one order. A table that has a clustered index is called a clustered table.**"
   ]
  },
  {
   "cell_type": "markdown",
   "id": "6fd222bd-2df7-4528-8663-a07b19ff96c3",
   "metadata": {},
   "source": [
    "![Clustered-Index](SQL-Server-Clustered-B-Tree.png)"
   ]
  },
  {
   "cell_type": "markdown",
   "id": "8adfb664-f162-448d-ac2e-94c7af700fca",
   "metadata": {},
   "source": [
    "A clustered index organizes data using a special structured so-called B-tree (or balanced tree) which enables searches, inserts, updates, and deletes in logarithmic amortized time.\n",
    "\n",
    "In this structure, the top node of the B-tree is called the root node. The nodes at the bottom level are called the leaf nodes. Any index levels between the root and the leaf nodes are known as intermediate levels.\n",
    "\n",
    "In the B-Tree, the root node and intermediate-level nodes contain index pages that hold index rows. The leaf nodes contain the data pages of the underlying table. The pages in each level of the index are linked using another structure called a doubly-linked list."
   ]
  },
  {
   "cell_type": "markdown",
   "id": "5b1f429c-5eed-4e18-b49a-6dbe4da18a0a",
   "metadata": {},
   "source": [
    "SQL Server Clustered Index and Primary Key Constraint\n",
    "When you create a table with a primary key, SQL Server automatically creates a corresponding clustered index that includes primary key columns.\n",
    "\n",
    "This statement creates a new table named production.part_prices with a primary key that includes two columns: part_id and valid_from."
   ]
  },
  {
   "cell_type": "code",
   "execution_count": 4,
   "id": "aec3a8df-5f4f-477f-acbd-59fcbc299aa6",
   "metadata": {},
   "outputs": [
    {
     "data": {
      "text/plain": [
       "<pyodbc.Cursor at 0x1755fe020b0>"
      ]
     },
     "execution_count": 4,
     "metadata": {},
     "output_type": "execute_result"
    }
   ],
   "source": [
    "cursor.execute('''\n",
    "CREATE TABLE production.part_prices(\n",
    "    part_id int,\n",
    "    valid_from date,\n",
    "    price decimal(18,4) not null,\n",
    "    PRIMARY KEY(part_id, valid_from) \n",
    ");\n",
    "''')"
   ]
  },
  {
   "cell_type": "markdown",
   "id": "dcc30bd8-8b35-4f0e-bd48-3ce2a84e0548",
   "metadata": {},
   "source": [
    "When a table does not have a primary key, which is very rare, you can use the CREATE CLUSTERED INDEX statement to add a clustered index to it."
   ]
  },
  {
   "cell_type": "code",
   "execution_count": 5,
   "id": "ee576a4f-9416-4ab1-9b48-9993245322e0",
   "metadata": {},
   "outputs": [
    {
     "data": {
      "text/plain": [
       "<pyodbc.Cursor at 0x1755fe020b0>"
      ]
     },
     "execution_count": 5,
     "metadata": {},
     "output_type": "execute_result"
    }
   ],
   "source": [
    "cursor.execute('''\n",
    "CREATE CLUSTERED INDEX ix_parts_id\n",
    "ON production.parts (part_id);  \n",
    "''')"
   ]
  },
  {
   "cell_type": "markdown",
   "id": "b2257dab-ec34-44ea-addf-4fd90d8966f3",
   "metadata": {},
   "source": [
    "When executing the following statement, the SQL Server traverses the index (Clustered Index Seek) to locate the rows, which is faster than scanning the whole table."
   ]
  },
  {
   "cell_type": "markdown",
   "id": "b8a03c65-5e24-4d2f-8f42-59ff08717a4c",
   "metadata": {},
   "source": [
    "#### Points to remember:\n",
    "\n",
    "    A clustered index physically organizes the data in a table according to the index key.\n",
    "    When creating a table with a primary key, SQL Server automatically creates a clustered index based on the primary key columns.\n",
    "    A table has only one clustered index.\n",
    "    Use the CREATE CLUSTERED INDEX statement to create a new clustered index for a table."
   ]
  },
  {
   "cell_type": "markdown",
   "id": "32e68daa-5a80-45f6-b053-d6f174c1b9ee",
   "metadata": {},
   "source": [
    "#### Non-Clustered Indexes:"
   ]
  },
  {
   "cell_type": "markdown",
   "id": "5602cd11-cc66-476e-aec2-81cad97c40bb",
   "metadata": {},
   "source": [
    "A nonclustered index is a data structure that improves the speed of data retrieval from tables. Unlike a clustered index, a nonclustered index sorts and stores data separately from the data rows in the table. It is a copy of selected columns of data from a table with the links to the associated table.\n",
    "\n",
    "Like a clustered index, a nonclustered index uses the B-tree structure to organize its data.\n",
    "\n",
    "A table may have one or more nonclustered indexes and each non-clustered index may include one or more columns in a table."
   ]
  },
  {
   "cell_type": "markdown",
   "id": "9deaa0cb-f68d-44ef-9ce5-2b0b74e31e6f",
   "metadata": {},
   "source": [
    "Besides storing the index key values, the leaf nodes also store row pointers to the data rows that contain the key values. These row pointers are also known as row locators.\n",
    "\n",
    "If the underlying table is a clustered table, the row pointer is the clustered index key. In case the underlying table is a heap, the row pointer points to the row of the table."
   ]
  },
  {
   "cell_type": "markdown",
   "id": "e42370ab-d1ff-4299-8513-692b818a2c6a",
   "metadata": {},
   "source": [
    "##### 1) Using the CREATE INDEX statement to create a nonclustered index for one column example"
   ]
  },
  {
   "cell_type": "code",
   "execution_count": 6,
   "id": "14d5f1ab-e143-4c7b-9b6b-7c84221cc505",
   "metadata": {},
   "outputs": [
    {
     "data": {
      "text/plain": [
       "<pyodbc.Cursor at 0x1755fe020b0>"
      ]
     },
     "execution_count": 6,
     "metadata": {},
     "output_type": "execute_result"
    }
   ],
   "source": [
    "cursor.execute('''\n",
    "SELECT \n",
    "    customer_id, \n",
    "    city\n",
    "FROM \n",
    "    sales.customers\n",
    "WHERE \n",
    "    city = 'Atwater';\n",
    "''')"
   ]
  },
  {
   "cell_type": "code",
   "execution_count": 7,
   "id": "8c493c13-ab6b-4909-a4ce-ff86b6228500",
   "metadata": {},
   "outputs": [
    {
     "data": {
      "text/plain": [
       "<pyodbc.Cursor at 0x1755fe020b0>"
      ]
     },
     "execution_count": 7,
     "metadata": {},
     "output_type": "execute_result"
    }
   ],
   "source": [
    "cursor.execute('''\n",
    "CREATE INDEX ix_customers_city\n",
    "ON sales.customers(city);\n",
    "''')"
   ]
  },
  {
   "cell_type": "markdown",
   "id": "fe4a42af-04bf-4c8c-97e7-1e40b3040efa",
   "metadata": {},
   "source": [
    "#### 2) Using the CREATE INDEX statement to create a nonclustered index for multiple columns"
   ]
  },
  {
   "cell_type": "code",
   "execution_count": 8,
   "id": "40f9fb67-668d-44ea-bce8-303e0e60ded6",
   "metadata": {},
   "outputs": [
    {
     "data": {
      "text/plain": [
       "<pyodbc.Cursor at 0x1755fe020b0>"
      ]
     },
     "execution_count": 8,
     "metadata": {},
     "output_type": "execute_result"
    }
   ],
   "source": [
    "cursor.execute('''\n",
    "SELECT \n",
    "    customer_id, \n",
    "    first_name, \n",
    "    last_name\n",
    "FROM \n",
    "    sales.customers\n",
    "WHERE \n",
    "    last_name = 'Berg' AND \n",
    "    first_name = 'Monika';\n",
    "''')"
   ]
  },
  {
   "cell_type": "code",
   "execution_count": 9,
   "id": "4bd76f43-6304-4fda-8999-d9e65a7f4365",
   "metadata": {},
   "outputs": [
    {
     "data": {
      "text/plain": [
       "<pyodbc.Cursor at 0x1755fe020b0>"
      ]
     },
     "execution_count": 9,
     "metadata": {},
     "output_type": "execute_result"
    }
   ],
   "source": [
    "cursor.execute('''\n",
    "CREATE INDEX ix_customers_name \n",
    "ON sales.customers(last_name, first_name);\n",
    "''')"
   ]
  },
  {
   "cell_type": "code",
   "execution_count": 10,
   "id": "8368e330-7d0c-4e4d-a994-96f59dc6acf3",
   "metadata": {},
   "outputs": [
    {
     "data": {
      "text/html": [
       "<div>\n",
       "<style scoped>\n",
       "    .dataframe tbody tr th:only-of-type {\n",
       "        vertical-align: middle;\n",
       "    }\n",
       "\n",
       "    .dataframe tbody tr th {\n",
       "        vertical-align: top;\n",
       "    }\n",
       "\n",
       "    .dataframe thead th {\n",
       "        text-align: right;\n",
       "    }\n",
       "</style>\n",
       "<table border=\"1\" class=\"dataframe\">\n",
       "  <thead>\n",
       "    <tr style=\"text-align: right;\">\n",
       "      <th></th>\n",
       "      <th>customer_id</th>\n",
       "      <th>first_name</th>\n",
       "      <th>last_name</th>\n",
       "      <th>phone</th>\n",
       "      <th>email</th>\n",
       "      <th>street</th>\n",
       "      <th>city</th>\n",
       "      <th>state</th>\n",
       "      <th>zip_code</th>\n",
       "    </tr>\n",
       "  </thead>\n",
       "  <tbody>\n",
       "    <tr>\n",
       "      <th>0</th>\n",
       "      <td>1</td>\n",
       "      <td>Debra</td>\n",
       "      <td>Burks</td>\n",
       "      <td>None</td>\n",
       "      <td>debra.burks@yahoo.com</td>\n",
       "      <td>9273 Thorne Ave.</td>\n",
       "      <td>Orchard Park</td>\n",
       "      <td>NY</td>\n",
       "      <td>14127</td>\n",
       "    </tr>\n",
       "    <tr>\n",
       "      <th>1</th>\n",
       "      <td>2</td>\n",
       "      <td>Kasha</td>\n",
       "      <td>Todd</td>\n",
       "      <td>None</td>\n",
       "      <td>kasha.todd@yahoo.com</td>\n",
       "      <td>910 Vine Street</td>\n",
       "      <td>Campbell</td>\n",
       "      <td>CA</td>\n",
       "      <td>95008</td>\n",
       "    </tr>\n",
       "    <tr>\n",
       "      <th>2</th>\n",
       "      <td>3</td>\n",
       "      <td>Tameka</td>\n",
       "      <td>Fisher</td>\n",
       "      <td>None</td>\n",
       "      <td>tameka.fisher@aol.com</td>\n",
       "      <td>769C Honey Creek St.</td>\n",
       "      <td>Redondo Beach</td>\n",
       "      <td>CA</td>\n",
       "      <td>90278</td>\n",
       "    </tr>\n",
       "    <tr>\n",
       "      <th>3</th>\n",
       "      <td>4</td>\n",
       "      <td>Daryl</td>\n",
       "      <td>Spence</td>\n",
       "      <td>None</td>\n",
       "      <td>daryl.spence@aol.com</td>\n",
       "      <td>988 Pearl Lane</td>\n",
       "      <td>Uniondale</td>\n",
       "      <td>NY</td>\n",
       "      <td>11553</td>\n",
       "    </tr>\n",
       "    <tr>\n",
       "      <th>4</th>\n",
       "      <td>5</td>\n",
       "      <td>Charolette</td>\n",
       "      <td>Rice</td>\n",
       "      <td>(916) 381-6003</td>\n",
       "      <td>charolette.rice@msn.com</td>\n",
       "      <td>107 River Dr.</td>\n",
       "      <td>Sacramento</td>\n",
       "      <td>CA</td>\n",
       "      <td>95820</td>\n",
       "    </tr>\n",
       "    <tr>\n",
       "      <th>5</th>\n",
       "      <td>6</td>\n",
       "      <td>Lyndsey</td>\n",
       "      <td>Bean</td>\n",
       "      <td>None</td>\n",
       "      <td>lyndsey.bean@hotmail.com</td>\n",
       "      <td>769 West Road</td>\n",
       "      <td>Fairport</td>\n",
       "      <td>NY</td>\n",
       "      <td>14450</td>\n",
       "    </tr>\n",
       "    <tr>\n",
       "      <th>6</th>\n",
       "      <td>7</td>\n",
       "      <td>Latasha</td>\n",
       "      <td>Hays</td>\n",
       "      <td>(716) 986-3359</td>\n",
       "      <td>latasha.hays@hotmail.com</td>\n",
       "      <td>7014 Manor Station Rd.</td>\n",
       "      <td>Buffalo</td>\n",
       "      <td>NY</td>\n",
       "      <td>14215</td>\n",
       "    </tr>\n",
       "    <tr>\n",
       "      <th>7</th>\n",
       "      <td>8</td>\n",
       "      <td>Jacquline</td>\n",
       "      <td>Duncan</td>\n",
       "      <td>None</td>\n",
       "      <td>jacquline.duncan@yahoo.com</td>\n",
       "      <td>15 Brown St.</td>\n",
       "      <td>Jackson Heights</td>\n",
       "      <td>NY</td>\n",
       "      <td>11372</td>\n",
       "    </tr>\n",
       "    <tr>\n",
       "      <th>8</th>\n",
       "      <td>9</td>\n",
       "      <td>Genoveva</td>\n",
       "      <td>Baldwin</td>\n",
       "      <td>None</td>\n",
       "      <td>genoveva.baldwin@msn.com</td>\n",
       "      <td>8550 Spruce Drive</td>\n",
       "      <td>Port Washington</td>\n",
       "      <td>NY</td>\n",
       "      <td>11050</td>\n",
       "    </tr>\n",
       "    <tr>\n",
       "      <th>9</th>\n",
       "      <td>10</td>\n",
       "      <td>Pamelia</td>\n",
       "      <td>Newman</td>\n",
       "      <td>None</td>\n",
       "      <td>pamelia.newman@gmail.com</td>\n",
       "      <td>476 Chestnut Ave.</td>\n",
       "      <td>Monroe</td>\n",
       "      <td>NY</td>\n",
       "      <td>10950</td>\n",
       "    </tr>\n",
       "  </tbody>\n",
       "</table>\n",
       "</div>"
      ],
      "text/plain": [
       "   customer_id  first_name last_name           phone  \\\n",
       "0            1       Debra     Burks            None   \n",
       "1            2       Kasha      Todd            None   \n",
       "2            3      Tameka    Fisher            None   \n",
       "3            4       Daryl    Spence            None   \n",
       "4            5  Charolette      Rice  (916) 381-6003   \n",
       "5            6     Lyndsey      Bean            None   \n",
       "6            7     Latasha      Hays  (716) 986-3359   \n",
       "7            8   Jacquline    Duncan            None   \n",
       "8            9    Genoveva   Baldwin            None   \n",
       "9           10     Pamelia    Newman            None   \n",
       "\n",
       "                        email                   street             city state  \\\n",
       "0       debra.burks@yahoo.com        9273 Thorne Ave.      Orchard Park    NY   \n",
       "1        kasha.todd@yahoo.com         910 Vine Street          Campbell    CA   \n",
       "2       tameka.fisher@aol.com    769C Honey Creek St.     Redondo Beach    CA   \n",
       "3        daryl.spence@aol.com          988 Pearl Lane         Uniondale    NY   \n",
       "4     charolette.rice@msn.com           107 River Dr.        Sacramento    CA   \n",
       "5    lyndsey.bean@hotmail.com           769 West Road          Fairport    NY   \n",
       "6    latasha.hays@hotmail.com  7014 Manor Station Rd.           Buffalo    NY   \n",
       "7  jacquline.duncan@yahoo.com            15 Brown St.   Jackson Heights    NY   \n",
       "8    genoveva.baldwin@msn.com       8550 Spruce Drive   Port Washington    NY   \n",
       "9    pamelia.newman@gmail.com       476 Chestnut Ave.            Monroe    NY   \n",
       "\n",
       "  zip_code  \n",
       "0    14127  \n",
       "1    95008  \n",
       "2    90278  \n",
       "3    11553  \n",
       "4    95820  \n",
       "5    14450  \n",
       "6    14215  \n",
       "7    11372  \n",
       "8    11050  \n",
       "9    10950  "
      ]
     },
     "execution_count": 10,
     "metadata": {},
     "output_type": "execute_result"
    }
   ],
   "source": [
    "cursor.execute('''\n",
    "SELECT * FROM sales.customers\n",
    "''')\n",
    "\n",
    "\n",
    "# Fetch all rows from the executed query\n",
    "rows = cursor.fetchall()\n",
    "\n",
    "# Get the column names\n",
    "columns = [column[0] for column in cursor.description]\n",
    "\n",
    "# Convert the rows into a list of dictionaries\n",
    "data = [dict(zip(columns, row)) for row in rows]\n",
    "\n",
    "# Create a DataFrame from the list of dictionaries\n",
    "df = pd.DataFrame(data)\n",
    "df.head(10)"
   ]
  },
  {
   "cell_type": "code",
   "execution_count": null,
   "id": "74489a90-19c7-4b5e-97bf-7198394c3854",
   "metadata": {},
   "outputs": [],
   "source": []
  }
 ],
 "metadata": {
  "kernelspec": {
   "display_name": "Python 3 (ipykernel)",
   "language": "python",
   "name": "python3"
  },
  "language_info": {
   "codemirror_mode": {
    "name": "ipython",
    "version": 3
   },
   "file_extension": ".py",
   "mimetype": "text/x-python",
   "name": "python",
   "nbconvert_exporter": "python",
   "pygments_lexer": "ipython3",
   "version": "3.12.7"
  }
 },
 "nbformat": 4,
 "nbformat_minor": 5
}
