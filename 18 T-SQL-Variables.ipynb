{
 "cells": [
  {
   "cell_type": "markdown",
   "id": "ca844fe3-1360-4490-8ab2-a8f996e97320",
   "metadata": {},
   "source": [
    "#### Topics:\n",
    "\n",
    "    Variables"
   ]
  },
  {
   "cell_type": "markdown",
   "id": "1ad650dd-cd06-4027-be79-1e5d114e6612",
   "metadata": {},
   "source": [
    "A variable is an object that holds a single value of a specific type e.g., integer, date, or varying character string.\n",
    "\n",
    "We typically use variables in the following cases:\n",
    "\n",
    "    As a loop counter to count the number of times a loop is performed.\n",
    "    To hold a value to be tested by a control-of-flow statement such as WHILE.\n",
    "    To store the value returned by a stored procedure or a function"
   ]
  },
  {
   "cell_type": "code",
   "execution_count": 2,
   "id": "1b7a3435-87f5-46a8-acfd-4e3842c37ba5",
   "metadata": {},
   "outputs": [],
   "source": [
    "import pyodbc\n",
    "import os\n",
    "import pandas as pd\n",
    "\n",
    "#Check if drivers are installed\n",
    "#[x for x in pyodbc.drivers() if x.startswith(\"Microsoft Access Driver\")]\n",
    "\n",
    "# Define the connection string\n",
    "conn_str = (\n",
    "    r'DRIVER={ODBC Driver 17 for SQL Server};'\n",
    "    r'SERVER=localhost;'\n",
    "    r'DATABASE=BikeStores;'\n",
    "    r'Trusted_Connection=yes;'\n",
    ")\n",
    "\n",
    "# Establish the connection\n",
    "conn = pyodbc.connect(conn_str, autocommit=True)\n",
    "\n",
    "# Create a cursor\n",
    "cursor = conn.cursor()"
   ]
  },
  {
   "cell_type": "markdown",
   "id": "f0f9a28d-bced-4814-af9f-f6ff11743697",
   "metadata": {},
   "source": [
    "#### 1. Declaring a variable"
   ]
  },
  {
   "cell_type": "code",
   "execution_count": 5,
   "id": "89289607-9179-4139-8e47-d8ab9f1fdf65",
   "metadata": {},
   "outputs": [
    {
     "data": {
      "text/plain": [
       "<pyodbc.Cursor at 0x19d6fa5b330>"
      ]
     },
     "execution_count": 5,
     "metadata": {},
     "output_type": "execute_result"
    }
   ],
   "source": [
    "cursor.execute('''\n",
    "DECLARE @model_year SMALLINT;\n",
    "''')\n",
    "\n",
    "cursor.execute('''\n",
    "DECLARE @model_year AS SMALLINT;\n",
    "''')\n",
    "\n",
    "#Declaring multiple variables\n",
    "cursor.execute('''\n",
    "DECLARE @model_year SMALLINT, \n",
    "        @product_name VARCHAR(MAX);\n",
    "''')\n"
   ]
  },
  {
   "cell_type": "code",
   "execution_count": 6,
   "id": "f09278d8-3865-4d27-a661-59b2227225c0",
   "metadata": {},
   "outputs": [
    {
     "data": {
      "text/html": [
       "<div>\n",
       "<style scoped>\n",
       "    .dataframe tbody tr th:only-of-type {\n",
       "        vertical-align: middle;\n",
       "    }\n",
       "\n",
       "    .dataframe tbody tr th {\n",
       "        vertical-align: top;\n",
       "    }\n",
       "\n",
       "    .dataframe thead th {\n",
       "        text-align: right;\n",
       "    }\n",
       "</style>\n",
       "<table border=\"1\" class=\"dataframe\">\n",
       "  <thead>\n",
       "    <tr style=\"text-align: right;\">\n",
       "      <th></th>\n",
       "      <th>product_name</th>\n",
       "      <th>model_year</th>\n",
       "      <th>list_price</th>\n",
       "    </tr>\n",
       "  </thead>\n",
       "  <tbody>\n",
       "    <tr>\n",
       "      <th>0</th>\n",
       "      <td>Electra Amsterdam Fashion 3i Ladies' - 2017/2018</td>\n",
       "      <td>2018</td>\n",
       "      <td>899.99</td>\n",
       "    </tr>\n",
       "    <tr>\n",
       "      <th>1</th>\n",
       "      <td>Electra Amsterdam Royal 8i - 2017/2018</td>\n",
       "      <td>2018</td>\n",
       "      <td>1259.90</td>\n",
       "    </tr>\n",
       "    <tr>\n",
       "      <th>2</th>\n",
       "      <td>Electra Amsterdam Royal 8i Ladies - 2018</td>\n",
       "      <td>2018</td>\n",
       "      <td>1199.99</td>\n",
       "    </tr>\n",
       "    <tr>\n",
       "      <th>3</th>\n",
       "      <td>Electra Cruiser 1 - 2016/2017/2018</td>\n",
       "      <td>2018</td>\n",
       "      <td>269.99</td>\n",
       "    </tr>\n",
       "    <tr>\n",
       "      <th>4</th>\n",
       "      <td>Electra Cruiser 1 Ladies' - 2018</td>\n",
       "      <td>2018</td>\n",
       "      <td>269.99</td>\n",
       "    </tr>\n",
       "    <tr>\n",
       "      <th>5</th>\n",
       "      <td>Electra Cruiser 1 Tall - 2016/2018</td>\n",
       "      <td>2018</td>\n",
       "      <td>269.99</td>\n",
       "    </tr>\n",
       "    <tr>\n",
       "      <th>6</th>\n",
       "      <td>Electra Cruiser 7D (24-Inch) Ladies' - 2016/2018</td>\n",
       "      <td>2018</td>\n",
       "      <td>319.99</td>\n",
       "    </tr>\n",
       "    <tr>\n",
       "      <th>7</th>\n",
       "      <td>Electra Cruiser 7D (24-Inch) Ladies' - 2016/2018</td>\n",
       "      <td>2018</td>\n",
       "      <td>319.99</td>\n",
       "    </tr>\n",
       "    <tr>\n",
       "      <th>8</th>\n",
       "      <td>Electra Cruiser 7D - 2016/2017/2018</td>\n",
       "      <td>2018</td>\n",
       "      <td>319.99</td>\n",
       "    </tr>\n",
       "    <tr>\n",
       "      <th>9</th>\n",
       "      <td>Electra Cruiser 7D Ladies' - 2016/2018</td>\n",
       "      <td>2018</td>\n",
       "      <td>319.99</td>\n",
       "    </tr>\n",
       "  </tbody>\n",
       "</table>\n",
       "</div>"
      ],
      "text/plain": [
       "                                       product_name  model_year list_price\n",
       "0  Electra Amsterdam Fashion 3i Ladies' - 2017/2018        2018     899.99\n",
       "1            Electra Amsterdam Royal 8i - 2017/2018        2018    1259.90\n",
       "2          Electra Amsterdam Royal 8i Ladies - 2018        2018    1199.99\n",
       "3                Electra Cruiser 1 - 2016/2017/2018        2018     269.99\n",
       "4                  Electra Cruiser 1 Ladies' - 2018        2018     269.99\n",
       "5                Electra Cruiser 1 Tall - 2016/2018        2018     269.99\n",
       "6  Electra Cruiser 7D (24-Inch) Ladies' - 2016/2018        2018     319.99\n",
       "7  Electra Cruiser 7D (24-Inch) Ladies' - 2016/2018        2018     319.99\n",
       "8               Electra Cruiser 7D - 2016/2017/2018        2018     319.99\n",
       "9            Electra Cruiser 7D Ladies' - 2016/2018        2018     319.99"
      ]
     },
     "execution_count": 6,
     "metadata": {},
     "output_type": "execute_result"
    }
   ],
   "source": [
    "\n",
    "#Now, you can put everything together and execute the following code block to get\n",
    "#a list of products whose model year is 2018:\n",
    "\n",
    "cursor.execute('''\n",
    "DECLARE @model_year SMALLINT;\n",
    "\n",
    "SET @model_year = 2018;\n",
    "\n",
    "SELECT\n",
    "    product_name,\n",
    "    model_year,\n",
    "    list_price \n",
    "FROM \n",
    "    production.products\n",
    "WHERE \n",
    "    model_year = @model_year\n",
    "ORDER BY\n",
    "    product_name;\n",
    "''')\n",
    "\n",
    "\n",
    "\n",
    "# Fetch all rows from the executed query\n",
    "rows = cursor.fetchall()\n",
    "\n",
    "# Get the column names\n",
    "columns = [column[0] for column in cursor.description]\n",
    "\n",
    "# Convert the rows into a list of dictionaries\n",
    "data = [dict(zip(columns, row)) for row in rows]\n",
    "\n",
    "# Create a DataFrame from the list of dictionaries\n",
    "df = pd.DataFrame(data)\n",
    "df.head(10)"
   ]
  },
  {
   "cell_type": "markdown",
   "id": "8a6f6dae-c0d8-4733-8d0a-1b03b21b7ce4",
   "metadata": {},
   "source": [
    "#### 2. Storing query result in a variable"
   ]
  },
  {
   "cell_type": "code",
   "execution_count": 7,
   "id": "aa9104ad-db79-45da-ab01-f5406cee9fcb",
   "metadata": {},
   "outputs": [
    {
     "data": {
      "text/html": [
       "<div>\n",
       "<style scoped>\n",
       "    .dataframe tbody tr th:only-of-type {\n",
       "        vertical-align: middle;\n",
       "    }\n",
       "\n",
       "    .dataframe tbody tr th {\n",
       "        vertical-align: top;\n",
       "    }\n",
       "\n",
       "    .dataframe thead th {\n",
       "        text-align: right;\n",
       "    }\n",
       "</style>\n",
       "<table border=\"1\" class=\"dataframe\">\n",
       "  <thead>\n",
       "    <tr style=\"text-align: right;\">\n",
       "      <th></th>\n",
       "      <th></th>\n",
       "    </tr>\n",
       "  </thead>\n",
       "  <tbody>\n",
       "    <tr>\n",
       "      <th>0</th>\n",
       "      <td>321</td>\n",
       "    </tr>\n",
       "  </tbody>\n",
       "</table>\n",
       "</div>"
      ],
      "text/plain": [
       "      \n",
       "0  321"
      ]
     },
     "execution_count": 7,
     "metadata": {},
     "output_type": "execute_result"
    }
   ],
   "source": [
    "cursor.execute('''\n",
    "DECLARE @product_count INT;\n",
    "\n",
    "SET @product_count = (\n",
    "    SELECT \n",
    "        COUNT(*) \n",
    "    FROM \n",
    "        production.products \n",
    ");\n",
    "\n",
    "SELECT @product_count;\n",
    "\n",
    "''')\n",
    "\n",
    "\n",
    "\n",
    "# Fetch all rows from the executed query\n",
    "rows = cursor.fetchall()\n",
    "\n",
    "# Get the column names\n",
    "columns = [column[0] for column in cursor.description]\n",
    "\n",
    "# Convert the rows into a list of dictionaries\n",
    "data = [dict(zip(columns, row)) for row in rows]\n",
    "\n",
    "# Create a DataFrame from the list of dictionaries\n",
    "df = pd.DataFrame(data)\n",
    "df.head(10)"
   ]
  },
  {
   "cell_type": "markdown",
   "id": "f418094c-7e1d-4d8b-bc85-3b5fc753da0a",
   "metadata": {},
   "source": [
    "#### 3. Selecting a record into variables"
   ]
  },
  {
   "cell_type": "code",
   "execution_count": 11,
   "id": "f0d43948-9a68-400a-9c55-8917f0afa6e3",
   "metadata": {},
   "outputs": [
    {
     "data": {
      "text/html": [
       "<div>\n",
       "<style scoped>\n",
       "    .dataframe tbody tr th:only-of-type {\n",
       "        vertical-align: middle;\n",
       "    }\n",
       "\n",
       "    .dataframe tbody tr th {\n",
       "        vertical-align: top;\n",
       "    }\n",
       "\n",
       "    .dataframe thead th {\n",
       "        text-align: right;\n",
       "    }\n",
       "</style>\n",
       "<table border=\"1\" class=\"dataframe\">\n",
       "  <thead>\n",
       "    <tr style=\"text-align: right;\">\n",
       "      <th></th>\n",
       "      <th>product_name</th>\n",
       "      <th>list_price</th>\n",
       "    </tr>\n",
       "  </thead>\n",
       "  <tbody>\n",
       "    <tr>\n",
       "      <th>0</th>\n",
       "      <td>Electra Townie 3i EQ (20-inch) - Boys' - 2017</td>\n",
       "      <td>489.99</td>\n",
       "    </tr>\n",
       "  </tbody>\n",
       "</table>\n",
       "</div>"
      ],
      "text/plain": [
       "                                    product_name list_price\n",
       "0  Electra Townie 3i EQ (20-inch) - Boys' - 2017     489.99"
      ]
     },
     "execution_count": 11,
     "metadata": {},
     "output_type": "execute_result"
    }
   ],
   "source": [
    "cursor.execute('''\n",
    "DECLARE \n",
    "    @product_name VARCHAR(MAX),\n",
    "    @list_price DECIMAL(10,2);\n",
    "\n",
    "SELECT \n",
    "    @product_name = product_name,\n",
    "    @list_price = list_price\n",
    "FROM\n",
    "    production.products\n",
    "WHERE\n",
    "    product_id = 100;\n",
    "\n",
    "SELECT \n",
    "    @product_name AS product_name, \n",
    "    @list_price AS list_price;\n",
    "''')\n",
    "\n",
    "# Fetch all rows from the executed query\n",
    "rows = cursor.fetchall()\n",
    "\n",
    "# Get the column names\n",
    "columns = [column[0] for column in cursor.description]\n",
    "\n",
    "# Convert the rows into a list of dictionaries\n",
    "data = [dict(zip(columns, row)) for row in rows]\n",
    "\n",
    "# Create a DataFrame from the list of dictionaries\n",
    "df = pd.DataFrame(data)\n",
    "df.head(10)"
   ]
  },
  {
   "cell_type": "code",
   "execution_count": 12,
   "id": "fdb258f5-c210-4ac4-a05e-89b260812b47",
   "metadata": {},
   "outputs": [],
   "source": [
    "conn.close()"
   ]
  },
  {
   "cell_type": "code",
   "execution_count": null,
   "id": "74c5a660-0830-48e5-b7da-b7464e8593ff",
   "metadata": {},
   "outputs": [],
   "source": []
  }
 ],
 "metadata": {
  "kernelspec": {
   "display_name": "Python 3 (ipykernel)",
   "language": "python",
   "name": "python3"
  },
  "language_info": {
   "codemirror_mode": {
    "name": "ipython",
    "version": 3
   },
   "file_extension": ".py",
   "mimetype": "text/x-python",
   "name": "python",
   "nbconvert_exporter": "python",
   "pygments_lexer": "ipython3",
   "version": "3.12.7"
  }
 },
 "nbformat": 4,
 "nbformat_minor": 5
}
