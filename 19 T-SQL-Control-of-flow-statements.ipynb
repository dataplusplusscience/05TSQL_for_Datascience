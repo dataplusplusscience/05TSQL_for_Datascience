{
 "cells": [
  {
   "cell_type": "markdown",
   "id": "ca844fe3-1360-4490-8ab2-a8f996e97320",
   "metadata": {},
   "source": [
    "#### Topics:\n",
    "\n",
    "    BEGIN…END – create a statement block that consists of multiple Transact-SQL statements that execute together.\n",
    "    IF ELSE – execute a statement block based on a condition.\n",
    "    WHILE – repeatedly execute a set of statements based on a condition as long as the condition is true.\n",
    "    BREAK – exit the loop immediately and skip the rest of the code after it within a loop.\n",
    "    CONTINUE – skip the current iteration of the loop immediately and continue the next one."
   ]
  },
  {
   "cell_type": "markdown",
   "id": "00ca2b58-8a06-4822-acf8-9613264b6df1",
   "metadata": {},
   "source": [
    "### BEGIN...END Statement"
   ]
  },
  {
   "cell_type": "markdown",
   "id": "1ad650dd-cd06-4027-be79-1e5d114e6612",
   "metadata": {},
   "source": [
    "The BEGIN...END statement is used to define a statement block. A statement block consists of a set of SQL statements that execute together. A statement block is also known as a batch.\n",
    "\n",
    "In other words, if statements are sentences, the BEGIN...END statement allows you to define paragraphs.\n",
    "\n",
    "The following illustrates the syntax of the BEGIN...END statement:\n",
    "\n",
    "    BEGIN\n",
    "        { sql_statement | statement_block}\n",
    "    END"
   ]
  },
  {
   "cell_type": "code",
   "execution_count": 19,
   "id": "1b7a3435-87f5-46a8-acfd-4e3842c37ba5",
   "metadata": {},
   "outputs": [],
   "source": [
    "import pyodbc\n",
    "import os\n",
    "import pandas as pd\n",
    "\n",
    "#Check if drivers are installed\n",
    "#[x for x in pyodbc.drivers() if x.startswith(\"Microsoft Access Driver\")]\n",
    "\n",
    "# Define the connection string\n",
    "conn_str = (\n",
    "    r'DRIVER={ODBC Driver 17 for SQL Server};'\n",
    "    r'SERVER=localhost;'\n",
    "    r'DATABASE=BikeStores;'\n",
    "    r'Trusted_Connection=yes;'\n",
    ")\n",
    "\n",
    "# Establish the connection\n",
    "conn = pyodbc.connect(conn_str, autocommit=True)\n",
    "\n",
    "# Create a cursor\n",
    "cursor = conn.cursor()"
   ]
  },
  {
   "cell_type": "markdown",
   "id": "f0f9a28d-bced-4814-af9f-f6ff11743697",
   "metadata": {},
   "source": [
    "#### 1. Using begin end"
   ]
  },
  {
   "cell_type": "code",
   "execution_count": 5,
   "id": "89289607-9179-4139-8e47-d8ab9f1fdf65",
   "metadata": {},
   "outputs": [
    {
     "data": {
      "text/html": [
       "<div>\n",
       "<style scoped>\n",
       "    .dataframe tbody tr th:only-of-type {\n",
       "        vertical-align: middle;\n",
       "    }\n",
       "\n",
       "    .dataframe tbody tr th {\n",
       "        vertical-align: top;\n",
       "    }\n",
       "\n",
       "    .dataframe thead th {\n",
       "        text-align: right;\n",
       "    }\n",
       "</style>\n",
       "<table border=\"1\" class=\"dataframe\">\n",
       "  <thead>\n",
       "    <tr style=\"text-align: right;\">\n",
       "      <th></th>\n",
       "      <th>product_id</th>\n",
       "      <th>product_name</th>\n",
       "      <th>list_price</th>\n",
       "    </tr>\n",
       "  </thead>\n",
       "  <tbody>\n",
       "    <tr>\n",
       "      <th>0</th>\n",
       "      <td>1</td>\n",
       "      <td>Trek 820 - 2016</td>\n",
       "      <td>379.99</td>\n",
       "    </tr>\n",
       "    <tr>\n",
       "      <th>1</th>\n",
       "      <td>2</td>\n",
       "      <td>Ritchey Timberwolf Frameset - 2016</td>\n",
       "      <td>749.99</td>\n",
       "    </tr>\n",
       "    <tr>\n",
       "      <th>2</th>\n",
       "      <td>3</td>\n",
       "      <td>Surly Wednesday Frameset - 2016</td>\n",
       "      <td>999.99</td>\n",
       "    </tr>\n",
       "    <tr>\n",
       "      <th>3</th>\n",
       "      <td>4</td>\n",
       "      <td>Trek Fuel EX 8 29 - 2016</td>\n",
       "      <td>2899.99</td>\n",
       "    </tr>\n",
       "    <tr>\n",
       "      <th>4</th>\n",
       "      <td>5</td>\n",
       "      <td>Heller Shagamaw Frame - 2016</td>\n",
       "      <td>1320.99</td>\n",
       "    </tr>\n",
       "    <tr>\n",
       "      <th>5</th>\n",
       "      <td>6</td>\n",
       "      <td>Surly Ice Cream Truck Frameset - 2016</td>\n",
       "      <td>469.99</td>\n",
       "    </tr>\n",
       "    <tr>\n",
       "      <th>6</th>\n",
       "      <td>7</td>\n",
       "      <td>Trek Slash 8 27.5 - 2016</td>\n",
       "      <td>3999.99</td>\n",
       "    </tr>\n",
       "    <tr>\n",
       "      <th>7</th>\n",
       "      <td>8</td>\n",
       "      <td>Trek Remedy 29 Carbon Frameset - 2016</td>\n",
       "      <td>1799.99</td>\n",
       "    </tr>\n",
       "    <tr>\n",
       "      <th>8</th>\n",
       "      <td>9</td>\n",
       "      <td>Trek Conduit+ - 2016</td>\n",
       "      <td>2999.99</td>\n",
       "    </tr>\n",
       "    <tr>\n",
       "      <th>9</th>\n",
       "      <td>10</td>\n",
       "      <td>Surly Straggler - 2016</td>\n",
       "      <td>1549.00</td>\n",
       "    </tr>\n",
       "  </tbody>\n",
       "</table>\n",
       "</div>"
      ],
      "text/plain": [
       "   product_id                           product_name list_price\n",
       "0           1                        Trek 820 - 2016     379.99\n",
       "1           2     Ritchey Timberwolf Frameset - 2016     749.99\n",
       "2           3        Surly Wednesday Frameset - 2016     999.99\n",
       "3           4               Trek Fuel EX 8 29 - 2016    2899.99\n",
       "4           5           Heller Shagamaw Frame - 2016    1320.99\n",
       "5           6  Surly Ice Cream Truck Frameset - 2016     469.99\n",
       "6           7               Trek Slash 8 27.5 - 2016    3999.99\n",
       "7           8  Trek Remedy 29 Carbon Frameset - 2016    1799.99\n",
       "8           9                   Trek Conduit+ - 2016    2999.99\n",
       "9          10                 Surly Straggler - 2016    1549.00"
      ]
     },
     "execution_count": 5,
     "metadata": {},
     "output_type": "execute_result"
    }
   ],
   "source": [
    "\n",
    "cursor.execute('''\n",
    "BEGIN\n",
    "    SELECT\n",
    "        product_id,\n",
    "        product_name, list_price\n",
    "    FROM\n",
    "        production.products\n",
    "    WHERE\n",
    "        list_price > 100;\n",
    "\n",
    "    IF @@ROWCOUNT = 0\n",
    "        PRINT 'No product with price greater than 100000 found';\n",
    "END\n",
    "\n",
    "''')\n",
    "\n",
    "\n",
    "# Fetch all rows from the executed query\n",
    "rows = cursor.fetchall()\n",
    "\n",
    "# Get the column names\n",
    "columns = [column[0] for column in cursor.description]\n",
    "\n",
    "# Convert the rows into a list of dictionaries\n",
    "data = [dict(zip(columns, row)) for row in rows]\n",
    "\n",
    "# Create a DataFrame from the list of dictionaries\n",
    "df = pd.DataFrame(data)\n",
    "df.head(10)"
   ]
  },
  {
   "cell_type": "markdown",
   "id": "7ef0e62d-0e78-47d0-ba96-12a5092b4a3d",
   "metadata": {},
   "source": [
    "#### 2. Nesting begin End"
   ]
  },
  {
   "cell_type": "code",
   "execution_count": 7,
   "id": "f09278d8-3865-4d27-a661-59b2227225c0",
   "metadata": {},
   "outputs": [
    {
     "data": {
      "text/plain": [
       "<pyodbc.Cursor at 0x24ba4886230>"
      ]
     },
     "execution_count": 7,
     "metadata": {},
     "output_type": "execute_result"
    }
   ],
   "source": [
    "\n",
    "#Now, you can put everything together and execute the following code block to get\n",
    "#a list of products whose model year is 2018:\n",
    "\n",
    "cursor.execute('''\n",
    "BEGIN\n",
    "    DECLARE @name VARCHAR(MAX);\n",
    "\n",
    "    SELECT TOP 1\n",
    "        @name = product_name\n",
    "    FROM\n",
    "        production.products\n",
    "    ORDER BY\n",
    "        list_price DESC;\n",
    "    \n",
    "    IF @@ROWCOUNT <> 0\n",
    "    BEGIN\n",
    "        PRINT 'The most expensive product is ' + @name\n",
    "    END\n",
    "    ELSE\n",
    "    BEGIN\n",
    "        PRINT 'No product found';\n",
    "    END;\n",
    "END\n",
    "''')\n"
   ]
  },
  {
   "cell_type": "markdown",
   "id": "8a6f6dae-c0d8-4733-8d0a-1b03b21b7ce4",
   "metadata": {},
   "source": [
    "### IF ELSE"
   ]
  },
  {
   "cell_type": "markdown",
   "id": "ffd08f15-ab3b-4164-9520-fcd613c7993a",
   "metadata": {},
   "source": [
    "The IF...ELSE statement is a control-flow statement that allows you to execute or skip a statement block based on a specified condition."
   ]
  },
  {
   "cell_type": "markdown",
   "id": "cca83104-a4a7-4560-a051-5dff1d6587a4",
   "metadata": {},
   "source": [
    "The following illustrates the syntax of the IF statement:\n",
    "\n",
    "    IF boolean_expression   \n",
    "    BEGIN\n",
    "        { statement_block }\n",
    "    END"
   ]
  },
  {
   "cell_type": "markdown",
   "id": "0e7dd9b2-db47-48a0-bf88-337896d5eb8f",
   "metadata": {},
   "source": [
    "The following illustrates the syntax of the IF ELSE statement:\n",
    "\n",
    "    IF Boolean_expression\n",
    "    BEGIN\n",
    "        -- Statement block executes when the Boolean expression is TRUE\n",
    "    END\n",
    "    ELSE\n",
    "    BEGIN\n",
    "        -- Statement block executes when the Boolean expression is FALSE\n",
    "    END"
   ]
  },
  {
   "cell_type": "code",
   "execution_count": 11,
   "id": "aa9104ad-db79-45da-ab01-f5406cee9fcb",
   "metadata": {},
   "outputs": [
    {
     "data": {
      "text/html": [
       "<div>\n",
       "<style scoped>\n",
       "    .dataframe tbody tr th:only-of-type {\n",
       "        vertical-align: middle;\n",
       "    }\n",
       "\n",
       "    .dataframe tbody tr th {\n",
       "        vertical-align: top;\n",
       "    }\n",
       "\n",
       "    .dataframe thead th {\n",
       "        text-align: right;\n",
       "    }\n",
       "</style>\n",
       "<table border=\"1\" class=\"dataframe\">\n",
       "  <thead>\n",
       "    <tr style=\"text-align: right;\">\n",
       "      <th></th>\n",
       "      <th></th>\n",
       "    </tr>\n",
       "  </thead>\n",
       "  <tbody>\n",
       "    <tr>\n",
       "      <th>0</th>\n",
       "      <td>2023989</td>\n",
       "    </tr>\n",
       "  </tbody>\n",
       "</table>\n",
       "</div>"
      ],
      "text/plain": [
       "          \n",
       "0  2023989"
      ]
     },
     "execution_count": 11,
     "metadata": {},
     "output_type": "execute_result"
    }
   ],
   "source": [
    "cursor.execute('''\n",
    "BEGIN\n",
    "    DECLARE @sales INT;\n",
    "\n",
    "    SELECT \n",
    "        @sales = SUM(list_price * quantity)\n",
    "    FROM\n",
    "        sales.order_items i\n",
    "        INNER JOIN sales.orders o ON o.order_id = i.order_id\n",
    "    WHERE\n",
    "        YEAR(order_date) = 2018;\n",
    "\n",
    "    SELECT @sales;\n",
    "\n",
    "    IF @sales > 1000000\n",
    "    BEGIN\n",
    "        PRINT 'Great! The sales amount in 2018 is greater than 1,000,000';\n",
    "    END\n",
    "END\n",
    "''')\n",
    "\n",
    "\n",
    "\n",
    "# Fetch all rows from the executed query\n",
    "rows = cursor.fetchall()\n",
    "\n",
    "# Get the column names\n",
    "columns = [column[0] for column in cursor.description]\n",
    "\n",
    "# Convert the rows into a list of dictionaries\n",
    "data = [dict(zip(columns, row)) for row in rows]\n",
    "\n",
    "\n",
    "# Create a DataFrame from the list of dictionaries\n",
    "df = pd.DataFrame(data)\n",
    "df.head(10)"
   ]
  },
  {
   "cell_type": "markdown",
   "id": "f418094c-7e1d-4d8b-bc85-3b5fc753da0a",
   "metadata": {},
   "source": [
    "If ELSE"
   ]
  },
  {
   "cell_type": "code",
   "execution_count": 12,
   "id": "f0d43948-9a68-400a-9c55-8917f0afa6e3",
   "metadata": {},
   "outputs": [
    {
     "data": {
      "text/html": [
       "<div>\n",
       "<style scoped>\n",
       "    .dataframe tbody tr th:only-of-type {\n",
       "        vertical-align: middle;\n",
       "    }\n",
       "\n",
       "    .dataframe tbody tr th {\n",
       "        vertical-align: top;\n",
       "    }\n",
       "\n",
       "    .dataframe thead th {\n",
       "        text-align: right;\n",
       "    }\n",
       "</style>\n",
       "<table border=\"1\" class=\"dataframe\">\n",
       "  <thead>\n",
       "    <tr style=\"text-align: right;\">\n",
       "      <th></th>\n",
       "      <th></th>\n",
       "    </tr>\n",
       "  </thead>\n",
       "  <tbody>\n",
       "    <tr>\n",
       "      <th>0</th>\n",
       "      <td>3845515</td>\n",
       "    </tr>\n",
       "  </tbody>\n",
       "</table>\n",
       "</div>"
      ],
      "text/plain": [
       "          \n",
       "0  3845515"
      ]
     },
     "execution_count": 12,
     "metadata": {},
     "output_type": "execute_result"
    }
   ],
   "source": [
    "cursor.execute('''\n",
    "BEGIN\n",
    "    DECLARE @sales INT;\n",
    "\n",
    "    SELECT \n",
    "        @sales = SUM(list_price * quantity)\n",
    "    FROM\n",
    "        sales.order_items i\n",
    "        INNER JOIN sales.orders o ON o.order_id = i.order_id\n",
    "    WHERE\n",
    "        YEAR(order_date) = 2017;\n",
    "\n",
    "    SELECT @sales;\n",
    "\n",
    "    IF @sales > 10000000\n",
    "    BEGIN\n",
    "        PRINT 'Great! The sales amount in 2018 is greater than 10,000,000';\n",
    "    END\n",
    "    ELSE\n",
    "    BEGIN\n",
    "        PRINT 'Sales amount in 2017 did not reach 10,000,000';\n",
    "    END\n",
    "END\n",
    "\n",
    "''')\n",
    "\n",
    "# Fetch all rows from the executed query\n",
    "rows = cursor.fetchall()\n",
    "\n",
    "# Get the column names\n",
    "columns = [column[0] for column in cursor.description]\n",
    "\n",
    "# Convert the rows into a list of dictionaries\n",
    "data = [dict(zip(columns, row)) for row in rows]\n",
    "\n",
    "# Create a DataFrame from the list of dictionaries\n",
    "df = pd.DataFrame(data)\n",
    "df.head(10)"
   ]
  },
  {
   "cell_type": "markdown",
   "id": "fe2ed206-bdc5-4d64-88a8-e65bd4f374d7",
   "metadata": {},
   "source": [
    "### WHILE"
   ]
  },
  {
   "cell_type": "markdown",
   "id": "ee03a7f4-561e-488a-bc2c-fd8924603628",
   "metadata": {},
   "source": [
    "The WHILE statement is a control-flow statement that allows you to execute a statement block repeatedly as long as a specified condition is TRUE.\n",
    "\n",
    "The following illustrates the syntax of the WHILE statement:\n",
    "\n",
    "    WHILE Boolean_expression   \n",
    "         { sql_statement | statement_block}  \n",
    "\n",
    "In this syntax:\n",
    "\n",
    "First, the Boolean_expression is an expression that evaluates to TRUE or FALSE.\n",
    "\n",
    "Second, sql_statement | statement_block is any Transact-SQL statement or a set of Transact-SQL statements. A statement block is defined using the BEGIN...END statement.\n",
    "\n",
    "If the Boolean_expression evaluates to FALSE when entering the loop, no statement inside the WHILE loop will be executed.\n",
    "\n",
    "Inside the WHILE loop, you must change some variables to make the Boolean_expression returns FALSE at some points. Otherwise, you will have an indefinite loop.\n",
    "\n",
    "Note that if the Boolean_expression contains a SELECT statement, it must be enclosed in parentheses.\n",
    "\n",
    "To exit the current iteration of the loop immediately, you use the BREAK statement. To skip the current iteration of the loop and start the new one, you use the CONTINUE statement."
   ]
  },
  {
   "cell_type": "code",
   "execution_count": 21,
   "id": "d8f08072-2dde-4dd0-a78e-9c942903746f",
   "metadata": {},
   "outputs": [
    {
     "data": {
      "text/html": [
       "<div>\n",
       "<style scoped>\n",
       "    .dataframe tbody tr th:only-of-type {\n",
       "        vertical-align: middle;\n",
       "    }\n",
       "\n",
       "    .dataframe tbody tr th {\n",
       "        vertical-align: top;\n",
       "    }\n",
       "\n",
       "    .dataframe thead th {\n",
       "        text-align: right;\n",
       "    }\n",
       "</style>\n",
       "<table border=\"1\" class=\"dataframe\">\n",
       "  <thead>\n",
       "    <tr style=\"text-align: right;\">\n",
       "      <th></th>\n",
       "      <th>Counter</th>\n",
       "    </tr>\n",
       "  </thead>\n",
       "  <tbody>\n",
       "    <tr>\n",
       "      <th>0</th>\n",
       "      <td>1</td>\n",
       "    </tr>\n",
       "    <tr>\n",
       "      <th>1</th>\n",
       "      <td>2</td>\n",
       "    </tr>\n",
       "    <tr>\n",
       "      <th>2</th>\n",
       "      <td>3</td>\n",
       "    </tr>\n",
       "    <tr>\n",
       "      <th>3</th>\n",
       "      <td>4</td>\n",
       "    </tr>\n",
       "    <tr>\n",
       "      <th>4</th>\n",
       "      <td>5</td>\n",
       "    </tr>\n",
       "    <tr>\n",
       "      <th>5</th>\n",
       "      <td>6</td>\n",
       "    </tr>\n",
       "    <tr>\n",
       "      <th>6</th>\n",
       "      <td>7</td>\n",
       "    </tr>\n",
       "    <tr>\n",
       "      <th>7</th>\n",
       "      <td>8</td>\n",
       "    </tr>\n",
       "    <tr>\n",
       "      <th>8</th>\n",
       "      <td>9</td>\n",
       "    </tr>\n",
       "    <tr>\n",
       "      <th>9</th>\n",
       "      <td>10</td>\n",
       "    </tr>\n",
       "  </tbody>\n",
       "</table>\n",
       "</div>"
      ],
      "text/plain": [
       "   Counter\n",
       "0        1\n",
       "1        2\n",
       "2        3\n",
       "3        4\n",
       "4        5\n",
       "5        6\n",
       "6        7\n",
       "7        8\n",
       "8        9\n",
       "9       10"
      ]
     },
     "execution_count": 21,
     "metadata": {},
     "output_type": "execute_result"
    }
   ],
   "source": [
    "\n",
    "# T-SQL query\n",
    "tsql_query = \"\"\"\n",
    "-- Create a temporary table to store results\n",
    "CREATE TABLE TempResult (\n",
    "    Counter INT\n",
    ");\n",
    "\n",
    "DECLARE @Counter INT;\n",
    "SET @Counter = 1;\n",
    "\n",
    "-- WHILE loop\n",
    "WHILE @Counter <= 10\n",
    "BEGIN\n",
    "    INSERT INTO TempResult (Counter)\n",
    "    VALUES (@Counter);\n",
    "    \n",
    "    SET @Counter = @Counter + 1;\n",
    "END;\n",
    "\n",
    "-- Select the results\n",
    "SELECT * FROM TempResult;\n",
    "\n",
    "\"\"\"\n",
    "\n",
    "# Execute the T-SQL query\n",
    "cursor.execute(tsql_query)\n",
    "conn.commit()\n",
    "\n",
    "# Fetch the results\n",
    "select_query = \"SELECT * FROM TempResult;\"\n",
    "cursor.execute(select_query)\n",
    "rows = cursor.fetchall()\n",
    "\n",
    "# Get the column names\n",
    "columns = [column[0] for column in cursor.description]\n",
    "\n",
    "# Convert the rows into a list of dictionaries\n",
    "data = [dict(zip(columns, row)) for row in rows]\n",
    "\n",
    "# Create a DataFrame from the list of dictionaries\n",
    "df = pd.DataFrame(data)\n",
    "df.head(10)"
   ]
  },
  {
   "cell_type": "markdown",
   "id": "8487aaca-d2e1-43b8-8a37-6a13caa971f2",
   "metadata": {},
   "source": [
    "### WHILE... BREAK"
   ]
  },
  {
   "cell_type": "code",
   "execution_count": 22,
   "id": "9f0c91d8-9499-42b8-9f35-27bc9df2fa7d",
   "metadata": {},
   "outputs": [
    {
     "ename": "ProgrammingError",
     "evalue": "No results.  Previous SQL was not a query.",
     "output_type": "error",
     "traceback": [
      "\u001b[1;31m---------------------------------------------------------------------------\u001b[0m",
      "\u001b[1;31mProgrammingError\u001b[0m                          Traceback (most recent call last)",
      "Cell \u001b[1;32mIn[22], line 15\u001b[0m\n\u001b[0;32m      1\u001b[0m cursor\u001b[38;5;241m.\u001b[39mexecute(\u001b[38;5;124m'''\u001b[39m\n\u001b[0;32m      2\u001b[0m \u001b[38;5;124mDECLARE @counter INT = 0;\u001b[39m\n\u001b[0;32m      3\u001b[0m \n\u001b[1;32m   (...)\u001b[0m\n\u001b[0;32m     11\u001b[0m \n\u001b[0;32m     12\u001b[0m \u001b[38;5;124m'''\u001b[39m)\n\u001b[0;32m     14\u001b[0m \u001b[38;5;66;03m# Fetch all rows from the executed query\u001b[39;00m\n\u001b[1;32m---> 15\u001b[0m rows \u001b[38;5;241m=\u001b[39m cursor\u001b[38;5;241m.\u001b[39mfetchall()\n\u001b[0;32m     17\u001b[0m \u001b[38;5;66;03m# Get the column names\u001b[39;00m\n\u001b[0;32m     18\u001b[0m columns \u001b[38;5;241m=\u001b[39m [column[\u001b[38;5;241m0\u001b[39m] \u001b[38;5;28;01mfor\u001b[39;00m column \u001b[38;5;129;01min\u001b[39;00m cursor\u001b[38;5;241m.\u001b[39mdescription]\n",
      "\u001b[1;31mProgrammingError\u001b[0m: No results.  Previous SQL was not a query."
     ]
    }
   ],
   "source": [
    "cursor.execute('''\n",
    "DECLARE @counter INT = 0;\n",
    "\n",
    "WHILE @counter <= 5\n",
    "BEGIN\n",
    "    SET @counter = @counter + 1;\n",
    "    IF @counter = 4\n",
    "        BREAK;\n",
    "    PRINT @counter;\n",
    "END\n",
    "\n",
    "''')\n",
    "\n",
    "# Fetch all rows from the executed query\n",
    "rows = cursor.fetchall()\n",
    "\n",
    "# Get the column names\n",
    "columns = [column[0] for column in cursor.description]\n",
    "\n",
    "# Convert the rows into a list of dictionaries\n",
    "data = [dict(zip(columns, row)) for row in rows]\n",
    "\n",
    "# Create a DataFrame from the list of dictionaries\n",
    "df = pd.DataFrame(data)\n",
    "df.head(10)"
   ]
  },
  {
   "cell_type": "markdown",
   "id": "c137c3c1-fad4-4416-b490-2ad54e42bf39",
   "metadata": {},
   "source": [
    "### CONTINUE"
   ]
  },
  {
   "cell_type": "markdown",
   "id": "f2d40f79-a8b6-44f1-ad23-195ab54a0cfc",
   "metadata": {},
   "source": [
    "The CONTINUE statement stops the current iteration of the loop and starts the new one. The following illustrates the syntax of the CONTINUE statement:\n",
    "\n",
    "    WHILE Boolean_expression\n",
    "    BEGIN\n",
    "        -- code to be executed\n",
    "        IF condition\n",
    "            CONTINUE;\n",
    "        -- code will be skipped if the condition is met\n",
    "    END"
   ]
  },
  {
   "cell_type": "markdown",
   "id": "075ea671-8e3b-459a-bf73-6266cdbb727d",
   "metadata": {},
   "source": [
    "In this syntax, the current iteration of the loop is stopped once the condition evaluates to TRUE. The next iteration of the loop will continue until the Boolean_expression evaluates to FALSE."
   ]
  },
  {
   "cell_type": "code",
   "execution_count": 23,
   "id": "d0420dbc-062f-4a88-a8b4-8f3b0036b0df",
   "metadata": {},
   "outputs": [
    {
     "data": {
      "text/plain": [
       "<pyodbc.Cursor at 0x24ba4885330>"
      ]
     },
     "execution_count": 23,
     "metadata": {},
     "output_type": "execute_result"
    }
   ],
   "source": [
    "cursor.execute('''\n",
    "DECLARE @counter INT = 0;\n",
    "\n",
    "WHILE @counter < 5\n",
    "BEGIN\n",
    "    SET @counter = @counter + 1;\n",
    "    IF @counter = 3\n",
    "        CONTINUE;\t\n",
    "    PRINT @counter;\n",
    "END\n",
    "\n",
    "''')"
   ]
  },
  {
   "cell_type": "markdown",
   "id": "bceb1a9d-2912-4dc3-90eb-08ad0fa7eb87",
   "metadata": {},
   "source": [
    "In this example:\n",
    "\n",
    "First, we declared a variable named @counter and set its value to zero.\n",
    "Then, the WHILE loop started. Inside the WHILE loop, we increased the counter by one in each iteration. If the @counter was three, we skipped printing out the value using the CONTINUE statement. That’s why in the output, you do not see the number three is showing up."
   ]
  },
  {
   "cell_type": "code",
   "execution_count": null,
   "id": "59a35a79-4b93-49aa-8b4b-1ac5d16b5611",
   "metadata": {},
   "outputs": [],
   "source": []
  }
 ],
 "metadata": {
  "kernelspec": {
   "display_name": "Python 3 (ipykernel)",
   "language": "python",
   "name": "python3"
  },
  "language_info": {
   "codemirror_mode": {
    "name": "ipython",
    "version": 3
   },
   "file_extension": ".py",
   "mimetype": "text/x-python",
   "name": "python",
   "nbconvert_exporter": "python",
   "pygments_lexer": "ipython3",
   "version": "3.12.7"
  }
 },
 "nbformat": 4,
 "nbformat_minor": 5
}
