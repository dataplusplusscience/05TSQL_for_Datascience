{
 "cells": [
  {
   "cell_type": "markdown",
   "id": "d7dbc244-7896-4e25-99ee-b98818201cc1",
   "metadata": {},
   "source": [
    "# T-SQL Tutorials"
   ]
  },
  {
   "cell_type": "markdown",
   "id": "a99e85fb-3348-4bd5-be0a-69e630b01c1b",
   "metadata": {},
   "source": [
    "    Create database objects such as tables, views, indexes, sequences, synonyms, stored procedures, user-defined functions, and triggers.\n",
    "    Manage SQL Server database efficiently."
   ]
  },
  {
   "cell_type": "markdown",
   "id": "c1acc395-b3cc-4b04-818a-e4096d445c84",
   "metadata": {},
   "source": [
    "### What is SQL Server\n",
    "SQL Server is a relational database management system (RDBMS) developed and marketed by Microsoft.\n",
    "\n",
    "Similar to other RDBMS software, SQL Server is built on top of SQL, a standard programming language for interacting with relational databases. SQL Server is tied to Transact-SQL, or T-SQL, Microsoft’s implementation of SQL, which includes a set of proprietary programming constructs.\n",
    "\n",
    "SQL Server has been exclusively available on the Windows environment for over 20 years. In 2016, Microsoft made it available on Linux. SQL Server 2017 became generally available in October 2016 and was compatible with both Windows and Linux."
   ]
  },
  {
   "cell_type": "markdown",
   "id": "e9626edf-38eb-4197-b38b-c5b424cf7eac",
   "metadata": {},
   "source": [
    "### SQL Server Architecture\n",
    "The following diagram illustrates the architecture of the SQL Server:"
   ]
  },
  {
   "cell_type": "markdown",
   "id": "d09afe17-1d63-42f2-9ced-213f1ccb629d",
   "metadata": {},
   "source": [
    "![MSSQL server Architecture](What-is-SQL-Server-SQL-Server-Architecture.png)"
   ]
  },
  {
   "cell_type": "markdown",
   "id": "8720705e-c392-44ed-b0ee-9d23816f41b1",
   "metadata": {},
   "source": [
    "SQL Server consists of two main components:\n",
    "\n",
    "    Database Engine\n",
    "    SQLOS"
   ]
  },
  {
   "cell_type": "markdown",
   "id": "8306ba2f-4c73-4789-9ab3-5392f04afef2",
   "metadata": {},
   "source": [
    "\n",
    "### Database Engine\n",
    "The core component of the SQL Server is the Database Engine, which comprises a relational engine that processes queries and a storage engine that manages database files, pages, indexes, etc.\n",
    "\n",
    "Additionally, the database engine creates database objects such as stored procedures, views, and triggers.\n",
    "\n",
    "#### Relational Engine\n",
    "The Relational Engine contains the components that determine the optimal method for executing a query. It is also known as the query processor.\n",
    "\n",
    "The relational engine requests data from the storage engine based on the input query and processes the results.\n",
    "\n",
    "Some tasks of the relational engine include querying processing, memory management, thread and task management, buffer management, and distributed query processing.\n",
    "\n",
    "#### Storage Engine\n",
    "The storage engine is responsible for storing and retrieving data from the storage systems such as disks and SAN.\n",
    "\n",
    "#### SQLOS\n",
    "Under the relational engine and storage engine lies the SQL Server Operating System, or SQLOS.\n",
    "\n",
    "SQLOS provides various operating system services such as memory and I/O management, as well as exception handling and synchronization services."
   ]
  },
  {
   "cell_type": "markdown",
   "id": "82f422f0-982a-42de-8aaf-9366ceab006a",
   "metadata": {},
   "source": [
    "### SQL Server Services and Tools\n",
    "Microsoft offers both data management and business intelligence (BI) tools and services alongside SQL Server.\n",
    "\n",
    "For data management, SQL Server includes SQL Server Integration Services (SSIS), SQL Server Data Quality Service, and SQL Server Master Data Services.\n",
    "\n",
    "For database development, SQL Server provides SQL Server Data tools; and for managing, deploying, and monitoring databases, SQL Server has the SQL Server Management Studio (SSMS).\n",
    "\n",
    "For data analysis, SQL Server offers SQL Server Analysis Services (SSAS). SQL Server Reporting Services (SSRS) provides reports and data visualization. The Machine Learning Services technology first appeared first in SQL Server 2016, originally known as the R Services."
   ]
  },
  {
   "cell_type": "markdown",
   "id": "0686e73b-8d91-4693-9c14-25e97d7514ac",
   "metadata": {},
   "source": [
    "## SQL Server BikeStore Database"
   ]
  },
  {
   "cell_type": "markdown",
   "id": "3a32dfcb-4e2f-4656-bc2f-6f816135906a",
   "metadata": {},
   "source": [
    "To setup SQL server and sample DB follow instructions from: \n",
    "\n",
    "https://www.sqlservertutorial.net/getting-started/sql-server-sample-database/ and https://www.sqlservertutorial.net/getting-started/load-sample-database/"
   ]
  },
  {
   "cell_type": "markdown",
   "id": "5c9faad5-df57-4549-9b11-1d091a3d4a2a",
   "metadata": {},
   "source": [
    "![MSSQL serverSample DB](SQL-Server-Sample-Database.png)"
   ]
  },
  {
   "cell_type": "code",
   "execution_count": null,
   "id": "5a63f019-5d1b-48a5-ab1f-e98327cb381e",
   "metadata": {},
   "outputs": [],
   "source": []
  },
  {
   "cell_type": "code",
   "execution_count": null,
   "id": "bc12c5f9-8acd-469d-8947-0b1dd0d17e73",
   "metadata": {},
   "outputs": [],
   "source": []
  },
  {
   "cell_type": "code",
   "execution_count": null,
   "id": "edcf1e82-cacc-489a-8dd3-cd129bb3c8ff",
   "metadata": {},
   "outputs": [],
   "source": []
  }
 ],
 "metadata": {
  "kernelspec": {
   "display_name": "Python 3 (ipykernel)",
   "language": "python",
   "name": "python3"
  },
  "language_info": {
   "codemirror_mode": {
    "name": "ipython",
    "version": 3
   },
   "file_extension": ".py",
   "mimetype": "text/x-python",
   "name": "python",
   "nbconvert_exporter": "python",
   "pygments_lexer": "ipython3",
   "version": "3.12.4"
  }
 },
 "nbformat": 4,
 "nbformat_minor": 5
}
