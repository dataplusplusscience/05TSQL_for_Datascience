{
 "cells": [
  {
   "cell_type": "markdown",
   "id": "7f4ef116-25d3-4a95-9a2b-a26bb148d30f",
   "metadata": {},
   "source": [
    "### Modifying data / Data manipulation language\n",
    "In this section, you will learn how to modify data in the database using Data Manipulation Language (DML), which includes SQL commands such as INSERT, DELETE, and UPDATE.\n",
    "    \n",
    "    INSERT – insert a row into a table\n",
    "    INSERT multiple rows – insert multiple rows into a table using a single INSERT statement\n",
    "    INSERT INTO SELECT – insert data that comes from the result set of a query into a table.\n",
    "    UPDATE – change the existing values in a table.\n",
    "    UPDATE JOIN – update values in a table based on values from another table using JOIN clauses.\n",
    "    DELETE – delete one or more rows of a table.\n",
    "    MERGE – walk you through the steps of performing a mixture of insertion, update, and deletion using a single statement.\n",
    "    Transaction – show you how to start a transaction explicitly using the BEGIN TRANSACTION, COMMIT, and ROLLBACK statements"
   ]
  },
  {
   "cell_type": "code",
   "execution_count": 1,
   "id": "a1addb06-c928-4980-89a0-fa97fb682029",
   "metadata": {},
   "outputs": [],
   "source": [
    "import pyodbc\n",
    "import os\n",
    "import pandas as pd\n",
    "\n",
    "#Check if drivers are installed\n",
    "#[x for x in pyodbc.drivers() if x.startswith(\"Microsoft Access Driver\")]\n",
    "\n",
    "# Define the connection string\n",
    "conn_str = (\n",
    "    r'DRIVER={ODBC Driver 17 for SQL Server};'\n",
    "    r'SERVER=localhost;'\n",
    "    r'DATABASE=BikeStores;'\n",
    "    r'Trusted_Connection=yes;'\n",
    ")\n",
    "\n",
    "# Establish the connection\n",
    "conn = pyodbc.connect(conn_str)\n",
    "\n",
    "# Create a cursor\n",
    "cursor = conn.cursor()"
   ]
  },
  {
   "cell_type": "code",
   "execution_count": 2,
   "id": "acdd779e-9a15-4249-854d-a4f2d0b65a4e",
   "metadata": {},
   "outputs": [
    {
     "data": {
      "text/html": [
       "<div>\n",
       "<style scoped>\n",
       "    .dataframe tbody tr th:only-of-type {\n",
       "        vertical-align: middle;\n",
       "    }\n",
       "\n",
       "    .dataframe tbody tr th {\n",
       "        vertical-align: top;\n",
       "    }\n",
       "\n",
       "    .dataframe thead th {\n",
       "        text-align: right;\n",
       "    }\n",
       "</style>\n",
       "<table border=\"1\" class=\"dataframe\">\n",
       "  <thead>\n",
       "    <tr style=\"text-align: right;\">\n",
       "      <th></th>\n",
       "      <th>name</th>\n",
       "    </tr>\n",
       "  </thead>\n",
       "  <tbody>\n",
       "    <tr>\n",
       "      <th>0</th>\n",
       "      <td>AdventureWorksDW2019</td>\n",
       "    </tr>\n",
       "    <tr>\n",
       "      <th>1</th>\n",
       "      <td>AdventureWorksLT2022</td>\n",
       "    </tr>\n",
       "    <tr>\n",
       "      <th>2</th>\n",
       "      <td>BikeStores</td>\n",
       "    </tr>\n",
       "    <tr>\n",
       "      <th>3</th>\n",
       "      <td>hr</td>\n",
       "    </tr>\n",
       "    <tr>\n",
       "      <th>4</th>\n",
       "      <td>master</td>\n",
       "    </tr>\n",
       "    <tr>\n",
       "      <th>5</th>\n",
       "      <td>model</td>\n",
       "    </tr>\n",
       "    <tr>\n",
       "      <th>6</th>\n",
       "      <td>msdb</td>\n",
       "    </tr>\n",
       "    <tr>\n",
       "      <th>7</th>\n",
       "      <td>tempdb</td>\n",
       "    </tr>\n",
       "  </tbody>\n",
       "</table>\n",
       "</div>"
      ],
      "text/plain": [
       "                   name\n",
       "0  AdventureWorksDW2019\n",
       "1  AdventureWorksLT2022\n",
       "2            BikeStores\n",
       "3                    hr\n",
       "4                master\n",
       "5                 model\n",
       "6                  msdb\n",
       "7                tempdb"
      ]
     },
     "execution_count": 2,
     "metadata": {},
     "output_type": "execute_result"
    }
   ],
   "source": [
    "# execute a query\n",
    "cursor.execute('''\n",
    "SELECT \n",
    "    name\n",
    "FROM \n",
    "    master.sys.databases\n",
    "ORDER BY \n",
    "    name;\n",
    "''')\n",
    "\n",
    "# Fetch all rows from the executed query\n",
    "rows = cursor.fetchall()\n",
    "\n",
    "# Get the column names\n",
    "columns = [column[0] for column in cursor.description]\n",
    "\n",
    "# Convert the rows into a list of dictionaries\n",
    "data = [dict(zip(columns, row)) for row in rows]\n",
    "\n",
    "# Create a DataFrame from the list of dictionaries\n",
    "df = pd.DataFrame(data)\n",
    "df.head(10)"
   ]
  },
  {
   "cell_type": "markdown",
   "id": "b11355d2-3892-48fb-ba45-caceda2174c6",
   "metadata": {},
   "source": [
    "#### MERGE"
   ]
  },
  {
   "cell_type": "markdown",
   "id": "c0324cf8-707f-48b4-8187-ed30100d8922",
   "metadata": {},
   "source": [
    "Suppose, you have two table called source and target tables, and you need to update the target table based on the values matched from the source table. There are three cases:\n",
    "\n",
    "1. The source table has some rows that do not exist in the target table. In this case, you need to insert rows that are in the source table into the target table.\n",
    "2. The target table has some rows that do not exist in the source table. In this case, you need to delete rows from the target table.\n",
    "3. The source table has some rows with the same keys as the rows in the target table. However, these rows have different values in the non-key columns. In this case, you need to update the rows in the target table with the values coming from the source table."
   ]
  },
  {
   "cell_type": "markdown",
   "id": "0147be40-4f55-4b48-8ae9-ab69e53a0d30",
   "metadata": {},
   "source": [
    "![MERGE](SQL-Server-MERGE.png)"
   ]
  },
  {
   "cell_type": "markdown",
   "id": "b0e05268-58e8-4b43-86e5-d0494199237e",
   "metadata": {},
   "source": [
    "If you use the INSERT, UPDATE, and DELETE statement individually, you have to construct three separate statements to update the data to the target table with the matching rows from the source table.\n",
    "\n",
    "However, SQL Server provides the MERGE statement that allows you to perform three actions at the same time. The following shows the syntax of the MERGE statement:"
   ]
  },
  {
   "cell_type": "raw",
   "id": "1d0025c3-3d79-4f7f-b5fd-3158129ee420",
   "metadata": {},
   "source": [
    "MERGE target_table USING source_table\n",
    "ON merge_condition\n",
    "WHEN MATCHED\n",
    "    THEN update_statement\n",
    "WHEN NOT MATCHED\n",
    "    THEN insert_statement\n",
    "WHEN NOT MATCHED BY SOURCE\n",
    "    THEN DELETE;"
   ]
  },
  {
   "cell_type": "code",
   "execution_count": 1,
   "id": "fe931ed7-b724-47b4-99f7-9707f3470617",
   "metadata": {},
   "outputs": [],
   "source": [
    "import pyodbc\n",
    "import os\n",
    "import pandas as pd\n",
    "\n",
    "#Check if drivers are installed\n",
    "#[x for x in pyodbc.drivers() if x.startswith(\"Microsoft Access Driver\")]\n",
    "\n",
    "# Define the connection string\n",
    "conn_str = (\n",
    "    r'DRIVER={ODBC Driver 17 for SQL Server};'\n",
    "    r'SERVER=localhost;'\n",
    "    r'DATABASE=BikeStores;'\n",
    "    r'Trusted_Connection=yes;'\n",
    ")\n",
    "\n",
    "# Establish the connection\n",
    "conn = pyodbc.connect(conn_str)\n",
    "\n",
    "# Create a cursor\n",
    "cursor = conn.cursor()"
   ]
  },
  {
   "cell_type": "code",
   "execution_count": 4,
   "id": "39c57290-aa3a-429d-92cb-d6c624f8b50b",
   "metadata": {},
   "outputs": [
    {
     "data": {
      "text/plain": [
       "<pyodbc.Cursor at 0x21353ec2130>"
      ]
     },
     "execution_count": 4,
     "metadata": {},
     "output_type": "execute_result"
    }
   ],
   "source": [
    "# execute a query\n",
    "cursor.execute('''\n",
    "CREATE TABLE sales.category (\n",
    "    category_id INT PRIMARY KEY,\n",
    "    category_name VARCHAR(255) NOT NULL,\n",
    "    amount DECIMAL(10 , 2 )\n",
    ");\n",
    "''')\n",
    "\n",
    "cursor.execute('''\n",
    "INSERT INTO sales.category(category_id, category_name, amount)\n",
    "VALUES(1,'Children Bicycles',15000),\n",
    "    (2,'Comfort Bicycles',25000),\n",
    "    (3,'Cruisers Bicycles',13000),\n",
    "    (4,'Cyclocross Bicycles',10000);\n",
    "''')\n"
   ]
  },
  {
   "cell_type": "code",
   "execution_count": 5,
   "id": "f0ab2749-d3f4-4d4d-b0c8-db1cb6ee34b3",
   "metadata": {},
   "outputs": [
    {
     "data": {
      "text/plain": [
       "<pyodbc.Cursor at 0x21353ec2130>"
      ]
     },
     "execution_count": 5,
     "metadata": {},
     "output_type": "execute_result"
    }
   ],
   "source": [
    "\n",
    "cursor.execute('''\n",
    "CREATE TABLE sales.category_staging (\n",
    "    category_id INT PRIMARY KEY,\n",
    "    category_name VARCHAR(255) NOT NULL,\n",
    "    amount DECIMAL(10 , 2 )\n",
    ");\n",
    "''')\n",
    "\n",
    "cursor.execute('''\n",
    "    INSERT INTO sales.category_staging(category_id, category_name, amount)\n",
    "    VALUES(1,'Children Bicycles',15000),\n",
    "        (3,'Cruisers Bicycles',13000),\n",
    "        (4,'Cyclocross Bicycles',20000),\n",
    "        (5,'Electric Bikes',10000),\n",
    "        (6,'Mountain Bikes',10000);\n",
    "''')\n",
    "\n"
   ]
  },
  {
   "cell_type": "markdown",
   "id": "6633ec36-5b47-4e12-8789-d959f751dabc",
   "metadata": {},
   "source": [
    "To update data to the sales.category (target table) with the values from the sales.category_staging (source table), you use the following MERGE statement:"
   ]
  },
  {
   "cell_type": "code",
   "execution_count": 7,
   "id": "7ad1c146-fd79-4fc7-ad4a-e8ebf1099f56",
   "metadata": {},
   "outputs": [
    {
     "data": {
      "text/plain": [
       "<pyodbc.Cursor at 0x21353ec2130>"
      ]
     },
     "execution_count": 7,
     "metadata": {},
     "output_type": "execute_result"
    }
   ],
   "source": [
    "cursor.execute('''\n",
    "MERGE sales.category t \n",
    "    USING sales.category_staging s\n",
    "ON (s.category_id = t.category_id)\n",
    "WHEN MATCHED\n",
    "    THEN UPDATE SET \n",
    "        t.category_name = s.category_name,\n",
    "        t.amount = s.amount\n",
    "WHEN NOT MATCHED BY TARGET \n",
    "    THEN INSERT (category_id, category_name, amount)\n",
    "         VALUES (s.category_id, s.category_name, s.amount)\n",
    "WHEN NOT MATCHED BY SOURCE \n",
    "    THEN DELETE;\n",
    "''')\n",
    "\n"
   ]
  },
  {
   "cell_type": "markdown",
   "id": "c16baf0a-4e07-428d-8d87-04c53b5992ef",
   "metadata": {},
   "source": [
    "![MERGE](SQL-Server-MERGE-Example.png)"
   ]
  },
  {
   "cell_type": "markdown",
   "id": "46cba6a6-d82f-4581-9d8e-43408a6387c5",
   "metadata": {},
   "source": [
    "In this example, we used the values in the category_id columns in both tables as the merge condition.\n",
    "\n",
    "First, the rows with id 1, 3, 4 from the sales.category_staging table matches with the rows from the target table, therefore, the MERGE statement updates the values in category name and amount columns in the sales.category table.\n",
    "\n",
    "Second, the rows with id 5 and 6 from the sales.category_staging table do not exist in the sales.category table, so the MERGE statement inserts these rows into the target table.\n",
    "\n",
    "Third, the row with id 2 from the sales.category table does not exist in the sales.sales_staging table, therefore, the MERGE statement deletes this row.\n",
    "As a result of the merger, the data in the sales.category table is fully synchronized with the data in the sales.category_staging table."
   ]
  },
  {
   "cell_type": "markdown",
   "id": "b8277b44-712c-496a-bff5-5bf0270df0b0",
   "metadata": {},
   "source": [
    "### Transaction"
   ]
  },
  {
   "cell_type": "markdown",
   "id": "1922357c-0019-4926-aa2a-77976654c998",
   "metadata": {},
   "source": [
    "A transaction is a single unit of work that typically contains multiple T-SQL statements.\n",
    "\n",
    "If a transaction is successful, the changes are committed to the database. However, if a transaction has an error, the changes have to be rolled back.\n",
    "\n",
    "When executing a single statement such as INSERT, UPDATE, and DELETE, SQL Server uses the autocommit transaction. In this case, each statement is a transaction.\n",
    "\n",
    "To start a transaction explicitly, you use the BEGIN TRANSACTION or BEGIN TRAN statement first:\n",
    "\n",
    "BEGIN TRANSACTION;\n",
    "\n",
    "Then, execute one or more statements including INSERT, UPDATE, and DELETE.\n",
    "\n",
    "Finally, commit the transaction using the COMMIT statement:\n",
    "\n",
    "COMMIT;\n",
    "\n",
    "Or roll back the transaction using the ROLLBACK statement:\n",
    "\n",
    "ROLLBACK;"
   ]
  },
  {
   "cell_type": "code",
   "execution_count": 8,
   "id": "97a44ae0-d87b-49b4-9819-8659de461bdf",
   "metadata": {},
   "outputs": [
    {
     "data": {
      "text/plain": [
       "<pyodbc.Cursor at 0x21353ec2130>"
      ]
     },
     "execution_count": 8,
     "metadata": {},
     "output_type": "execute_result"
    }
   ],
   "source": [
    "cursor.execute('''\n",
    "CREATE TABLE invoices (\n",
    "  id int IDENTITY PRIMARY KEY,\n",
    "  customer_id int NOT NULL,\n",
    "  total decimal(10, 2) NOT NULL DEFAULT 0 CHECK (total >= 0)\n",
    ");\n",
    "''')\n",
    "\n",
    "\n",
    "cursor.execute('''\n",
    "CREATE TABLE invoice_items (\n",
    "  id int,\n",
    "  invoice_id int NOT NULL,\n",
    "  item_name varchar(100) NOT NULL,\n",
    "  amount decimal(10, 2) NOT NULL CHECK (amount >= 0),\n",
    "  tax decimal(4, 2) NOT NULL CHECK (tax >= 0),\n",
    "  PRIMARY KEY (id, invoice_id),\n",
    "  FOREIGN KEY (invoice_id) REFERENCES invoices (id)\n",
    "\tON UPDATE CASCADE\n",
    "\tON DELETE CASCADE\n",
    ");\n",
    "''')"
   ]
  },
  {
   "cell_type": "markdown",
   "id": "c8b23347-dfba-49b9-afa0-ab278fd1c185",
   "metadata": {},
   "source": [
    "The invoices table stores the header of the invoice while the invoice_items table stores the line items. The total field in the invoices table is calculated from the line items."
   ]
  },
  {
   "cell_type": "code",
   "execution_count": 9,
   "id": "c4547888-8c9b-41bf-9565-bd09b2f6395c",
   "metadata": {},
   "outputs": [
    {
     "data": {
      "text/plain": [
       "<pyodbc.Cursor at 0x21353ec2130>"
      ]
     },
     "execution_count": 9,
     "metadata": {},
     "output_type": "execute_result"
    }
   ],
   "source": [
    "cursor.execute('''\n",
    "BEGIN TRANSACTION;\n",
    "\n",
    "INSERT INTO invoices (customer_id, total)\n",
    "VALUES (100, 0);\n",
    "\n",
    "INSERT INTO invoice_items (id, invoice_id, item_name, amount, tax)\n",
    "VALUES (10, 1, 'Keyboard', 70, 0.08),\n",
    "       (20, 1, 'Mouse', 50, 0.08);\n",
    "\n",
    "UPDATE invoices\n",
    "SET total = (SELECT\n",
    "  SUM(amount * (1 + tax))\n",
    "FROM invoice_items\n",
    "WHERE invoice_id = 1);\n",
    "\n",
    "COMMIT;\n",
    "''')"
   ]
  },
  {
   "cell_type": "code",
   "execution_count": 12,
   "id": "49c73d35-2777-4eba-a368-49470e32898c",
   "metadata": {},
   "outputs": [
    {
     "data": {
      "text/html": [
       "<div>\n",
       "<style scoped>\n",
       "    .dataframe tbody tr th:only-of-type {\n",
       "        vertical-align: middle;\n",
       "    }\n",
       "\n",
       "    .dataframe tbody tr th {\n",
       "        vertical-align: top;\n",
       "    }\n",
       "\n",
       "    .dataframe thead th {\n",
       "        text-align: right;\n",
       "    }\n",
       "</style>\n",
       "<table border=\"1\" class=\"dataframe\">\n",
       "  <thead>\n",
       "    <tr style=\"text-align: right;\">\n",
       "      <th></th>\n",
       "      <th>id</th>\n",
       "      <th>customer_id</th>\n",
       "      <th>total</th>\n",
       "    </tr>\n",
       "  </thead>\n",
       "  <tbody>\n",
       "    <tr>\n",
       "      <th>0</th>\n",
       "      <td>1</td>\n",
       "      <td>100</td>\n",
       "      <td>129.60</td>\n",
       "    </tr>\n",
       "  </tbody>\n",
       "</table>\n",
       "</div>"
      ],
      "text/plain": [
       "   id  customer_id   total\n",
       "0   1          100  129.60"
      ]
     },
     "execution_count": 12,
     "metadata": {},
     "output_type": "execute_result"
    }
   ],
   "source": [
    "cursor.execute('''\n",
    "SELECT * FROM invoices\n",
    "''')\n",
    "\n",
    "# Fetch all rows from the executed query\n",
    "rows = cursor.fetchall()\n",
    "\n",
    "# Get the column names\n",
    "columns = [column[0] for column in cursor.description]\n",
    "\n",
    "# Convert the rows into a list of dictionaries\n",
    "data = [dict(zip(columns, row)) for row in rows]\n",
    "\n",
    "# Create a DataFrame from the list of dictionaries\n",
    "df = pd.DataFrame(data)\n",
    "df.head(10)"
   ]
  },
  {
   "cell_type": "code",
   "execution_count": 13,
   "id": "ad247301-e680-4444-a4fb-070f5ef975f9",
   "metadata": {},
   "outputs": [
    {
     "data": {
      "text/html": [
       "<div>\n",
       "<style scoped>\n",
       "    .dataframe tbody tr th:only-of-type {\n",
       "        vertical-align: middle;\n",
       "    }\n",
       "\n",
       "    .dataframe tbody tr th {\n",
       "        vertical-align: top;\n",
       "    }\n",
       "\n",
       "    .dataframe thead th {\n",
       "        text-align: right;\n",
       "    }\n",
       "</style>\n",
       "<table border=\"1\" class=\"dataframe\">\n",
       "  <thead>\n",
       "    <tr style=\"text-align: right;\">\n",
       "      <th></th>\n",
       "      <th>id</th>\n",
       "      <th>invoice_id</th>\n",
       "      <th>item_name</th>\n",
       "      <th>amount</th>\n",
       "      <th>tax</th>\n",
       "    </tr>\n",
       "  </thead>\n",
       "  <tbody>\n",
       "    <tr>\n",
       "      <th>0</th>\n",
       "      <td>10</td>\n",
       "      <td>1</td>\n",
       "      <td>Keyboard</td>\n",
       "      <td>70.00</td>\n",
       "      <td>0.08</td>\n",
       "    </tr>\n",
       "    <tr>\n",
       "      <th>1</th>\n",
       "      <td>20</td>\n",
       "      <td>1</td>\n",
       "      <td>Mouse</td>\n",
       "      <td>50.00</td>\n",
       "      <td>0.08</td>\n",
       "    </tr>\n",
       "  </tbody>\n",
       "</table>\n",
       "</div>"
      ],
      "text/plain": [
       "   id  invoice_id item_name amount   tax\n",
       "0  10           1  Keyboard  70.00  0.08\n",
       "1  20           1     Mouse  50.00  0.08"
      ]
     },
     "execution_count": 13,
     "metadata": {},
     "output_type": "execute_result"
    }
   ],
   "source": [
    "cursor.execute('''\n",
    "SELECT * FROM invoice_items\n",
    "''')\n",
    "\n",
    "# Fetch all rows from the executed query\n",
    "rows = cursor.fetchall()\n",
    "\n",
    "# Get the column names\n",
    "columns = [column[0] for column in cursor.description]\n",
    "\n",
    "# Convert the rows into a list of dictionaries\n",
    "data = [dict(zip(columns, row)) for row in rows]\n",
    "\n",
    "# Create a DataFrame from the list of dictionaries\n",
    "df = pd.DataFrame(data)\n",
    "df.head(10)"
   ]
  },
  {
   "cell_type": "code",
   "execution_count": 14,
   "id": "370cd512-6233-400d-90a9-4bd6058c15d6",
   "metadata": {},
   "outputs": [
    {
     "data": {
      "text/plain": [
       "True"
      ]
     },
     "execution_count": 14,
     "metadata": {},
     "output_type": "execute_result"
    }
   ],
   "source": [
    "conn.close()\n",
    "conn.closed"
   ]
  },
  {
   "cell_type": "code",
   "execution_count": null,
   "id": "f1e6bc17-be76-4824-be08-501f040bd4ea",
   "metadata": {},
   "outputs": [],
   "source": []
  },
  {
   "cell_type": "code",
   "execution_count": null,
   "id": "52a46ef7-004a-4536-beb8-2a102b5016fc",
   "metadata": {},
   "outputs": [],
   "source": []
  }
 ],
 "metadata": {
  "kernelspec": {
   "display_name": "Python 3 (ipykernel)",
   "language": "python",
   "name": "python3"
  },
  "language_info": {
   "codemirror_mode": {
    "name": "ipython",
    "version": 3
   },
   "file_extension": ".py",
   "mimetype": "text/x-python",
   "name": "python",
   "nbconvert_exporter": "python",
   "pygments_lexer": "ipython3",
   "version": "3.12.7"
  }
 },
 "nbformat": 4,
 "nbformat_minor": 5
}
