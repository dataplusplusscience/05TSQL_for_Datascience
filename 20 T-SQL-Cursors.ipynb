{
 "cells": [
  {
   "cell_type": "markdown",
   "id": "ca844fe3-1360-4490-8ab2-a8f996e97320",
   "metadata": {},
   "source": [
    "#### Topics:\n",
    "\n",
    "    Cursor\n",
    "    "
   ]
  },
  {
   "cell_type": "markdown",
   "id": "00ca2b58-8a06-4822-acf8-9613264b6df1",
   "metadata": {},
   "source": [
    "### Cursor"
   ]
  },
  {
   "cell_type": "markdown",
   "id": "1ad650dd-cd06-4027-be79-1e5d114e6612",
   "metadata": {},
   "source": [
    "SQL works based on set e.g., SELECT statement returns a set of rows which is called a result set. However, sometimes, you may want to process a data set on a row by row basis. This is where cursors come into play.\n",
    "\n",
    "#### What is a database cursor\n",
    "A database cursor is an object that enables traversal over the rows of a result set. It allows you to process individual row returned by a query.\n"
   ]
  },
  {
   "cell_type": "markdown",
   "id": "327cc100-0fbd-432b-8f9c-831229a8372f",
   "metadata": {},
   "source": [
    "![Cursor](SQL-Server-Cursor.png)"
   ]
  },
  {
   "cell_type": "markdown",
   "id": "17a4a4f8-0e71-4fb9-a3d3-215dd546f477",
   "metadata": {},
   "source": [
    "First, declare a cursor.\n",
    "\n",
    "    DECLARE cursor_name CURSOR\n",
    "        FOR select_statement;\n",
    "\n",
    "To declare a cursor, you specify its name after the DECLARE keyword with the CURSOR data type and provide a SELECT statement that defines the result set for the cursor.\n",
    "\n",
    "Next, open and populate the cursor by executing the SELECT statement:\n",
    "\n",
    "    OPEN cursor_name;\n",
    "\n",
    "Then, fetch a row from the cursor into one or more variables:\n",
    "\n",
    "    FETCH NEXT FROM cursor INTO variable_list;\n",
    "\n",
    "SQL Server provides the @@FETCHSTATUS function that returns the status of the last cursor FETCH statement executed against the cursor; If @@FETCHSTATUS returns 0, meaning the FETCH statement was successful. You can use the WHILE statement to fetch all rows from the cursor as shown in the following code:\n",
    "\n",
    "    WHILE @@FETCH_STATUS = 0  \n",
    "        BEGIN\n",
    "            FETCH NEXT FROM cursor_name;  \n",
    "        END;\n",
    "\n",
    "After that, close the cursor:\n",
    "\n",
    "    CLOSE cursor_name;\n",
    "\n",
    "Finally, deallocate the cursor:\n",
    "\n",
    "    DEALLOCATE cursor_name;\n"
   ]
  },
  {
   "cell_type": "code",
   "execution_count": 1,
   "id": "1b7a3435-87f5-46a8-acfd-4e3842c37ba5",
   "metadata": {},
   "outputs": [],
   "source": [
    "import pyodbc\n",
    "import os\n",
    "import pandas as pd\n",
    "\n",
    "#Check if drivers are installed\n",
    "#[x for x in pyodbc.drivers() if x.startswith(\"Microsoft Access Driver\")]\n",
    "\n",
    "# Define the connection string\n",
    "conn_str = (\n",
    "    r'DRIVER={ODBC Driver 17 for SQL Server};'\n",
    "    r'SERVER=localhost;'\n",
    "    r'DATABASE=BikeStores;'\n",
    "    r'Trusted_Connection=yes;'\n",
    ")\n",
    "\n",
    "# Establish the connection\n",
    "conn = pyodbc.connect(conn_str, autocommit=True)\n",
    "\n",
    "# Create a cursor\n",
    "cursor = conn.cursor()"
   ]
  },
  {
   "cell_type": "markdown",
   "id": "f0f9a28d-bced-4814-af9f-f6ff11743697",
   "metadata": {},
   "source": [
    "#### 1. Declare"
   ]
  },
  {
   "cell_type": "code",
   "execution_count": 5,
   "id": "89289607-9179-4139-8e47-d8ab9f1fdf65",
   "metadata": {},
   "outputs": [
    {
     "ename": "ProgrammingError",
     "evalue": "No results.  Previous SQL was not a query.",
     "output_type": "error",
     "traceback": [
      "\u001b[1;31m---------------------------------------------------------------------------\u001b[0m",
      "\u001b[1;31mProgrammingError\u001b[0m                          Traceback (most recent call last)",
      "Cell \u001b[1;32mIn[5], line 34\u001b[0m\n\u001b[0;32m      1\u001b[0m cursor\u001b[38;5;241m.\u001b[39mexecute(\u001b[38;5;124m'''\u001b[39m\n\u001b[0;32m      2\u001b[0m \u001b[38;5;124mDECLARE \u001b[39m\n\u001b[0;32m      3\u001b[0m \u001b[38;5;124m    @product_name VARCHAR(MAX), \u001b[39m\n\u001b[1;32m   (...)\u001b[0m\n\u001b[0;32m     30\u001b[0m \n\u001b[0;32m     31\u001b[0m \u001b[38;5;124m'''\u001b[39m)\n\u001b[0;32m     33\u001b[0m \u001b[38;5;66;03m# Fetch all rows from the executed query\u001b[39;00m\n\u001b[1;32m---> 34\u001b[0m rows \u001b[38;5;241m=\u001b[39m cursor\u001b[38;5;241m.\u001b[39mfetchall()\n\u001b[0;32m     36\u001b[0m \u001b[38;5;66;03m# Get the column names\u001b[39;00m\n\u001b[0;32m     37\u001b[0m columns \u001b[38;5;241m=\u001b[39m [column[\u001b[38;5;241m0\u001b[39m] \u001b[38;5;28;01mfor\u001b[39;00m column \u001b[38;5;129;01min\u001b[39;00m cursor\u001b[38;5;241m.\u001b[39mdescription]\n",
      "\u001b[1;31mProgrammingError\u001b[0m: No results.  Previous SQL was not a query."
     ]
    }
   ],
   "source": [
    "\n",
    "cursor.execute('''\n",
    "DECLARE \n",
    "    @product_name VARCHAR(MAX), \n",
    "    @list_price   DECIMAL;\n",
    "\n",
    "DECLARE cursor_products CURSOR\n",
    "FOR SELECT \n",
    "        product_name, \n",
    "        list_price\n",
    "    FROM \n",
    "        production.products;\n",
    "\n",
    "OPEN cursor_products;\n",
    "\n",
    "FETCH NEXT FROM cursor_products INTO \n",
    "    @product_name, \n",
    "    @list_price;\n",
    "\n",
    "WHILE @@FETCH_STATUS = 0\n",
    "    BEGIN\n",
    "        PRINT @product_name + CAST(@list_price AS varchar);\n",
    "        FETCH NEXT FROM cursor_products INTO \n",
    "            @product_name, \n",
    "            @list_price;\n",
    "    END;\n",
    "\n",
    "CLOSE cursor_products;\n",
    "\n",
    "DEALLOCATE cursor_products;\n",
    "\n",
    "''')\n",
    "\n",
    "# Fetch all rows from the executed query\n",
    "rows = cursor.fetchall()\n",
    "\n",
    "# Get the column names\n",
    "columns = [column[0] for column in cursor.description]\n",
    "\n",
    "# Convert the rows into a list of dictionaries\n",
    "data = [dict(zip(columns, row)) for row in rows]\n",
    "\n",
    "# Create a DataFrame from the list of dictionaries\n",
    "df = pd.DataFrame(data)\n",
    "df.head(10)"
   ]
  },
  {
   "cell_type": "code",
   "execution_count": null,
   "id": "59a35a79-4b93-49aa-8b4b-1ac5d16b5611",
   "metadata": {},
   "outputs": [],
   "source": []
  }
 ],
 "metadata": {
  "kernelspec": {
   "display_name": "Python 3 (ipykernel)",
   "language": "python",
   "name": "python3"
  },
  "language_info": {
   "codemirror_mode": {
    "name": "ipython",
    "version": 3
   },
   "file_extension": ".py",
   "mimetype": "text/x-python",
   "name": "python",
   "nbconvert_exporter": "python",
   "pygments_lexer": "ipython3",
   "version": "3.12.7"
  }
 },
 "nbformat": 4,
 "nbformat_minor": 5
}
