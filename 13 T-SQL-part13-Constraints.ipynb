{
 "cells": [
  {
   "cell_type": "markdown",
   "id": "dad1e8aa-ffbe-4581-9132-e6fe960aeaff",
   "metadata": {},
   "source": [
    "### Topics:\n",
    "\n",
    "    Constraints :  PRIMARY KEY, FOREIGN KEY, NOT NULL, UNIQUE, CHECK\n",
    "    Expressions : CASE, COALESCE, NULLIF"
   ]
  },
  {
   "cell_type": "markdown",
   "id": "05daa030-3375-4402-a72a-a065eb5afac0",
   "metadata": {},
   "source": [
    "### PRIMARY KEY"
   ]
  },
  {
   "cell_type": "markdown",
   "id": "9579bba7-25f4-498e-8281-a0e8537638a0",
   "metadata": {},
   "source": [
    "A primary key is a column or a group of columns that uniquely identifies each row in a table. You create a primary key for a table by using the PRIMARY KEY constraint.\n",
    "\n",
    "If the primary key consists of only one column, you can define use PRIMARY KEY constraint as a column constraint:\n",
    "\n",
    "    CREATE TABLE table_name (\n",
    "        pk_column data_type PRIMARY KEY,\n",
    "        ...\n",
    "    );"
   ]
  },
  {
   "cell_type": "markdown",
   "id": "0b7c5ae6-94a4-4688-b366-fd5f92825cba",
   "metadata": {},
   "source": [
    "In case the primary key has two or more columns, you must use the PRIMARY KEY constraint as a table constraint:\n",
    "\n",
    "    CREATE TABLE table_name (\n",
    "        pk_column_1 data_type,\n",
    "        pk_column_2 data type,\n",
    "        ...\n",
    "        PRIMARY KEY (pk_column_1, pk_column_2)\n",
    "    );"
   ]
  },
  {
   "cell_type": "markdown",
   "id": "eb156621-9d07-455f-a2f0-d7b90d492609",
   "metadata": {},
   "source": [
    "Each table can contain only one primary key. All columns that participate in the primary key must be defined as NOT NULL. SQL Server automatically sets the NOT NULL constraint for all the primary key columns if the NOT NULL constraint is not specified for these columns.\n",
    "\n",
    "SQL Server also automatically creates a unique clustered index (or a non-clustered index if specified as such) when you create a primary key."
   ]
  },
  {
   "cell_type": "code",
   "execution_count": 11,
   "id": "d8da8fc4-c135-4ce4-b28a-31986b96a8dc",
   "metadata": {},
   "outputs": [],
   "source": [
    "import pyodbc\n",
    "import os\n",
    "import pandas as pd\n",
    "\n",
    "#Check if drivers are installed\n",
    "#[x for x in pyodbc.drivers() if x.startswith(\"Microsoft Access Driver\")]\n",
    "\n",
    "# Define the connection string\n",
    "conn_str = (\n",
    "    r'DRIVER={ODBC Driver 17 for SQL Server};'\n",
    "    r'SERVER=localhost;'\n",
    "    r'DATABASE=BikeStores;'\n",
    "    r'Trusted_Connection=yes;'\n",
    ")\n",
    "\n",
    "# Establish the connection\n",
    "conn = pyodbc.connect(conn_str, autocommit=True)\n",
    "\n",
    "# Create a cursor\n",
    "cursor = conn.cursor()"
   ]
  },
  {
   "cell_type": "markdown",
   "id": "8afab8c7-6ab9-4ea1-bfc7-54ff248eb834",
   "metadata": {},
   "source": [
    "To create a table with a single primary key define the PRIMARY KEY constraint next to datatype"
   ]
  },
  {
   "cell_type": "code",
   "execution_count": 2,
   "id": "b83e532d-705d-4fe5-8b3a-b69ba3543cc8",
   "metadata": {},
   "outputs": [
    {
     "data": {
      "text/plain": [
       "<pyodbc.Cursor at 0x22d5b1e6130>"
      ]
     },
     "execution_count": 2,
     "metadata": {},
     "output_type": "execute_result"
    }
   ],
   "source": [
    "cursor.execute('''\n",
    "CREATE TABLE sales.activities (\n",
    "    activity_id INT PRIMARY KEY IDENTITY,\n",
    "    activity_name VARCHAR (255) NOT NULL,\n",
    "    activity_date DATE NOT NULL\n",
    ");\n",
    "''')"
   ]
  },
  {
   "cell_type": "markdown",
   "id": "13deec1b-ea62-4e68-bd57-631bd2ef6fba",
   "metadata": {},
   "source": [
    "To create two columns as primary keys define PRIMARY KEY constraint at the end of statement"
   ]
  },
  {
   "cell_type": "code",
   "execution_count": 3,
   "id": "a0649f98-ca6f-499a-bdf5-75a96aeae8c9",
   "metadata": {},
   "outputs": [
    {
     "data": {
      "text/plain": [
       "<pyodbc.Cursor at 0x22d5b1e6130>"
      ]
     },
     "execution_count": 3,
     "metadata": {},
     "output_type": "execute_result"
    }
   ],
   "source": [
    "cursor.execute('''\n",
    "CREATE TABLE sales.participants(\n",
    "    activity_id int,\n",
    "    customer_id int,\n",
    "    PRIMARY KEY(activity_id, customer_id)\n",
    ");\n",
    "''')\n"
   ]
  },
  {
   "cell_type": "markdown",
   "id": "c0d8abf9-dcf7-4a6f-be48-5958911a47f1",
   "metadata": {},
   "source": [
    "But if you have a table with no primary key, then ALTER table to assign a primary key"
   ]
  },
  {
   "cell_type": "code",
   "execution_count": 4,
   "id": "16a3ddd8-2cef-4c05-a84e-dd30ffd16433",
   "metadata": {},
   "outputs": [
    {
     "data": {
      "text/plain": [
       "<pyodbc.Cursor at 0x22d5b1e6130>"
      ]
     },
     "execution_count": 4,
     "metadata": {},
     "output_type": "execute_result"
    }
   ],
   "source": [
    "cursor.execute('''\n",
    "CREATE TABLE sales.events(\n",
    "    event_id INT NOT NULL,\n",
    "    event_name VARCHAR(255),\n",
    "    start_date DATE NOT NULL,\n",
    "    duration DEC(5,2)\n",
    ");\n",
    "''')\n",
    "\n",
    "cursor.execute('''\n",
    "ALTER TABLE sales.events \n",
    "ADD PRIMARY KEY(event_id);\n",
    "''')"
   ]
  },
  {
   "cell_type": "markdown",
   "id": "5d4fd003-a0e7-4055-8219-65f2e44f6fa5",
   "metadata": {},
   "source": [
    "#### FOREIGN KEY"
   ]
  },
  {
   "cell_type": "markdown",
   "id": "4755ca43-945f-4db3-963a-34e0a9390c0b",
   "metadata": {},
   "source": [
    "Lets create the following tables first:"
   ]
  },
  {
   "cell_type": "code",
   "execution_count": 18,
   "id": "ce0b1858-b6e3-4b9c-85b2-c2227c271c14",
   "metadata": {},
   "outputs": [
    {
     "data": {
      "text/plain": [
       "<pyodbc.Cursor at 0x22d5c5f0cb0>"
      ]
     },
     "execution_count": 18,
     "metadata": {},
     "output_type": "execute_result"
    }
   ],
   "source": [
    "cursor.execute('''\n",
    "CREATE TABLE sales.vendor_groups (\n",
    "    group_id INT IDENTITY PRIMARY KEY,\n",
    "    group_name VARCHAR (100) NOT NULL\n",
    ");\n",
    "\n",
    "CREATE TABLE sales.vendors (\n",
    "        vendor_id INT IDENTITY PRIMARY KEY,\n",
    "        vendor_name VARCHAR(100) NOT NULL,\n",
    "        group_id INT NOT NULL,\n",
    ");\n",
    "''')"
   ]
  },
  {
   "cell_type": "markdown",
   "id": "0fb9f24f-e803-41aa-ad57-b5f5024f47c3",
   "metadata": {},
   "source": [
    "Each vendor belongs to a vendor group and each vendor group may have zero or more vendors. The relationship between the vendor_groups and vendors tables is one-to-many."
   ]
  },
  {
   "cell_type": "markdown",
   "id": "02d2729d-8fdd-4728-b1ab-62c4af1f437e",
   "metadata": {},
   "source": [
    "For each row in the  vendors table, you can always find a corresponding row in the vendor_groups table"
   ]
  },
  {
   "cell_type": "markdown",
   "id": "339260e5-c6d0-45e1-9318-4d5ad243ae58",
   "metadata": {},
   "source": [
    "However, with the current tables setup, you can insert a row into the  vendors table without a corresponding row in the vendor_groups table. Similarly, you can also delete a row in the vendor_groups table without updating or deleting the corresponding rows in the  vendors table that results in orphaned rows in the  vendors table."
   ]
  },
  {
   "cell_type": "markdown",
   "id": "e62bbb89-43e9-4c4f-8c58-f8c09a069186",
   "metadata": {},
   "source": [
    "To enforce the link between data in the vendor_groups and vendors tables, you need to establish a foreign key in the vendors table."
   ]
  },
  {
   "cell_type": "markdown",
   "id": "51fe1928-1c88-4cbc-ad91-e7a6f2dbb91a",
   "metadata": {},
   "source": [
    "A foreign key is a column or a group of columns in one table that uniquely identifies a row of another table (or the same table in case of self-reference).\n",
    "\n",
    "To create a foreign key, you use the FOREIGN KEY constraint."
   ]
  },
  {
   "cell_type": "code",
   "execution_count": null,
   "id": "67d8f0b0-94e6-4cb5-9c71-71a952296784",
   "metadata": {},
   "outputs": [],
   "source": [
    "cursor.execute('''DROP TABLE sales.vendors ''')"
   ]
  },
  {
   "cell_type": "code",
   "execution_count": 20,
   "id": "4c2f3ee6-60db-4355-aaa1-addc83f92f5b",
   "metadata": {},
   "outputs": [
    {
     "data": {
      "text/plain": [
       "<pyodbc.Cursor at 0x22d5c5f0cb0>"
      ]
     },
     "execution_count": 20,
     "metadata": {},
     "output_type": "execute_result"
    }
   ],
   "source": [
    "cursor.execute('''\n",
    "CREATE TABLE sales.vendors (\n",
    "        vendor_id INT IDENTITY PRIMARY KEY,\n",
    "        vendor_name VARCHAR(100) NOT NULL,\n",
    "        group_id INT NOT NULL,\n",
    "        CONSTRAINT fk_group FOREIGN KEY (group_id) \n",
    "        REFERENCES sales.vendor_groups(group_id)\n",
    ");\n",
    "''')"
   ]
  },
  {
   "cell_type": "markdown",
   "id": "25ee91b1-b6eb-4652-bdcd-4742c7929f27",
   "metadata": {},
   "source": [
    "The vendor_groups table now is called the parent table that is the table to which the foreign key constraint references. The vendors table is called the child table that is the table to which the foreign key constraint is applied."
   ]
  },
  {
   "cell_type": "markdown",
   "id": "5d0e6f4d-7dd4-4bb5-a1e7-4f0fb620ae76",
   "metadata": {},
   "source": [
    "In the statement above, the following clause creates a FOREIGN KEY constraint named fk_group that links the group_id in the  vendors table to the group_id in the vendor_groups table:\n",
    "\n",
    "    CONSTRAINT fk_group FOREIGN KEY (group_id) REFERENCES sales.vendor_groups(group_id)\n"
   ]
  },
  {
   "cell_type": "markdown",
   "id": "eba184f0-cd7f-4ef2-8078-4843c0709fbe",
   "metadata": {},
   "source": [
    "The general syntax for creating a FOREIGN KEY constraint is as follows:\n",
    "\n",
    "    CONSTRAINT fk_constraint_name \n",
    "    FOREIGN KEY (column_1, column2,...)\n",
    "    REFERENCES parent_table_name(column1,column2,..)"
   ]
  },
  {
   "cell_type": "code",
   "execution_count": 21,
   "id": "bdfe3f72-1f98-428f-829c-205ebc491c46",
   "metadata": {},
   "outputs": [
    {
     "data": {
      "text/plain": [
       "<pyodbc.Cursor at 0x22d5c5f0cb0>"
      ]
     },
     "execution_count": 21,
     "metadata": {},
     "output_type": "execute_result"
    }
   ],
   "source": [
    "cursor.execute('''\n",
    "INSERT INTO sales.vendor_groups(group_name)\n",
    "VALUES('Third-Party Vendors'),\n",
    "      ('Interco Vendors'),\n",
    "      ('One-time Vendors');\n",
    "''')"
   ]
  },
  {
   "cell_type": "code",
   "execution_count": 23,
   "id": "43d2a5e6-f1d2-44c9-b897-3ffe6b7b42e0",
   "metadata": {},
   "outputs": [
    {
     "data": {
      "text/plain": [
       "<pyodbc.Cursor at 0x22d5c5f0cb0>"
      ]
     },
     "execution_count": 23,
     "metadata": {},
     "output_type": "execute_result"
    }
   ],
   "source": [
    "cursor.execute('''\n",
    "INSERT INTO sales.vendors(vendor_name, group_id)\n",
    "VALUES('ABC Corp',1);\n",
    "''')"
   ]
  },
  {
   "cell_type": "code",
   "execution_count": 24,
   "id": "5997c421-1a16-48a3-b2c2-5588982e6968",
   "metadata": {},
   "outputs": [
    {
     "ename": "IntegrityError",
     "evalue": "('23000', '[23000] [Microsoft][ODBC Driver 17 for SQL Server][SQL Server]The INSERT statement conflicted with the FOREIGN KEY constraint \"fk_group\". The conflict occurred in database \"BikeStores\", table \"sales.vendor_groups\", column \\'group_id\\'. (547) (SQLExecDirectW); [23000] [Microsoft][ODBC Driver 17 for SQL Server][SQL Server]The statement has been terminated. (3621)')",
     "output_type": "error",
     "traceback": [
      "\u001b[1;31m---------------------------------------------------------------------------\u001b[0m",
      "\u001b[1;31mIntegrityError\u001b[0m                            Traceback (most recent call last)",
      "Cell \u001b[1;32mIn[24], line 1\u001b[0m\n\u001b[1;32m----> 1\u001b[0m cursor\u001b[38;5;241m.\u001b[39mexecute(\u001b[38;5;124m'''\u001b[39m\n\u001b[0;32m      2\u001b[0m \u001b[38;5;124mINSERT INTO sales.vendors(vendor_name, group_id)\u001b[39m\n\u001b[0;32m      3\u001b[0m \u001b[38;5;124mVALUES(\u001b[39m\u001b[38;5;124m'\u001b[39m\u001b[38;5;124mXYZ Corp\u001b[39m\u001b[38;5;124m'\u001b[39m\u001b[38;5;124m,4);\u001b[39m\n\u001b[0;32m      4\u001b[0m \u001b[38;5;124m'''\u001b[39m)\n",
      "\u001b[1;31mIntegrityError\u001b[0m: ('23000', '[23000] [Microsoft][ODBC Driver 17 for SQL Server][SQL Server]The INSERT statement conflicted with the FOREIGN KEY constraint \"fk_group\". The conflict occurred in database \"BikeStores\", table \"sales.vendor_groups\", column \\'group_id\\'. (547) (SQLExecDirectW); [23000] [Microsoft][ODBC Driver 17 for SQL Server][SQL Server]The statement has been terminated. (3621)')"
     ]
    }
   ],
   "source": [
    "cursor.execute('''\n",
    "INSERT INTO sales.vendors(vendor_name, group_id)\n",
    "VALUES('XYZ Corp',4);\n",
    "''')"
   ]
  },
  {
   "cell_type": "markdown",
   "id": "5aa1ee3d-af73-4a30-b60c-a00fbe47e45d",
   "metadata": {},
   "source": [
    "#### Referential actions\n",
    "The foreign key constraint ensures referential integrity. It means that you can only insert a row into the child table if there is a corresponding row in the parent table.\n",
    "\n",
    "Besides, the foreign key constraint allows you to define the referential actions when the row in the parent table is updated or deleted as follows:\n",
    "\n",
    "    FOREIGN KEY (foreign_key_columns)\n",
    "        REFERENCES parent_table(parent_key_columns)\n",
    "        ON UPDATE action \n",
    "        ON DELETE action;\n",
    "\n",
    "Code language: SQL (Structured Query Language) (sql)\n",
    "\n",
    "The ON UPDATE and ON DELETE specify which action will execute when a row in the parent table is updated and deleted. The following are permitted actions : NO ACTION, CASCADE, SET NULL, and SET DEFAULT"
   ]
  },
  {
   "cell_type": "markdown",
   "id": "6be9e6b3-1989-4174-b9b1-58d8eb2bace1",
   "metadata": {},
   "source": [
    "#### Delete actions of rows in the parent table\n",
    "If you delete one or more rows in the parent table, you can set one of the following actions:\n",
    "\n",
    "    ON DELETE NO ACTION: SQL Server raises an error and rolls back the delete action on the row in the parent table.\n",
    "    ON DELETE CASCADE: SQL Server deletes the rows in the child table that is corresponding to the row deleted from the parent table.\n",
    "    ON DELETE SET NULL: SQL Server sets the rows in the child table to NULL if the corresponding rows in the parent table are deleted. To execute this action, the foreign key columns must be nullable.\n",
    "    ON DELETE SET DEFAULT SQL Server sets the rows in the child table to their default values if the corresponding rows in the parent table are deleted. To execute this action, the foreign key columns must have default definitions. Note that a nullable column has a default value of NULL if no default value specified.\n",
    "    By default, SQL Server appliesON DELETE NO ACTION if you don’t explicitly specify any action.\n",
    "\n",
    "#### Update action of rows in the parent table\n",
    "If you update one or more rows in the parent table, you can set one of the following actions:\n",
    "    \n",
    "    ON UPDATE NO ACTION: SQL Server raises an error and rolls back the update action on the row in the parent table.\n",
    "    ON UPDATE CASCADE: SQL Server updates the corresponding rows in the child table when the rows in the parent table are updated.\n",
    "    ON UPDATE SET NULL: SQL Server sets the rows in the child table to NULL when the corresponding row in the parent table is updated. Note that the foreign key columns must be nullable for this action to execute.\n",
    "    ON UPDATE SET DEFAULT: SQL Server sets the default values for the rows in the child table that have the corresponding rows in the parent table updated."
   ]
  },
  {
   "cell_type": "code",
   "execution_count": 25,
   "id": "71a136e3-2273-4598-84d2-f6478b8159ac",
   "metadata": {},
   "outputs": [
    {
     "data": {
      "text/plain": [
       "True"
      ]
     },
     "execution_count": 25,
     "metadata": {},
     "output_type": "execute_result"
    }
   ],
   "source": [
    "conn.close()\n",
    "conn.closed"
   ]
  },
  {
   "cell_type": "markdown",
   "id": "33f830da-aaa8-40f3-8a75-07982297aee3",
   "metadata": {},
   "source": [
    "### NOT NULL "
   ]
  },
  {
   "cell_type": "code",
   "execution_count": 40,
   "id": "78fa83cc-f10d-4397-90b1-d95d86561706",
   "metadata": {},
   "outputs": [],
   "source": [
    "import pyodbc\n",
    "import os\n",
    "import pandas as pd\n",
    "\n",
    "#Check if drivers are installed\n",
    "#[x for x in pyodbc.drivers() if x.startswith(\"Microsoft Access Driver\")]\n",
    "\n",
    "# Define the connection string\n",
    "conn_str = (\n",
    "    r'DRIVER={ODBC Driver 17 for SQL Server};'\n",
    "    r'SERVER=localhost;'\n",
    "    r'DATABASE=hr;'\n",
    "    r'Trusted_Connection=yes;'\n",
    ")\n",
    "\n",
    "# Establish the connection\n",
    "conn = pyodbc.connect(conn_str, autocommit=True)\n",
    "\n",
    "# Create a cursor\n",
    "cursor = conn.cursor()"
   ]
  },
  {
   "cell_type": "code",
   "execution_count": 49,
   "id": "de71450a-95c0-4a53-8526-cf322a31812f",
   "metadata": {},
   "outputs": [
    {
     "ename": "ProgrammingError",
     "evalue": "('42S01', \"[42S01] [Microsoft][ODBC Driver 17 for SQL Server][SQL Server]There is already an object named 'persons' in the database. (2714) (SQLExecDirectW)\")",
     "output_type": "error",
     "traceback": [
      "\u001b[1;31m---------------------------------------------------------------------------\u001b[0m",
      "\u001b[1;31mProgrammingError\u001b[0m                          Traceback (most recent call last)",
      "Cell \u001b[1;32mIn[49], line 1\u001b[0m\n\u001b[1;32m----> 1\u001b[0m cursor\u001b[38;5;241m.\u001b[39mexecute(\u001b[38;5;124m'''\u001b[39m\n\u001b[0;32m      2\u001b[0m \u001b[38;5;124mCREATE TABLE hr.persons(\u001b[39m\n\u001b[0;32m      3\u001b[0m \u001b[38;5;124m    person_id INT IDENTITY PRIMARY KEY,\u001b[39m\n\u001b[0;32m      4\u001b[0m \u001b[38;5;124m    first_name VARCHAR(255) NOT NULL,\u001b[39m\n\u001b[0;32m      5\u001b[0m \u001b[38;5;124m    last_name VARCHAR(255) NOT NULL,\u001b[39m\n\u001b[0;32m      6\u001b[0m \u001b[38;5;124m    email VARCHAR(255) NOT NULL,\u001b[39m\n\u001b[0;32m      7\u001b[0m \u001b[38;5;124m    phone VARCHAR(20)\u001b[39m\n\u001b[0;32m      8\u001b[0m \u001b[38;5;124m);\u001b[39m\n\u001b[0;32m      9\u001b[0m \n\u001b[0;32m     10\u001b[0m \u001b[38;5;124m'''\u001b[39m)\n",
      "\u001b[1;31mProgrammingError\u001b[0m: ('42S01', \"[42S01] [Microsoft][ODBC Driver 17 for SQL Server][SQL Server]There is already an object named 'persons' in the database. (2714) (SQLExecDirectW)\")"
     ]
    }
   ],
   "source": [
    "cursor.execute('''\n",
    "CREATE TABLE hr.persons(\n",
    "    person_id INT IDENTITY PRIMARY KEY,\n",
    "    first_name VARCHAR(255) NOT NULL,\n",
    "    last_name VARCHAR(255) NOT NULL,\n",
    "    email VARCHAR(255) NOT NULL,\n",
    "    phone VARCHAR(20)\n",
    ");\n",
    "\n",
    "''')"
   ]
  },
  {
   "cell_type": "markdown",
   "id": "18d435ab-8177-444f-9907-c226d5eaf25e",
   "metadata": {},
   "source": [
    "Note that the NOT NULL constraints are always written as column constraints.\n",
    "\n",
    "By default, if you don’t specify the NOT NULL constraint, SQL Server will allow the column to accepts NULL. In this example, the phone column can accept NULL."
   ]
  },
  {
   "cell_type": "code",
   "execution_count": 50,
   "id": "a23eed06-278e-4b78-8f13-6dbd25768d1f",
   "metadata": {},
   "outputs": [
    {
     "data": {
      "text/plain": [
       "<pyodbc.Cursor at 0x22d5c6240b0>"
      ]
     },
     "execution_count": 50,
     "metadata": {},
     "output_type": "execute_result"
    }
   ],
   "source": [
    "cursor.execute('''\n",
    "INSERT INTO hr.persons\n",
    "VALUES ( 'James', 'Bond', 'James.Bond@uk.com', '' )\n",
    "''')"
   ]
  },
  {
   "cell_type": "code",
   "execution_count": 51,
   "id": "156b2952-031f-4996-9d56-fc4877488a7f",
   "metadata": {},
   "outputs": [
    {
     "data": {
      "text/html": [
       "<div>\n",
       "<style scoped>\n",
       "    .dataframe tbody tr th:only-of-type {\n",
       "        vertical-align: middle;\n",
       "    }\n",
       "\n",
       "    .dataframe tbody tr th {\n",
       "        vertical-align: top;\n",
       "    }\n",
       "\n",
       "    .dataframe thead th {\n",
       "        text-align: right;\n",
       "    }\n",
       "</style>\n",
       "<table border=\"1\" class=\"dataframe\">\n",
       "  <thead>\n",
       "    <tr style=\"text-align: right;\">\n",
       "      <th></th>\n",
       "      <th>person_id</th>\n",
       "      <th>first_name</th>\n",
       "      <th>last_name</th>\n",
       "      <th>email</th>\n",
       "      <th>phone</th>\n",
       "    </tr>\n",
       "  </thead>\n",
       "  <tbody>\n",
       "    <tr>\n",
       "      <th>0</th>\n",
       "      <td>1</td>\n",
       "      <td>James</td>\n",
       "      <td>Bond</td>\n",
       "      <td>James.Bond@uk.com</td>\n",
       "      <td></td>\n",
       "    </tr>\n",
       "    <tr>\n",
       "      <th>1</th>\n",
       "      <td>2</td>\n",
       "      <td>James</td>\n",
       "      <td>Bond</td>\n",
       "      <td>James.Bond@uk.com</td>\n",
       "      <td></td>\n",
       "    </tr>\n",
       "  </tbody>\n",
       "</table>\n",
       "</div>"
      ],
      "text/plain": [
       "   person_id first_name last_name              email phone\n",
       "0          1      James      Bond  James.Bond@uk.com      \n",
       "1          2      James      Bond  James.Bond@uk.com      "
      ]
     },
     "execution_count": 51,
     "metadata": {},
     "output_type": "execute_result"
    }
   ],
   "source": [
    "cursor.execute('''\n",
    "SELECT * FROM hr.persons\n",
    "''')\n",
    "\n",
    "\n",
    "# Fetch all rows from the executed query\n",
    "rows = cursor.fetchall()\n",
    "\n",
    "# Get the column names\n",
    "columns = [column[0] for column in cursor.description]\n",
    "\n",
    "# Convert the rows into a list of dictionaries\n",
    "data = [dict(zip(columns, row)) for row in rows]\n",
    "\n",
    "# Create a DataFrame from the list of dictionaries\n",
    "df = pd.DataFrame(data)\n",
    "df.head(10)"
   ]
  },
  {
   "cell_type": "markdown",
   "id": "ba7345d5-8301-47b7-b460-6c25f27f7caf",
   "metadata": {},
   "source": [
    "To add / remove NOT NULL property, use ALTER TABLE "
   ]
  },
  {
   "cell_type": "code",
   "execution_count": 53,
   "id": "f1125793-88c7-4444-8b37-8aaeb2d6f01a",
   "metadata": {},
   "outputs": [
    {
     "data": {
      "text/plain": [
       "<pyodbc.Cursor at 0x22d5c6240b0>"
      ]
     },
     "execution_count": 53,
     "metadata": {},
     "output_type": "execute_result"
    }
   ],
   "source": [
    "cursor.execute('''\n",
    "ALTER TABLE hr.persons\n",
    "ALTER COLUMN phone VARCHAR(20) NOT NULL;\n",
    "''')"
   ]
  },
  {
   "cell_type": "code",
   "execution_count": 54,
   "id": "36bcb1bd-4078-490f-8683-6f3b603e6b11",
   "metadata": {},
   "outputs": [
    {
     "data": {
      "text/html": [
       "<div>\n",
       "<style scoped>\n",
       "    .dataframe tbody tr th:only-of-type {\n",
       "        vertical-align: middle;\n",
       "    }\n",
       "\n",
       "    .dataframe tbody tr th {\n",
       "        vertical-align: top;\n",
       "    }\n",
       "\n",
       "    .dataframe thead th {\n",
       "        text-align: right;\n",
       "    }\n",
       "</style>\n",
       "<table border=\"1\" class=\"dataframe\">\n",
       "  <thead>\n",
       "    <tr style=\"text-align: right;\">\n",
       "      <th></th>\n",
       "      <th>person_id</th>\n",
       "      <th>first_name</th>\n",
       "      <th>last_name</th>\n",
       "      <th>email</th>\n",
       "      <th>phone</th>\n",
       "    </tr>\n",
       "  </thead>\n",
       "  <tbody>\n",
       "    <tr>\n",
       "      <th>0</th>\n",
       "      <td>1</td>\n",
       "      <td>James</td>\n",
       "      <td>Bond</td>\n",
       "      <td>James.Bond@uk.com</td>\n",
       "      <td></td>\n",
       "    </tr>\n",
       "    <tr>\n",
       "      <th>1</th>\n",
       "      <td>2</td>\n",
       "      <td>James</td>\n",
       "      <td>Bond</td>\n",
       "      <td>James.Bond@uk.com</td>\n",
       "      <td></td>\n",
       "    </tr>\n",
       "  </tbody>\n",
       "</table>\n",
       "</div>"
      ],
      "text/plain": [
       "   person_id first_name last_name              email phone\n",
       "0          1      James      Bond  James.Bond@uk.com      \n",
       "1          2      James      Bond  James.Bond@uk.com      "
      ]
     },
     "execution_count": 54,
     "metadata": {},
     "output_type": "execute_result"
    }
   ],
   "source": [
    "cursor.execute('''\n",
    "SELECT * FROM hr.persons\n",
    "''')\n",
    "\n",
    "\n",
    "# Fetch all rows from the executed query\n",
    "rows = cursor.fetchall()\n",
    "\n",
    "# Get the column names\n",
    "columns = [column[0] for column in cursor.description]\n",
    "\n",
    "# Convert the rows into a list of dictionaries\n",
    "data = [dict(zip(columns, row)) for row in rows]\n",
    "\n",
    "# Create a DataFrame from the list of dictionaries\n",
    "df = pd.DataFrame(data)\n",
    "df.head(10)"
   ]
  },
  {
   "cell_type": "code",
   "execution_count": 55,
   "id": "277f0f39-c616-40b4-a1fc-8f64fdc390b8",
   "metadata": {},
   "outputs": [
    {
     "data": {
      "text/plain": [
       "<pyodbc.Cursor at 0x22d5c6240b0>"
      ]
     },
     "execution_count": 55,
     "metadata": {},
     "output_type": "execute_result"
    }
   ],
   "source": [
    "cursor.execute('''\n",
    "INSERT INTO hr.persons\n",
    "VALUES ( 'James', 'Bond', 'James.Bond@uk.com', '007' )\n",
    "''')"
   ]
  },
  {
   "cell_type": "code",
   "execution_count": 56,
   "id": "f3c10112-e050-4572-b861-7b0177c0444d",
   "metadata": {},
   "outputs": [
    {
     "data": {
      "text/html": [
       "<div>\n",
       "<style scoped>\n",
       "    .dataframe tbody tr th:only-of-type {\n",
       "        vertical-align: middle;\n",
       "    }\n",
       "\n",
       "    .dataframe tbody tr th {\n",
       "        vertical-align: top;\n",
       "    }\n",
       "\n",
       "    .dataframe thead th {\n",
       "        text-align: right;\n",
       "    }\n",
       "</style>\n",
       "<table border=\"1\" class=\"dataframe\">\n",
       "  <thead>\n",
       "    <tr style=\"text-align: right;\">\n",
       "      <th></th>\n",
       "      <th>person_id</th>\n",
       "      <th>first_name</th>\n",
       "      <th>last_name</th>\n",
       "      <th>email</th>\n",
       "      <th>phone</th>\n",
       "    </tr>\n",
       "  </thead>\n",
       "  <tbody>\n",
       "    <tr>\n",
       "      <th>0</th>\n",
       "      <td>1</td>\n",
       "      <td>James</td>\n",
       "      <td>Bond</td>\n",
       "      <td>James.Bond@uk.com</td>\n",
       "      <td></td>\n",
       "    </tr>\n",
       "    <tr>\n",
       "      <th>1</th>\n",
       "      <td>2</td>\n",
       "      <td>James</td>\n",
       "      <td>Bond</td>\n",
       "      <td>James.Bond@uk.com</td>\n",
       "      <td></td>\n",
       "    </tr>\n",
       "    <tr>\n",
       "      <th>2</th>\n",
       "      <td>3</td>\n",
       "      <td>James</td>\n",
       "      <td>Bond</td>\n",
       "      <td>James.Bond@uk.com</td>\n",
       "      <td>007</td>\n",
       "    </tr>\n",
       "  </tbody>\n",
       "</table>\n",
       "</div>"
      ],
      "text/plain": [
       "   person_id first_name last_name              email phone\n",
       "0          1      James      Bond  James.Bond@uk.com      \n",
       "1          2      James      Bond  James.Bond@uk.com      \n",
       "2          3      James      Bond  James.Bond@uk.com   007"
      ]
     },
     "execution_count": 56,
     "metadata": {},
     "output_type": "execute_result"
    }
   ],
   "source": [
    "cursor.execute('''\n",
    "SELECT * FROM hr.persons\n",
    "''')\n",
    "\n",
    "\n",
    "# Fetch all rows from the executed query\n",
    "rows = cursor.fetchall()\n",
    "\n",
    "# Get the column names\n",
    "columns = [column[0] for column in cursor.description]\n",
    "\n",
    "# Convert the rows into a list of dictionaries\n",
    "data = [dict(zip(columns, row)) for row in rows]\n",
    "\n",
    "# Create a DataFrame from the list of dictionaries\n",
    "df = pd.DataFrame(data)\n",
    "df.head(10)"
   ]
  },
  {
   "cell_type": "markdown",
   "id": "9dafb3c7-d976-42a6-b84a-c7b0c741f53d",
   "metadata": {},
   "source": [
    "### UNIQUE"
   ]
  },
  {
   "cell_type": "markdown",
   "id": "3b6b2fac-92bd-4b2e-bc3f-20d4a8a7e093",
   "metadata": {},
   "source": [
    "SQL Server UNIQUE constraints allow you to ensure that the data stored in a column, or a group of columns, is unique among the rows in a table."
   ]
  },
  {
   "cell_type": "code",
   "execution_count": 57,
   "id": "984029b7-1e92-4209-be05-d1044750b90c",
   "metadata": {},
   "outputs": [
    {
     "data": {
      "text/plain": [
       "<pyodbc.Cursor at 0x22d5c6240b0>"
      ]
     },
     "execution_count": 57,
     "metadata": {},
     "output_type": "execute_result"
    }
   ],
   "source": [
    "cursor.execute('''\n",
    "DROP TABLE hr.persons\n",
    "''')"
   ]
  },
  {
   "cell_type": "code",
   "execution_count": 58,
   "id": "2133ebe9-dd8a-4026-9a96-ddf248521a59",
   "metadata": {},
   "outputs": [
    {
     "data": {
      "text/plain": [
       "<pyodbc.Cursor at 0x22d5c6240b0>"
      ]
     },
     "execution_count": 58,
     "metadata": {},
     "output_type": "execute_result"
    }
   ],
   "source": [
    "cursor.execute('''\n",
    "CREATE TABLE hr.persons(\n",
    "    person_id INT IDENTITY PRIMARY KEY,\n",
    "    first_name VARCHAR(255) NOT NULL,\n",
    "    last_name VARCHAR(255) NOT NULL,\n",
    "    email VARCHAR(255),\n",
    "    UNIQUE(email)\n",
    ");\n",
    "\n",
    "''')"
   ]
  },
  {
   "cell_type": "code",
   "execution_count": 59,
   "id": "7f7abafe-8ed3-4ae5-9e6d-10f20f8800e0",
   "metadata": {},
   "outputs": [
    {
     "data": {
      "text/plain": [
       "<pyodbc.Cursor at 0x22d5c6240b0>"
      ]
     },
     "execution_count": 59,
     "metadata": {},
     "output_type": "execute_result"
    }
   ],
   "source": [
    "cursor.execute('''\n",
    "INSERT INTO hr.persons(first_name, last_name, email)\n",
    "VALUES('John','Doe','j.doe@bike.stores');\n",
    "''')"
   ]
  },
  {
   "cell_type": "code",
   "execution_count": 60,
   "id": "60e96565-7294-43fd-8c90-4506a8da28fc",
   "metadata": {},
   "outputs": [
    {
     "ename": "IntegrityError",
     "evalue": "('23000', \"[23000] [Microsoft][ODBC Driver 17 for SQL Server][SQL Server]Violation of UNIQUE KEY constraint 'UQ__persons__AB6E616485DF55F9'. Cannot insert duplicate key in object 'hr.persons'. The duplicate key value is (j.doe@bike.stores). (2627) (SQLExecDirectW); [23000] [Microsoft][ODBC Driver 17 for SQL Server][SQL Server]The statement has been terminated. (3621)\")",
     "output_type": "error",
     "traceback": [
      "\u001b[1;31m---------------------------------------------------------------------------\u001b[0m",
      "\u001b[1;31mIntegrityError\u001b[0m                            Traceback (most recent call last)",
      "Cell \u001b[1;32mIn[60], line 1\u001b[0m\n\u001b[1;32m----> 1\u001b[0m cursor\u001b[38;5;241m.\u001b[39mexecute(\u001b[38;5;124m'''\u001b[39m\n\u001b[0;32m      2\u001b[0m \u001b[38;5;124mINSERT INTO hr.persons(first_name, last_name, email)\u001b[39m\n\u001b[0;32m      3\u001b[0m \u001b[38;5;124mVALUES(\u001b[39m\u001b[38;5;124m'\u001b[39m\u001b[38;5;124mJane\u001b[39m\u001b[38;5;124m'\u001b[39m\u001b[38;5;124m,\u001b[39m\u001b[38;5;124m'\u001b[39m\u001b[38;5;124mDoe\u001b[39m\u001b[38;5;124m'\u001b[39m\u001b[38;5;124m,\u001b[39m\u001b[38;5;124m'\u001b[39m\u001b[38;5;124mj.doe@bike.stores\u001b[39m\u001b[38;5;124m'\u001b[39m\u001b[38;5;124m);\u001b[39m\n\u001b[0;32m      4\u001b[0m \u001b[38;5;124m'''\u001b[39m)\n",
      "\u001b[1;31mIntegrityError\u001b[0m: ('23000', \"[23000] [Microsoft][ODBC Driver 17 for SQL Server][SQL Server]Violation of UNIQUE KEY constraint 'UQ__persons__AB6E616485DF55F9'. Cannot insert duplicate key in object 'hr.persons'. The duplicate key value is (j.doe@bike.stores). (2627) (SQLExecDirectW); [23000] [Microsoft][ODBC Driver 17 for SQL Server][SQL Server]The statement has been terminated. (3621)\")"
     ]
    }
   ],
   "source": [
    "cursor.execute('''\n",
    "INSERT INTO hr.persons(first_name, last_name, email)\n",
    "VALUES('Jane','Doe','j.doe@bike.stores');\n",
    "''')"
   ]
  },
  {
   "cell_type": "markdown",
   "id": "e663d29b-35c5-407a-b6dc-dec1cf3ed49a",
   "metadata": {},
   "source": [
    "Note the error - \"Violation of UNIQUE KEY constraint 'UQ__persons__AB6E616485DF55F9'. Cannot insert duplicate key in object 'hr.persons'. The duplicate key value is (j.doe@bike.stores).\""
   ]
  },
  {
   "cell_type": "markdown",
   "id": "b778107f-2315-4c4a-88f4-3ef76378f3dd",
   "metadata": {},
   "source": [
    "The following are the benefits of assigning a UNIQUE constraint a specific name:\n",
    "\n",
    "    It easier to classify the error message.\n",
    "    You can reference the constraint name when you want to modify it."
   ]
  },
  {
   "cell_type": "markdown",
   "id": "88e67eb9-3863-4c31-ad1b-6dff1e977b14",
   "metadata": {},
   "source": [
    "### CHECK"
   ]
  },
  {
   "cell_type": "code",
   "execution_count": 62,
   "id": "c51a9a41-4cfd-4113-b506-828e21e1d0a6",
   "metadata": {},
   "outputs": [
    {
     "data": {
      "text/plain": [
       "<pyodbc.Cursor at 0x22d5c6240b0>"
      ]
     },
     "execution_count": 62,
     "metadata": {},
     "output_type": "execute_result"
    }
   ],
   "source": [
    "cursor.execute('''\n",
    "\n",
    "CREATE TABLE hr.products(\n",
    "    product_id INT IDENTITY PRIMARY KEY,\n",
    "    product_name VARCHAR(255) NOT NULL,\n",
    "    unit_price DEC(10,2) CHECK(unit_price > 0)\n",
    ");\n",
    "''')"
   ]
  },
  {
   "cell_type": "markdown",
   "id": "041ceac4-d846-4fbf-b517-f9b7ea47577b",
   "metadata": {},
   "source": [
    "As you can see, the CHECK constraint definition comes after the data type. It consists of the keyword CHECK followed by a logical expression in parentheses:\n",
    "\n",
    "CHECK(unit_price > 0)"
   ]
  },
  {
   "cell_type": "raw",
   "id": "8b079176-0f01-4ddd-92a1-141df6833347",
   "metadata": {},
   "source": [
    "You can also assign the constraint a separate name by using the CONSTRAINT keyword as follows:\n",
    "\n",
    "CREATE TABLE test.products(\n",
    "    product_id INT IDENTITY PRIMARY KEY,\n",
    "    product_name VARCHAR(255) NOT NULL,\n",
    "    unit_price DEC(10,2) CONSTRAINT positive_price CHECK(unit_price > 0)\n",
    ");"
   ]
  },
  {
   "cell_type": "code",
   "execution_count": 64,
   "id": "c7ec8f8b-bd53-4172-89b4-a246fe118ee8",
   "metadata": {},
   "outputs": [
    {
     "ename": "IntegrityError",
     "evalue": "('23000', '[23000] [Microsoft][ODBC Driver 17 for SQL Server][SQL Server]The INSERT statement conflicted with the CHECK constraint \"CK__products__unit_p__5165187F\". The conflict occurred in database \"hr\", table \"hr.products\", column \\'unit_price\\'. (547) (SQLExecDirectW); [23000] [Microsoft][ODBC Driver 17 for SQL Server][SQL Server]The statement has been terminated. (3621)')",
     "output_type": "error",
     "traceback": [
      "\u001b[1;31m---------------------------------------------------------------------------\u001b[0m",
      "\u001b[1;31mIntegrityError\u001b[0m                            Traceback (most recent call last)",
      "Cell \u001b[1;32mIn[64], line 1\u001b[0m\n\u001b[1;32m----> 1\u001b[0m cursor\u001b[38;5;241m.\u001b[39mexecute(\u001b[38;5;124m'''\u001b[39m\n\u001b[0;32m      2\u001b[0m \u001b[38;5;124mINSERT INTO hr.products(product_name, unit_price)\u001b[39m\n\u001b[0;32m      3\u001b[0m \u001b[38;5;124mVALUES (\u001b[39m\u001b[38;5;124m'\u001b[39m\u001b[38;5;124mAwesome Free Bike\u001b[39m\u001b[38;5;124m'\u001b[39m\u001b[38;5;124m, 0);\u001b[39m\n\u001b[0;32m      4\u001b[0m \u001b[38;5;124m'''\u001b[39m)\n",
      "\u001b[1;31mIntegrityError\u001b[0m: ('23000', '[23000] [Microsoft][ODBC Driver 17 for SQL Server][SQL Server]The INSERT statement conflicted with the CHECK constraint \"CK__products__unit_p__5165187F\". The conflict occurred in database \"hr\", table \"hr.products\", column \\'unit_price\\'. (547) (SQLExecDirectW); [23000] [Microsoft][ODBC Driver 17 for SQL Server][SQL Server]The statement has been terminated. (3621)')"
     ]
    }
   ],
   "source": [
    "cursor.execute('''\n",
    "INSERT INTO hr.products(product_name, unit_price)\n",
    "VALUES ('Awesome Free Bike', 0);\n",
    "''')"
   ]
  },
  {
   "cell_type": "markdown",
   "id": "cb993ac5-e6e2-4155-a1a0-4f25730087af",
   "metadata": {},
   "source": [
    "Notice the error you get - The INSERT statement conflicted with the CHECK constraint \"CK__products__unit_p__5165187F\". The conflict occurred in database \"hr\", table \"hr.products\", column \\'unit_price\\'."
   ]
  },
  {
   "cell_type": "code",
   "execution_count": 66,
   "id": "6ff0d1a4-ab92-4fa1-acf1-4cf7aad013f5",
   "metadata": {},
   "outputs": [
    {
     "data": {
      "text/plain": [
       "<pyodbc.Cursor at 0x22d5c6240b0>"
      ]
     },
     "execution_count": 66,
     "metadata": {},
     "output_type": "execute_result"
    }
   ],
   "source": [
    "cursor.execute('''\n",
    "INSERT INTO hr.products(product_name, unit_price)\n",
    "VALUES ('Awesome Bike', 599);\n",
    "\n",
    "''')"
   ]
  },
  {
   "cell_type": "code",
   "execution_count": 67,
   "id": "10bc2349-e709-4dcf-a11b-ae94268b9734",
   "metadata": {},
   "outputs": [
    {
     "data": {
      "text/html": [
       "<div>\n",
       "<style scoped>\n",
       "    .dataframe tbody tr th:only-of-type {\n",
       "        vertical-align: middle;\n",
       "    }\n",
       "\n",
       "    .dataframe tbody tr th {\n",
       "        vertical-align: top;\n",
       "    }\n",
       "\n",
       "    .dataframe thead th {\n",
       "        text-align: right;\n",
       "    }\n",
       "</style>\n",
       "<table border=\"1\" class=\"dataframe\">\n",
       "  <thead>\n",
       "    <tr style=\"text-align: right;\">\n",
       "      <th></th>\n",
       "      <th>product_id</th>\n",
       "      <th>product_name</th>\n",
       "      <th>unit_price</th>\n",
       "    </tr>\n",
       "  </thead>\n",
       "  <tbody>\n",
       "    <tr>\n",
       "      <th>0</th>\n",
       "      <td>2</td>\n",
       "      <td>Awesome Bike</td>\n",
       "      <td>599.00</td>\n",
       "    </tr>\n",
       "  </tbody>\n",
       "</table>\n",
       "</div>"
      ],
      "text/plain": [
       "   product_id  product_name unit_price\n",
       "0           2  Awesome Bike     599.00"
      ]
     },
     "execution_count": 67,
     "metadata": {},
     "output_type": "execute_result"
    }
   ],
   "source": [
    "cursor.execute('''\n",
    "SELECT * FROM hr.products\n",
    "''')\n",
    "\n",
    "\n",
    "# Fetch all rows from the executed query\n",
    "rows = cursor.fetchall()\n",
    "\n",
    "# Get the column names\n",
    "columns = [column[0] for column in cursor.description]\n",
    "\n",
    "# Convert the rows into a list of dictionaries\n",
    "data = [dict(zip(columns, row)) for row in rows]\n",
    "\n",
    "# Create a DataFrame from the list of dictionaries\n",
    "df = pd.DataFrame(data)\n",
    "df.head(10)"
   ]
  },
  {
   "cell_type": "markdown",
   "id": "c07c5887-7133-4507-88d0-311cd88b1c80",
   "metadata": {},
   "source": [
    "We can ap[ply CHECK contraint to multiple columns"
   ]
  },
  {
   "cell_type": "code",
   "execution_count": 68,
   "id": "0863d89f-9da7-4bf9-8cd1-1f44c4b6981e",
   "metadata": {},
   "outputs": [
    {
     "data": {
      "text/plain": [
       "<pyodbc.Cursor at 0x22d5c6240b0>"
      ]
     },
     "execution_count": 68,
     "metadata": {},
     "output_type": "execute_result"
    }
   ],
   "source": [
    "cursor.execute('''\n",
    "CREATE TABLE hr.product_items(\n",
    "    product_id INT IDENTITY PRIMARY KEY,\n",
    "    product_name VARCHAR(255) NOT NULL,\n",
    "    unit_price DEC(10,2) CHECK(unit_price > 0),\n",
    "    discounted_price DEC(10,2) CHECK(discounted_price > 0),\n",
    "    CHECK(discounted_price < unit_price)\n",
    ");\n",
    "''')"
   ]
  },
  {
   "cell_type": "raw",
   "id": "7a4f2c45-c2d2-4216-a2ee-2ca6e238209b",
   "metadata": {},
   "source": [
    "Note that you can write column constraints as table constraints. However, you cannot write table constraints as column constraints. For example, you can rewrite the above statement as follows:\n",
    "\n",
    "CREATE TABLE test.products(\n",
    "    product_id INT IDENTITY PRIMARY KEY,\n",
    "    product_name VARCHAR(255) NOT NULL,\n",
    "    unit_price DEC(10,2),\n",
    "    discounted_price DEC(10,2),\n",
    "    CHECK(unit_price > 0),\n",
    "    CHECK(discounted_price > 0),\n",
    "    CHECK(discounted_price > unit_price)\n",
    ");"
   ]
  },
  {
   "cell_type": "raw",
   "id": "0af5671e-682f-44da-8538-e28d9ac5ecbd",
   "metadata": {},
   "source": [
    "or even:\n",
    "\n",
    "CREATE TABLE test.products(\n",
    "    product_id INT IDENTITY PRIMARY KEY,\n",
    "    product_name VARCHAR(255) NOT NULL,\n",
    "    unit_price DEC(10,2),\n",
    "    discounted_price DEC(10,2),\n",
    "    CHECK(unit_price > 0),\n",
    "    CHECK(discounted_price > 0 AND discounted_price > unit_price)\n",
    ");"
   ]
  },
  {
   "cell_type": "code",
   "execution_count": null,
   "id": "2779da5b-b585-4c29-8bee-34cde0029c8f",
   "metadata": {},
   "outputs": [],
   "source": []
  },
  {
   "cell_type": "code",
   "execution_count": null,
   "id": "8b0e114c-e6ec-4d9d-8e56-4b4ca405e900",
   "metadata": {},
   "outputs": [],
   "source": []
  }
 ],
 "metadata": {
  "kernelspec": {
   "display_name": "Python 3 (ipykernel)",
   "language": "python",
   "name": "python3"
  },
  "language_info": {
   "codemirror_mode": {
    "name": "ipython",
    "version": 3
   },
   "file_extension": ".py",
   "mimetype": "text/x-python",
   "name": "python",
   "nbconvert_exporter": "python",
   "pygments_lexer": "ipython3",
   "version": "3.12.7"
  }
 },
 "nbformat": 4,
 "nbformat_minor": 5
}
